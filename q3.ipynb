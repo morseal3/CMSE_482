{
 "cells": [
  {
   "cell_type": "markdown",
   "id": "a514a5c5",
   "metadata": {},
   "source": [
    "## Homework 1 - Mary Andrews"
   ]
  },
  {
   "cell_type": "markdown",
   "id": "26927c38",
   "metadata": {},
   "source": [
    "### Question 3"
   ]
  },
  {
   "cell_type": "code",
   "execution_count": 17,
   "id": "9811bfc3",
   "metadata": {},
   "outputs": [],
   "source": [
    "import tweepy\n",
    "from tweepy import OAuthHandler\n",
    "from tweepy import API"
   ]
  },
  {
   "cell_type": "code",
   "execution_count": 18,
   "id": "45535597",
   "metadata": {},
   "outputs": [],
   "source": [
    "C_KEY = 'RLovjwLKD3XhQILfo92UAP3qu'\n",
    "C_SECRET = '57Ax85Qz8k62bExvQNnu5hY2N0gpoL9smaZacyKdyMudoIF6Hz'\n",
    "A_TOKEN_KEY = '2347449271-6Wghdarac3qisfI6dWrjtA76gfrhJXUP1tWVU3x'\n",
    "A_TOKEN_SECRET = 'FcRK9IXDeKhXznWPZ3W5kwtEwCAWYn2wSsSeZk1OTjMBl'"
   ]
  },
  {
   "cell_type": "code",
   "execution_count": 19,
   "id": "a1a3231c",
   "metadata": {},
   "outputs": [],
   "source": [
    "import time\n",
    "from tweepy.streaming import Stream\n",
    "from tweepy import Stream\n",
    "import json"
   ]
  },
  {
   "cell_type": "code",
   "execution_count": 20,
   "id": "47dcf61b",
   "metadata": {},
   "outputs": [],
   "source": [
    "bear = \"AAAAAAAAAAAAAAAAAAAAADUQhAEAAAAA45KHNENAZWrr4JIkQpDS%2BceGg18%3D2W74tnvGfOf8YKJlRKWwLbWB25inzzx55PKOHy9YHzjXRtgeq7\""
   ]
  },
  {
   "cell_type": "markdown",
   "id": "33da4993",
   "metadata": {},
   "source": [
    "Tweets containing \"Michigan\""
   ]
  },
  {
   "cell_type": "code",
   "execution_count": 21,
   "id": "bcdd2204",
   "metadata": {},
   "outputs": [],
   "source": [
    "auth = tweepy.OAuthHandler(C_KEY, C_SECRET)\n",
    "auth.set_access_token(A_TOKEN_KEY, A_TOKEN_SECRET)\n",
    "api = tweepy.API(auth)"
   ]
  },
  {
   "cell_type": "code",
   "execution_count": 22,
   "id": "542dbc01",
   "metadata": {},
   "outputs": [
    {
     "name": "stderr",
     "output_type": "stream",
     "text": [
      "Stream connection closed by Twitter\n"
     ]
    }
   ],
   "source": [
    "import time\n",
    "from tweepy import OAuthHandler\n",
    "from tweepy import Stream\n",
    "\n",
    "class MyStreamingClient(tweepy.StreamingClient):\n",
    "    def __init__(self, bearer_token, time_limit=300):\n",
    "        self.start_time = time.time()\n",
    "        self.limit = time_limit\n",
    "        self.outFile = open('output.json', 'w')\n",
    "        super(MyStreamingClient, self).__init__(bearer_token)\n",
    "        \n",
    "    def on_data(self, data):\n",
    "        if (time.time() - self.start_time) < self.limit:\n",
    "            self.outFile.write(data.decode(\"utf-8\"))\n",
    "            self.outFile.write('\\n')\n",
    "            return True\n",
    "        else:\n",
    "            self.outFile.close()\n",
    "            self.disconnect()\n",
    "            return False\n",
    "\n",
    "    def on_error(self, status):\n",
    "        print(status)\n",
    "\n",
    "stream_client = MyStreamingClient(bearer_token=bear)\n",
    "stream_client.add_rules(tweepy.StreamRule('\"michigan\"'))\n",
    "stream_client.filter(tweet_fields=\"entities\")\n"
   ]
  },
  {
   "cell_type": "markdown",
   "id": "853943b3",
   "metadata": {},
   "source": [
    "Top five hashtags"
   ]
  },
  {
   "cell_type": "code",
   "execution_count": 24,
   "id": "5f6b4a1a",
   "metadata": {},
   "outputs": [],
   "source": [
    "import json\n",
    "\n",
    "f = open('output.json')"
   ]
  },
  {
   "cell_type": "code",
   "execution_count": 25,
   "id": "31dfefab",
   "metadata": {},
   "outputs": [],
   "source": [
    "tweets = [json.loads(line) for line in f]\n",
    "f.close()"
   ]
  },
  {
   "cell_type": "code",
   "execution_count": 56,
   "id": "3a387790",
   "metadata": {},
   "outputs": [
    {
     "data": {
      "text/plain": [
       "dict_keys(['annotations', 'mentions'])"
      ]
     },
     "execution_count": 56,
     "metadata": {},
     "output_type": "execute_result"
    }
   ],
   "source": [
    "tweets[1]['data']['entities'].keys()"
   ]
  },
  {
   "cell_type": "code",
   "execution_count": 43,
   "id": "d9ce4f71",
   "metadata": {},
   "outputs": [
    {
     "data": {
      "text/plain": [
       "[{'start': 121, 'end': 133, 'tag': 'GetHerThere'}]"
      ]
     },
     "execution_count": 43,
     "metadata": {},
     "output_type": "execute_result"
    }
   ],
   "source": [
    "tweets[0]['data']['entities']['hashtags']"
   ]
  },
  {
   "cell_type": "code",
   "execution_count": 63,
   "id": "e643f535",
   "metadata": {},
   "outputs": [],
   "source": [
    "\n",
    "\n",
    "counts = {}  # keep track of hashtag\n",
    "for tweet in tweets:\n",
    "    if 'hashtags' not in tweet['data']['entities']:\n",
    "        # No hashtag in this tweet go to next tweet\n",
    "        continue\n",
    "    for item in tweet['data']['entities']['hashtags']:\n",
    "        tag = item['tag']\n",
    "        counts[tag] = counts.get(tag, 0) + 1\n",
    "            \n"
   ]
  },
  {
   "cell_type": "code",
   "execution_count": 64,
   "id": "9756d556",
   "metadata": {},
   "outputs": [
    {
     "data": {
      "text/plain": [
       "[('news', 7),\n",
       " ('FoxNews', 8),\n",
       " ('VoteBlueIn2022', 9),\n",
       " ('Ethiopia', 11),\n",
       " ('politics', 14)]"
      ]
     },
     "execution_count": 64,
     "metadata": {},
     "output_type": "execute_result"
    }
   ],
   "source": [
    "import operator\n",
    "sorted_words = sorted(counts.items(), key=operator.itemgetter(1))\n",
    "sorted_words[-5:]"
   ]
  },
  {
   "cell_type": "code",
   "execution_count": null,
   "id": "6cf90adb",
   "metadata": {},
   "outputs": [],
   "source": []
  }
 ],
 "metadata": {
  "kernelspec": {
   "display_name": "Python 3",
   "language": "python",
   "name": "python3"
  },
  "language_info": {
   "codemirror_mode": {
    "name": "ipython",
    "version": 3
   },
   "file_extension": ".py",
   "mimetype": "text/x-python",
   "name": "python",
   "nbconvert_exporter": "python",
   "pygments_lexer": "ipython3",
   "version": "3.8.8"
  }
 },
 "nbformat": 4,
 "nbformat_minor": 5
}

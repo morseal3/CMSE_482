{
 "cells": [
  {
   "cell_type": "code",
   "execution_count": 2,
   "metadata": {},
   "outputs": [
    {
     "data": {
      "text/html": [
       "<div>\n",
       "<table border=\"1\" class=\"dataframe\">\n",
       "  <thead>\n",
       "    <tr style=\"text-align: right;\">\n",
       "      <th></th>\n",
       "      <th>preg</th>\n",
       "      <th>plas</th>\n",
       "      <th>pres</th>\n",
       "      <th>skin</th>\n",
       "      <th>insu</th>\n",
       "      <th>mass</th>\n",
       "      <th>pedi</th>\n",
       "      <th>age</th>\n",
       "      <th>class</th>\n",
       "    </tr>\n",
       "  </thead>\n",
       "  <tbody>\n",
       "    <tr>\n",
       "      <th>0</th>\n",
       "      <td>6</td>\n",
       "      <td>148</td>\n",
       "      <td>72</td>\n",
       "      <td>35</td>\n",
       "      <td>0</td>\n",
       "      <td>33.6</td>\n",
       "      <td>0.627</td>\n",
       "      <td>50</td>\n",
       "      <td>tested_positive</td>\n",
       "    </tr>\n",
       "    <tr>\n",
       "      <th>1</th>\n",
       "      <td>1</td>\n",
       "      <td>85</td>\n",
       "      <td>66</td>\n",
       "      <td>29</td>\n",
       "      <td>0</td>\n",
       "      <td>26.6</td>\n",
       "      <td>0.351</td>\n",
       "      <td>31</td>\n",
       "      <td>tested_negative</td>\n",
       "    </tr>\n",
       "    <tr>\n",
       "      <th>2</th>\n",
       "      <td>8</td>\n",
       "      <td>183</td>\n",
       "      <td>64</td>\n",
       "      <td>0</td>\n",
       "      <td>0</td>\n",
       "      <td>23.3</td>\n",
       "      <td>0.672</td>\n",
       "      <td>32</td>\n",
       "      <td>tested_positive</td>\n",
       "    </tr>\n",
       "  </tbody>\n",
       "</table>\n",
       "</div>"
      ],
      "text/plain": [
       "   preg  plas  pres  skin  insu  mass   pedi  age            class\n",
       "0     6   148    72    35     0  33.6  0.627   50  tested_positive\n",
       "1     1    85    66    29     0  26.6  0.351   31  tested_negative\n",
       "2     8   183    64     0     0  23.3  0.672   32  tested_positive"
      ]
     },
     "execution_count": 2,
     "metadata": {},
     "output_type": "execute_result"
    }
   ],
   "source": [
    "import pandas as p\n",
    "data = p.read_csv('diabetes.csv', header='infer')\n",
    "data[:3]"
   ]
  },
  {
   "cell_type": "code",
   "execution_count": 13,
   "metadata": {},
   "outputs": [
    {
     "data": {
      "text/html": [
       "<div>\n",
       "<table border=\"1\" class=\"dataframe\">\n",
       "  <thead>\n",
       "    <tr style=\"text-align: right;\">\n",
       "      <th></th>\n",
       "      <th>preg</th>\n",
       "      <th>plas</th>\n",
       "      <th>pres</th>\n",
       "      <th>skin</th>\n",
       "      <th>insu</th>\n",
       "      <th>mass</th>\n",
       "      <th>pedi</th>\n",
       "      <th>age</th>\n",
       "      <th>class</th>\n",
       "    </tr>\n",
       "  </thead>\n",
       "  <tbody>\n",
       "    <tr>\n",
       "      <th>575</th>\n",
       "      <td>1</td>\n",
       "      <td>119</td>\n",
       "      <td>44</td>\n",
       "      <td>47</td>\n",
       "      <td>63</td>\n",
       "      <td>35.5</td>\n",
       "      <td>0.280</td>\n",
       "      <td>25</td>\n",
       "      <td>tested_negative</td>\n",
       "    </tr>\n",
       "    <tr>\n",
       "      <th>735</th>\n",
       "      <td>4</td>\n",
       "      <td>95</td>\n",
       "      <td>60</td>\n",
       "      <td>32</td>\n",
       "      <td>0</td>\n",
       "      <td>35.4</td>\n",
       "      <td>0.284</td>\n",
       "      <td>28</td>\n",
       "      <td>tested_negative</td>\n",
       "    </tr>\n",
       "    <tr>\n",
       "      <th>90</th>\n",
       "      <td>1</td>\n",
       "      <td>80</td>\n",
       "      <td>55</td>\n",
       "      <td>0</td>\n",
       "      <td>0</td>\n",
       "      <td>19.1</td>\n",
       "      <td>0.258</td>\n",
       "      <td>21</td>\n",
       "      <td>tested_negative</td>\n",
       "    </tr>\n",
       "  </tbody>\n",
       "</table>\n",
       "</div>"
      ],
      "text/plain": [
       "     preg  plas  pres  skin  insu  mass   pedi  age            class\n",
       "575     1   119    44    47    63  35.5  0.280   25  tested_negative\n",
       "735     4    95    60    32     0  35.4  0.284   28  tested_negative\n",
       "90      1    80    55     0     0  19.1  0.258   21  tested_negative"
      ]
     },
     "execution_count": 13,
     "metadata": {},
     "output_type": "execute_result"
    }
   ],
   "source": [
    "sample = data.sample(n=3)\n",
    "sample"
   ]
  },
  {
   "cell_type": "code",
   "execution_count": 14,
   "metadata": {},
   "outputs": [
    {
     "data": {
      "text/html": [
       "<div>\n",
       "<table border=\"1\" class=\"dataframe\">\n",
       "  <thead>\n",
       "    <tr style=\"text-align: right;\">\n",
       "      <th></th>\n",
       "      <th>preg</th>\n",
       "      <th>plas</th>\n",
       "      <th>pres</th>\n",
       "      <th>skin</th>\n",
       "      <th>insu</th>\n",
       "      <th>mass</th>\n",
       "      <th>pedi</th>\n",
       "      <th>age</th>\n",
       "      <th>class</th>\n",
       "    </tr>\n",
       "  </thead>\n",
       "  <tbody>\n",
       "    <tr>\n",
       "      <th>331</th>\n",
       "      <td>2</td>\n",
       "      <td>87</td>\n",
       "      <td>58</td>\n",
       "      <td>16</td>\n",
       "      <td>52</td>\n",
       "      <td>32.7</td>\n",
       "      <td>0.166</td>\n",
       "      <td>25</td>\n",
       "      <td>tested_negative</td>\n",
       "    </tr>\n",
       "    <tr>\n",
       "      <th>586</th>\n",
       "      <td>8</td>\n",
       "      <td>143</td>\n",
       "      <td>66</td>\n",
       "      <td>0</td>\n",
       "      <td>0</td>\n",
       "      <td>34.9</td>\n",
       "      <td>0.129</td>\n",
       "      <td>41</td>\n",
       "      <td>tested_positive</td>\n",
       "    </tr>\n",
       "    <tr>\n",
       "      <th>176</th>\n",
       "      <td>6</td>\n",
       "      <td>85</td>\n",
       "      <td>78</td>\n",
       "      <td>0</td>\n",
       "      <td>0</td>\n",
       "      <td>31.2</td>\n",
       "      <td>0.382</td>\n",
       "      <td>42</td>\n",
       "      <td>tested_negative</td>\n",
       "    </tr>\n",
       "    <tr>\n",
       "      <th>55</th>\n",
       "      <td>1</td>\n",
       "      <td>73</td>\n",
       "      <td>50</td>\n",
       "      <td>10</td>\n",
       "      <td>0</td>\n",
       "      <td>23.0</td>\n",
       "      <td>0.248</td>\n",
       "      <td>21</td>\n",
       "      <td>tested_negative</td>\n",
       "    </tr>\n",
       "  </tbody>\n",
       "</table>\n",
       "</div>"
      ],
      "text/plain": [
       "     preg  plas  pres  skin  insu  mass   pedi  age            class\n",
       "331     2    87    58    16    52  32.7  0.166   25  tested_negative\n",
       "586     8   143    66     0     0  34.9  0.129   41  tested_positive\n",
       "176     6    85    78     0     0  31.2  0.382   42  tested_negative\n",
       "55      1    73    50    10     0  23.0  0.248   21  tested_negative"
      ]
     },
     "execution_count": 14,
     "metadata": {},
     "output_type": "execute_result"
    }
   ],
   "source": [
    "sample = data.sample(frac=0.005)\n",
    "sample"
   ]
  },
  {
   "cell_type": "markdown",
   "metadata": {},
   "source": [
    "# Discretization"
   ]
  },
  {
   "cell_type": "code",
   "execution_count": 40,
   "metadata": {},
   "outputs": [
    {
     "data": {
      "text/plain": [
       "count    768.000000\n",
       "mean      31.992578\n",
       "std        7.884160\n",
       "min        0.000000\n",
       "25%       27.300000\n",
       "50%       32.000000\n",
       "75%       36.600000\n",
       "max       67.100000\n",
       "Name: mass, dtype: float64"
      ]
     },
     "execution_count": 40,
     "metadata": {},
     "output_type": "execute_result"
    }
   ],
   "source": [
    "data.mass.describe()"
   ]
  },
  {
   "cell_type": "code",
   "execution_count": 46,
   "metadata": {},
   "outputs": [
    {
     "data": {
      "text/plain": [
       "0    (26.84, 40.26]\n",
       "1    (13.42, 26.84]\n",
       "2    (13.42, 26.84]\n",
       "3    (26.84, 40.26]\n",
       "4    (40.26, 53.68]\n",
       "Name: mass, dtype: category\n",
       "Categories (5, object): [(-0.0671, 13.42] < (13.42, 26.84] < (26.84, 40.26] < (40.26, 53.68] < (53.68, 67.1]]"
      ]
     },
     "execution_count": 46,
     "metadata": {},
     "output_type": "execute_result"
    }
   ],
   "source": [
    "bins = p.cut(data.mass,5)\n",
    "bins.head()"
   ]
  },
  {
   "cell_type": "code",
   "execution_count": 47,
   "metadata": {},
   "outputs": [
    {
     "data": {
      "text/plain": [
       "0      (32, 36.6]\n",
       "1       [0, 27.3]\n",
       "2       [0, 27.3]\n",
       "3      (27.3, 32]\n",
       "4    (36.6, 67.1]\n",
       "Name: mass, dtype: category\n",
       "Categories (4, object): [[0, 27.3] < (27.3, 32] < (32, 36.6] < (36.6, 67.1]]"
      ]
     },
     "execution_count": 47,
     "metadata": {},
     "output_type": "execute_result"
    }
   ],
   "source": [
    "bins = p.qcut(data.mass,[0,0.25,0.5,0.75,1])\n",
    "bins.head()"
   ]
  },
  {
   "cell_type": "markdown",
   "metadata": {},
   "source": [
    "# Principal Component Analysis"
   ]
  },
  {
   "cell_type": "code",
   "execution_count": 1,
   "metadata": {},
   "outputs": [
    {
     "data": {
      "text/html": [
       "<div>\n",
       "<table border=\"1\" class=\"dataframe\">\n",
       "  <thead>\n",
       "    <tr style=\"text-align: right;\">\n",
       "      <th></th>\n",
       "      <th>age</th>\n",
       "      <th>membershipYears</th>\n",
       "      <th>numberOfFriends</th>\n",
       "      <th>AmountSpent</th>\n",
       "      <th>NumPurchases</th>\n",
       "    </tr>\n",
       "  </thead>\n",
       "  <tbody>\n",
       "    <tr>\n",
       "      <th>0</th>\n",
       "      <td>21</td>\n",
       "      <td>2</td>\n",
       "      <td>5</td>\n",
       "      <td>100</td>\n",
       "      <td>2</td>\n",
       "    </tr>\n",
       "    <tr>\n",
       "      <th>1</th>\n",
       "      <td>38</td>\n",
       "      <td>0</td>\n",
       "      <td>10</td>\n",
       "      <td>10</td>\n",
       "      <td>1</td>\n",
       "    </tr>\n",
       "    <tr>\n",
       "      <th>2</th>\n",
       "      <td>18</td>\n",
       "      <td>0</td>\n",
       "      <td>5</td>\n",
       "      <td>25</td>\n",
       "      <td>1</td>\n",
       "    </tr>\n",
       "    <tr>\n",
       "      <th>3</th>\n",
       "      <td>19</td>\n",
       "      <td>5</td>\n",
       "      <td>30</td>\n",
       "      <td>1000</td>\n",
       "      <td>25</td>\n",
       "    </tr>\n",
       "    <tr>\n",
       "      <th>4</th>\n",
       "      <td>24</td>\n",
       "      <td>0</td>\n",
       "      <td>2</td>\n",
       "      <td>50</td>\n",
       "      <td>3</td>\n",
       "    </tr>\n",
       "    <tr>\n",
       "      <th>5</th>\n",
       "      <td>29</td>\n",
       "      <td>2</td>\n",
       "      <td>20</td>\n",
       "      <td>200</td>\n",
       "      <td>7</td>\n",
       "    </tr>\n",
       "    <tr>\n",
       "      <th>6</th>\n",
       "      <td>30</td>\n",
       "      <td>4</td>\n",
       "      <td>5</td>\n",
       "      <td>1500</td>\n",
       "      <td>15</td>\n",
       "    </tr>\n",
       "    <tr>\n",
       "      <th>7</th>\n",
       "      <td>31</td>\n",
       "      <td>2</td>\n",
       "      <td>70</td>\n",
       "      <td>150</td>\n",
       "      <td>5</td>\n",
       "    </tr>\n",
       "    <tr>\n",
       "      <th>8</th>\n",
       "      <td>40</td>\n",
       "      <td>0</td>\n",
       "      <td>11</td>\n",
       "      <td>70</td>\n",
       "      <td>4</td>\n",
       "    </tr>\n",
       "    <tr>\n",
       "      <th>9</th>\n",
       "      <td>44</td>\n",
       "      <td>0</td>\n",
       "      <td>8</td>\n",
       "      <td>10</td>\n",
       "      <td>1</td>\n",
       "    </tr>\n",
       "    <tr>\n",
       "      <th>10</th>\n",
       "      <td>55</td>\n",
       "      <td>1</td>\n",
       "      <td>2</td>\n",
       "      <td>80</td>\n",
       "      <td>3</td>\n",
       "    </tr>\n",
       "    <tr>\n",
       "      <th>11</th>\n",
       "      <td>64</td>\n",
       "      <td>1</td>\n",
       "      <td>0</td>\n",
       "      <td>30</td>\n",
       "      <td>1</td>\n",
       "    </tr>\n",
       "  </tbody>\n",
       "</table>\n",
       "</div>"
      ],
      "text/plain": [
       "    age  membershipYears  numberOfFriends  AmountSpent  NumPurchases\n",
       "0    21                2                5          100             2\n",
       "1    38                0               10           10             1\n",
       "2    18                0                5           25             1\n",
       "3    19                5               30         1000            25\n",
       "4    24                0                2           50             3\n",
       "5    29                2               20          200             7\n",
       "6    30                4                5         1500            15\n",
       "7    31                2               70          150             5\n",
       "8    40                0               11           70             4\n",
       "9    44                0                8           10             1\n",
       "10   55                1                2           80             3\n",
       "11   64                1                0           30             1"
      ]
     },
     "execution_count": 1,
     "metadata": {},
     "output_type": "execute_result"
    }
   ],
   "source": [
    "import pandas as p\n",
    "data = p.read_csv('buy.csv', header='infer')\n",
    "data"
   ]
  },
  {
   "cell_type": "code",
   "execution_count": 2,
   "metadata": {},
   "outputs": [
    {
     "data": {
      "text/html": [
       "<div>\n",
       "<table border=\"1\" class=\"dataframe\">\n",
       "  <thead>\n",
       "    <tr style=\"text-align: right;\">\n",
       "      <th></th>\n",
       "      <th>age</th>\n",
       "      <th>membershipYears</th>\n",
       "      <th>numberOfFriends</th>\n",
       "      <th>AmountSpent</th>\n",
       "      <th>NumPurchases</th>\n",
       "    </tr>\n",
       "  </thead>\n",
       "  <tbody>\n",
       "    <tr>\n",
       "      <th>age</th>\n",
       "      <td>1.000000</td>\n",
       "      <td>-0.334731</td>\n",
       "      <td>-0.253233</td>\n",
       "      <td>-0.303731</td>\n",
       "      <td>-0.393919</td>\n",
       "    </tr>\n",
       "    <tr>\n",
       "      <th>membershipYears</th>\n",
       "      <td>-0.334731</td>\n",
       "      <td>1.000000</td>\n",
       "      <td>0.343459</td>\n",
       "      <td>0.851307</td>\n",
       "      <td>0.900591</td>\n",
       "    </tr>\n",
       "    <tr>\n",
       "      <th>numberOfFriends</th>\n",
       "      <td>-0.253233</td>\n",
       "      <td>0.343459</td>\n",
       "      <td>1.000000</td>\n",
       "      <td>0.085086</td>\n",
       "      <td>0.288885</td>\n",
       "    </tr>\n",
       "    <tr>\n",
       "      <th>AmountSpent</th>\n",
       "      <td>-0.303731</td>\n",
       "      <td>0.851307</td>\n",
       "      <td>0.085086</td>\n",
       "      <td>1.000000</td>\n",
       "      <td>0.853188</td>\n",
       "    </tr>\n",
       "    <tr>\n",
       "      <th>NumPurchases</th>\n",
       "      <td>-0.393919</td>\n",
       "      <td>0.900591</td>\n",
       "      <td>0.288885</td>\n",
       "      <td>0.853188</td>\n",
       "      <td>1.000000</td>\n",
       "    </tr>\n",
       "  </tbody>\n",
       "</table>\n",
       "</div>"
      ],
      "text/plain": [
       "                      age  membershipYears  numberOfFriends  AmountSpent  \\\n",
       "age              1.000000        -0.334731        -0.253233    -0.303731   \n",
       "membershipYears -0.334731         1.000000         0.343459     0.851307   \n",
       "numberOfFriends -0.253233         0.343459         1.000000     0.085086   \n",
       "AmountSpent     -0.303731         0.851307         0.085086     1.000000   \n",
       "NumPurchases    -0.393919         0.900591         0.288885     0.853188   \n",
       "\n",
       "                 NumPurchases  \n",
       "age                 -0.393919  \n",
       "membershipYears      0.900591  \n",
       "numberOfFriends      0.288885  \n",
       "AmountSpent          0.853188  \n",
       "NumPurchases         1.000000  "
      ]
     },
     "execution_count": 2,
     "metadata": {},
     "output_type": "execute_result"
    }
   ],
   "source": [
    "data.corr()"
   ]
  },
  {
   "cell_type": "code",
   "execution_count": 29,
   "metadata": {},
   "outputs": [
    {
     "data": {
      "text/html": [
       "<div>\n",
       "<table border=\"1\" class=\"dataframe\">\n",
       "  <thead>\n",
       "    <tr style=\"text-align: right;\">\n",
       "      <th></th>\n",
       "      <th>pc1</th>\n",
       "      <th>pc2</th>\n",
       "    </tr>\n",
       "  </thead>\n",
       "  <tbody>\n",
       "    <tr>\n",
       "      <th>0</th>\n",
       "      <td>168.680257</td>\n",
       "      <td>3.738699</td>\n",
       "    </tr>\n",
       "    <tr>\n",
       "      <th>1</th>\n",
       "      <td>258.826567</td>\n",
       "      <td>3.412064</td>\n",
       "    </tr>\n",
       "    <tr>\n",
       "      <th>2</th>\n",
       "      <td>243.661156</td>\n",
       "      <td>2.452026</td>\n",
       "    </tr>\n",
       "    <tr>\n",
       "      <th>3</th>\n",
       "      <td>-731.610997</td>\n",
       "      <td>-16.175841</td>\n",
       "    </tr>\n",
       "    <tr>\n",
       "      <th>4</th>\n",
       "      <td>218.704586</td>\n",
       "      <td>7.067655</td>\n",
       "    </tr>\n",
       "    <tr>\n",
       "      <th>5</th>\n",
       "      <td>68.649959</td>\n",
       "      <td>-7.919821</td>\n",
       "    </tr>\n",
       "    <tr>\n",
       "      <th>6</th>\n",
       "      <td>-1231.217724</td>\n",
       "      <td>15.348058</td>\n",
       "    </tr>\n",
       "    <tr>\n",
       "      <th>7</th>\n",
       "      <td>118.511454</td>\n",
       "      <td>-55.146559</td>\n",
       "    </tr>\n",
       "    <tr>\n",
       "      <th>8</th>\n",
       "      <td>198.810667</td>\n",
       "      <td>3.219743</td>\n",
       "    </tr>\n",
       "    <tr>\n",
       "      <th>9</th>\n",
       "      <td>258.889152</td>\n",
       "      <td>7.066049</td>\n",
       "    </tr>\n",
       "    <tr>\n",
       "      <th>10</th>\n",
       "      <td>188.992684</td>\n",
       "      <td>16.299912</td>\n",
       "    </tr>\n",
       "    <tr>\n",
       "      <th>11</th>\n",
       "      <td>239.102238</td>\n",
       "      <td>20.638014</td>\n",
       "    </tr>\n",
       "  </tbody>\n",
       "</table>\n",
       "</div>"
      ],
      "text/plain": [
       "            pc1        pc2\n",
       "0    168.680257   3.738699\n",
       "1    258.826567   3.412064\n",
       "2    243.661156   2.452026\n",
       "3   -731.610997 -16.175841\n",
       "4    218.704586   7.067655\n",
       "5     68.649959  -7.919821\n",
       "6  -1231.217724  15.348058\n",
       "7    118.511454 -55.146559\n",
       "8    198.810667   3.219743\n",
       "9    258.889152   7.066049\n",
       "10   188.992684  16.299912\n",
       "11   239.102238  20.638014"
      ]
     },
     "execution_count": 29,
     "metadata": {},
     "output_type": "execute_result"
    }
   ],
   "source": [
    "from numpy import linalg,mean,dot\n",
    "from pandas import DataFrame\n",
    "\n",
    "numComponents = 2\n",
    "\n",
    "cov = data.cov().as_matrix()\n",
    "A = data.as_matrix()\n",
    "[eigv, pc] = linalg.eig(cov)\n",
    "M = (A-mean(A.T,axis=1)).T\n",
    "projected = dot(pc.T,M).T\n",
    "projected = DataFrame(projected[:,:numComponents],columns=['pc1','pc2'])\n",
    "projected"
   ]
  },
  {
   "cell_type": "code",
   "execution_count": 30,
   "metadata": {},
   "outputs": [
    {
     "data": {
      "text/plain": [
       "<matplotlib.axes._subplots.AxesSubplot at 0xd0d4940>"
      ]
     },
     "execution_count": 30,
     "metadata": {},
     "output_type": "execute_result"
    },
    {
     "data": {
      "image/png": "[encoded data removed]",
      "text/plain": [
       "<matplotlib.figure.Figure at 0xd4feb00>"
      ]
     },
     "metadata": {},
     "output_type": "display_data"
    }
   ],
   "source": [
    "%matplotlib inline\n",
    "\n",
    "projected.plot(kind='scatter',x='pc1',y='pc2')"
   ]
  },
  {
   "cell_type": "code",
   "execution_count": 31,
   "metadata": {},
   "outputs": [
    {
     "data": {
      "text/plain": [
       "array([[ 0.00925599,  0.29153545],\n",
       "       [-0.00301099, -0.02282163],\n",
       "       [-0.00352437, -0.95238638],\n",
       "       [-0.99986089,  0.0072493 ],\n",
       "       [-0.01307821, -0.08598769]])"
      ]
     },
     "execution_count": 31,
     "metadata": {},
     "output_type": "execute_result"
    }
   ],
   "source": [
    "pc[:,:numComponents]"
   ]
  },
  {
   "cell_type": "code",
   "execution_count": 37,
   "metadata": {},
   "outputs": [
    {
     "data": {
      "text/plain": [
       "<matplotlib.text.Text at 0xeefcbe0>"
      ]
     },
     "execution_count": 37,
     "metadata": {},
     "output_type": "execute_result"
    },
    {
     "data": {
      "image/png": "[encoded data removed]",
      "text/plain": [
       "<matplotlib.figure.Figure at 0xee40630>"
      ]
     },
     "metadata": {},
     "output_type": "display_data"
    }
   ],
   "source": [
    "%matplotlib inline\n",
    "import matplotlib.pyplot as plt\n",
    "from pandas import Series\n",
    "\n",
    "fig,axes = plt.subplots(2,1,sharex=True)\n",
    "attrib = list(data)         # get attribute names\n",
    "pcdata  = Series(pc[:,0], index=attrib)\n",
    "pcdata.plot(kind='barh',ax=axes[0],color='k',alpha=0.7)\n",
    "q\n",
    "pcdata  = Series(pc[:,1], index=attrib)\n",
    "pcdata.plot(kind='barh',ax=axes[1],color='k',alpha=0.7)\n",
    "axes[1].set_title(r'2nd PC', size = 'x-large')"
   ]
  },
  {
   "cell_type": "code",
   "execution_count": null,
   "metadata": {
    "collapsed": true
   },
   "outputs": [],
   "source": []
  }
 ],
 "metadata": {
  "kernelspec": {
   "display_name": "Python 3",
   "language": "python",
   "name": "python3"
  },
  "language_info": {
   "codemirror_mode": {
    "name": "ipython",
    "version": 3
   },
   "file_extension": ".py",
   "mimetype": "text/x-python",
   "name": "python",
   "nbconvert_exporter": "python",
   "pygments_lexer": "ipython3",
   "version": "3.8.8"
  }
 },
 "nbformat": 4,
 "nbformat_minor": 1
}

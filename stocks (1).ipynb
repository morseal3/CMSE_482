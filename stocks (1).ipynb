{
 "cells": [
  {
   "cell_type": "code",
   "execution_count": 1,
   "id": "d648b8e0",
   "metadata": {},
   "outputs": [],
   "source": [
    "import pandas as pd\n",
    "import numpy as np\n",
    "from pandas import Series"
   ]
  },
  {
   "cell_type": "markdown",
   "id": "de42ba7e",
   "metadata": {},
   "source": [
    "#### Download the stock market data set, stock.zip, from the class web site. The zip file contains the prices of stocks for 9 publicly \n",
    "\n",
    "#### traded companies in the following sectors: finance and banking (BAC, C, and WFC), automobile industry (F, TYM, and HMC), and \n",
    "\n",
    "#### computer technology (AAPL,GOOG, and MSFT). Write an ipython notebook named stocks.ipynb that performs the following:"
   ]
  },
  {
   "cell_type": "code",
   "execution_count": 2,
   "id": "1d76ece3",
   "metadata": {},
   "outputs": [
    {
     "data": {
      "text/html": [
       "<div>\n",
       "<style scoped>\n",
       "    .dataframe tbody tr th:only-of-type {\n",
       "        vertical-align: middle;\n",
       "    }\n",
       "\n",
       "    .dataframe tbody tr th {\n",
       "        vertical-align: top;\n",
       "    }\n",
       "\n",
       "    .dataframe thead th {\n",
       "        text-align: right;\n",
       "    }\n",
       "</style>\n",
       "<table border=\"1\" class=\"dataframe\">\n",
       "  <thead>\n",
       "    <tr style=\"text-align: right;\">\n",
       "      <th></th>\n",
       "      <th>Date</th>\n",
       "      <th>Open</th>\n",
       "      <th>High</th>\n",
       "      <th>Low</th>\n",
       "      <th>Close</th>\n",
       "      <th>Volume</th>\n",
       "      <th>Adj Close</th>\n",
       "    </tr>\n",
       "  </thead>\n",
       "  <tbody>\n",
       "    <tr>\n",
       "      <th>0</th>\n",
       "      <td>2016-12-30</td>\n",
       "      <td>116.650002</td>\n",
       "      <td>117.199997</td>\n",
       "      <td>115.430000</td>\n",
       "      <td>115.820000</td>\n",
       "      <td>30253100</td>\n",
       "      <td>115.820000</td>\n",
       "    </tr>\n",
       "    <tr>\n",
       "      <th>1</th>\n",
       "      <td>2016-12-29</td>\n",
       "      <td>116.449997</td>\n",
       "      <td>117.110001</td>\n",
       "      <td>116.400002</td>\n",
       "      <td>116.730003</td>\n",
       "      <td>14963300</td>\n",
       "      <td>116.730003</td>\n",
       "    </tr>\n",
       "    <tr>\n",
       "      <th>2</th>\n",
       "      <td>2016-12-28</td>\n",
       "      <td>117.519997</td>\n",
       "      <td>118.019997</td>\n",
       "      <td>116.199997</td>\n",
       "      <td>116.760002</td>\n",
       "      <td>20582000</td>\n",
       "      <td>116.760002</td>\n",
       "    </tr>\n",
       "    <tr>\n",
       "      <th>3</th>\n",
       "      <td>2016-12-27</td>\n",
       "      <td>116.519997</td>\n",
       "      <td>117.800003</td>\n",
       "      <td>116.489998</td>\n",
       "      <td>117.260002</td>\n",
       "      <td>18071900</td>\n",
       "      <td>117.260002</td>\n",
       "    </tr>\n",
       "    <tr>\n",
       "      <th>4</th>\n",
       "      <td>2016-12-23</td>\n",
       "      <td>115.589996</td>\n",
       "      <td>116.519997</td>\n",
       "      <td>115.589996</td>\n",
       "      <td>116.519997</td>\n",
       "      <td>14181200</td>\n",
       "      <td>116.519997</td>\n",
       "    </tr>\n",
       "    <tr>\n",
       "      <th>...</th>\n",
       "      <td>...</td>\n",
       "      <td>...</td>\n",
       "      <td>...</td>\n",
       "      <td>...</td>\n",
       "      <td>...</td>\n",
       "      <td>...</td>\n",
       "      <td>...</td>\n",
       "    </tr>\n",
       "    <tr>\n",
       "      <th>2513</th>\n",
       "      <td>2007-01-09</td>\n",
       "      <td>86.450003</td>\n",
       "      <td>92.979999</td>\n",
       "      <td>85.150000</td>\n",
       "      <td>92.570003</td>\n",
       "      <td>837324600</td>\n",
       "      <td>12.045326</td>\n",
       "    </tr>\n",
       "    <tr>\n",
       "      <th>2514</th>\n",
       "      <td>2007-01-08</td>\n",
       "      <td>85.959998</td>\n",
       "      <td>86.529998</td>\n",
       "      <td>85.280003</td>\n",
       "      <td>85.470000</td>\n",
       "      <td>199276700</td>\n",
       "      <td>11.121465</td>\n",
       "    </tr>\n",
       "    <tr>\n",
       "      <th>2515</th>\n",
       "      <td>2007-01-05</td>\n",
       "      <td>85.770000</td>\n",
       "      <td>86.199997</td>\n",
       "      <td>84.400002</td>\n",
       "      <td>85.049997</td>\n",
       "      <td>208685400</td>\n",
       "      <td>11.066813</td>\n",
       "    </tr>\n",
       "    <tr>\n",
       "      <th>2516</th>\n",
       "      <td>2007-01-04</td>\n",
       "      <td>84.050001</td>\n",
       "      <td>85.949998</td>\n",
       "      <td>83.820003</td>\n",
       "      <td>85.659998</td>\n",
       "      <td>211815100</td>\n",
       "      <td>11.146187</td>\n",
       "    </tr>\n",
       "    <tr>\n",
       "      <th>2517</th>\n",
       "      <td>2007-01-03</td>\n",
       "      <td>86.289999</td>\n",
       "      <td>86.579999</td>\n",
       "      <td>81.899999</td>\n",
       "      <td>83.800002</td>\n",
       "      <td>309579900</td>\n",
       "      <td>10.904162</td>\n",
       "    </tr>\n",
       "  </tbody>\n",
       "</table>\n",
       "<p>2518 rows × 7 columns</p>\n",
       "</div>"
      ],
      "text/plain": [
       "            Date        Open        High         Low       Close     Volume  \\\n",
       "0     2016-12-30  116.650002  117.199997  115.430000  115.820000   30253100   \n",
       "1     2016-12-29  116.449997  117.110001  116.400002  116.730003   14963300   \n",
       "2     2016-12-28  117.519997  118.019997  116.199997  116.760002   20582000   \n",
       "3     2016-12-27  116.519997  117.800003  116.489998  117.260002   18071900   \n",
       "4     2016-12-23  115.589996  116.519997  115.589996  116.519997   14181200   \n",
       "...          ...         ...         ...         ...         ...        ...   \n",
       "2513  2007-01-09   86.450003   92.979999   85.150000   92.570003  837324600   \n",
       "2514  2007-01-08   85.959998   86.529998   85.280003   85.470000  199276700   \n",
       "2515  2007-01-05   85.770000   86.199997   84.400002   85.049997  208685400   \n",
       "2516  2007-01-04   84.050001   85.949998   83.820003   85.659998  211815100   \n",
       "2517  2007-01-03   86.289999   86.579999   81.899999   83.800002  309579900   \n",
       "\n",
       "       Adj Close  \n",
       "0     115.820000  \n",
       "1     116.730003  \n",
       "2     116.760002  \n",
       "3     117.260002  \n",
       "4     116.519997  \n",
       "...          ...  \n",
       "2513   12.045326  \n",
       "2514   11.121465  \n",
       "2515   11.066813  \n",
       "2516   11.146187  \n",
       "2517   10.904162  \n",
       "\n",
       "[2518 rows x 7 columns]"
      ]
     },
     "execution_count": 2,
     "metadata": {},
     "output_type": "execute_result"
    }
   ],
   "source": [
    "aapl = pd.read_csv('aapl.csv')\n",
    "goog = pd.read_csv('goog.csv')\n",
    "msft = pd.read_csv('msft.csv')\n",
    "\n",
    "f = pd.read_csv('f.csv')\n",
    "tym = pd.read_csv('tym.csv')\n",
    "hmc = pd.read_csv('hmc.csv')\n",
    "\n",
    "bac = pd.read_csv('bac.csv')\n",
    "c = pd.read_csv('c.csv')\n",
    "wfc = pd.read_csv('wfc.csv')\n",
    "aapl"
   ]
  },
  {
   "cell_type": "markdown",
   "id": "a2e9cf85",
   "metadata": {},
   "source": [
    "(b) For each stock, calculate the change in the closing price of the stock\n",
    "from its previous trading day. For example, if the closing prices of\n",
    "microsoft was 62.14 on Dec 30, 2016 and 62.90 on Dec 29, 2016, then\n",
    "price change is -0.76. You can ignore the change in the stock price\n",
    "for Jan 3, 2007 since you do not have the stock price on its previous\n",
    "closing date. Hint: you can use the examples from exercise4.ipynb."
   ]
  },
  {
   "cell_type": "code",
   "execution_count": 3,
   "id": "68a33921",
   "metadata": {},
   "outputs": [],
   "source": [
    "def change_in_stock(df):\n",
    "    closing = df['Close']\n",
    "    cdate = df['Date'].values\n",
    "    cdate = cdate[1:]\n",
    "    N = closing.size\n",
    "    change = closing[:N-1].values-closing[1:].values\n",
    "    changeData = Series(change, index=cdate)\n",
    "    return changeData\n"
   ]
  },
  {
   "cell_type": "code",
   "execution_count": 4,
   "id": "ce9a65a5",
   "metadata": {},
   "outputs": [
    {
     "data": {
      "text/plain": [
       "2016-12-29   -0.910003\n",
       "2016-12-28   -0.029999\n",
       "2016-12-27   -0.500000\n",
       "2016-12-23    0.740005\n",
       "2016-12-22    0.229996\n",
       "                ...   \n",
       "2007-01-09    4.429994\n",
       "2007-01-08    7.100003\n",
       "2007-01-05    0.420003\n",
       "2007-01-04   -0.610001\n",
       "2007-01-03    1.859996\n",
       "Length: 2517, dtype: float64"
      ]
     },
     "execution_count": 4,
     "metadata": {},
     "output_type": "execute_result"
    }
   ],
   "source": [
    "change_in_stock(aapl)"
   ]
  },
  {
   "cell_type": "code",
   "execution_count": 5,
   "id": "c16d1bbb",
   "metadata": {},
   "outputs": [
    {
     "data": {
      "text/plain": [
       "2016-12-29   -10.969971\n",
       "2016-12-28    -2.260010\n",
       "2016-12-27    -6.500000\n",
       "2016-12-23     1.640015\n",
       "2016-12-22    -1.350037\n",
       "                ...    \n",
       "2007-01-09     3.960015\n",
       "2007-01-08     1.919984\n",
       "2007-01-05    -3.609983\n",
       "2007-01-04     3.929996\n",
       "2007-01-03    15.670023\n",
       "Length: 2517, dtype: float64"
      ]
     },
     "execution_count": 5,
     "metadata": {},
     "output_type": "execute_result"
    }
   ],
   "source": [
    "change_in_stock(goog)"
   ]
  },
  {
   "cell_type": "code",
   "execution_count": 6,
   "id": "d801c722",
   "metadata": {},
   "outputs": [
    {
     "data": {
      "text/plain": [
       "2016-12-29   -0.760003\n",
       "2016-12-28   -0.090000\n",
       "2016-12-27   -0.289997\n",
       "2016-12-23    0.039997\n",
       "2016-12-22   -0.309997\n",
       "                ...   \n",
       "2007-01-09   -0.299999\n",
       "2007-01-08    0.029999\n",
       "2007-01-05    0.290001\n",
       "2007-01-04   -0.170000\n",
       "2007-01-03   -0.050002\n",
       "Length: 2517, dtype: float64"
      ]
     },
     "execution_count": 6,
     "metadata": {},
     "output_type": "execute_result"
    }
   ],
   "source": [
    "change_in_stock(msft)"
   ]
  },
  {
   "cell_type": "code",
   "execution_count": 7,
   "id": "a0488e64",
   "metadata": {},
   "outputs": [
    {
     "data": {
      "text/plain": [
       "2016-12-29   -0.10\n",
       "2016-12-28   -0.02\n",
       "2016-12-27   -0.14\n",
       "2016-12-23   -0.07\n",
       "2016-12-22    0.06\n",
       "              ... \n",
       "2007-01-09   -0.06\n",
       "2007-01-08    0.06\n",
       "2007-01-05    0.11\n",
       "2007-01-04   -0.08\n",
       "2007-01-03    0.19\n",
       "Length: 2517, dtype: float64"
      ]
     },
     "execution_count": 7,
     "metadata": {},
     "output_type": "execute_result"
    }
   ],
   "source": [
    "change_in_stock(f)"
   ]
  },
  {
   "cell_type": "code",
   "execution_count": 8,
   "id": "3bd0106e",
   "metadata": {},
   "outputs": [
    {
     "data": {
      "text/plain": [
       "2016-12-29    0.159996\n",
       "2016-12-28   -1.379997\n",
       "2016-12-27   -0.970001\n",
       "2016-12-23   -1.510003\n",
       "2016-12-22    0.239998\n",
       "                ...   \n",
       "2007-01-09   -2.730011\n",
       "2007-01-08   -1.809997\n",
       "2007-01-05    0.250000\n",
       "2007-01-04   -4.050003\n",
       "2007-01-03    2.470001\n",
       "Length: 2517, dtype: float64"
      ]
     },
     "execution_count": 8,
     "metadata": {},
     "output_type": "execute_result"
    }
   ],
   "source": [
    "change_in_stock(tym)"
   ]
  },
  {
   "cell_type": "code",
   "execution_count": 9,
   "id": "aa5ea09d",
   "metadata": {},
   "outputs": [
    {
     "data": {
      "text/plain": [
       "2016-12-29   -0.090000\n",
       "2016-12-28   -0.289999\n",
       "2016-12-27   -0.309999\n",
       "2016-12-23   -0.330000\n",
       "2016-12-22    0.039999\n",
       "                ...   \n",
       "2007-01-09   -0.970001\n",
       "2007-01-08    0.020001\n",
       "2007-01-05    0.220001\n",
       "2007-01-04   -1.370003\n",
       "2007-01-03    0.330002\n",
       "Length: 2517, dtype: float64"
      ]
     },
     "execution_count": 9,
     "metadata": {},
     "output_type": "execute_result"
    }
   ],
   "source": [
    "change_in_stock(hmc)"
   ]
  },
  {
   "cell_type": "code",
   "execution_count": 10,
   "id": "2b1d3690",
   "metadata": {},
   "outputs": [
    {
     "data": {
      "text/plain": [
       "2016-12-29    0.100000\n",
       "2016-12-28   -0.330000\n",
       "2016-12-27   -0.280001\n",
       "2016-12-23    0.010001\n",
       "2016-12-22    0.059999\n",
       "                ...   \n",
       "2007-01-09    0.080002\n",
       "2007-01-08    0.049999\n",
       "2007-01-05    0.209999\n",
       "2007-01-04   -0.429996\n",
       "2007-01-03    0.339996\n",
       "Length: 2517, dtype: float64"
      ]
     },
     "execution_count": 10,
     "metadata": {},
     "output_type": "execute_result"
    }
   ],
   "source": [
    "change_in_stock(bac)"
   ]
  },
  {
   "cell_type": "code",
   "execution_count": 11,
   "id": "e3b91353",
   "metadata": {},
   "outputs": [
    {
     "data": {
      "text/plain": [
       "2016-12-29    0.049999\n",
       "2016-12-28   -0.660000\n",
       "2016-12-27   -1.049999\n",
       "2016-12-23    0.099998\n",
       "2016-12-22    0.500000\n",
       "                ...   \n",
       "2007-01-09   -0.440002\n",
       "2007-01-08   -0.479999\n",
       "2007-01-05    0.279999\n",
       "2007-01-04   -0.289996\n",
       "2007-01-03   -0.190003\n",
       "Length: 2517, dtype: float64"
      ]
     },
     "execution_count": 11,
     "metadata": {},
     "output_type": "execute_result"
    }
   ],
   "source": [
    "change_in_stock(c)"
   ]
  },
  {
   "cell_type": "code",
   "execution_count": 12,
   "id": "a4b490eb",
   "metadata": {},
   "outputs": [
    {
     "data": {
      "text/plain": [
       "2016-12-29    0.270001\n",
       "2016-12-28   -0.480000\n",
       "2016-12-27   -0.630001\n",
       "2016-12-23   -0.009998\n",
       "2016-12-22    0.209999\n",
       "                ...   \n",
       "2007-01-09   -0.110000\n",
       "2007-01-08    0.090000\n",
       "2007-01-05   -0.099998\n",
       "2007-01-04   -0.200001\n",
       "2007-01-03    0.059997\n",
       "Length: 2517, dtype: float64"
      ]
     },
     "execution_count": 12,
     "metadata": {},
     "output_type": "execute_result"
    }
   ],
   "source": [
    "change_in_stock(wfc)"
   ]
  },
  {
   "cell_type": "markdown",
   "id": "73d62c3e",
   "metadata": {},
   "source": [
    "----------------------------------"
   ]
  },
  {
   "cell_type": "markdown",
   "id": "c1ce0c8f",
   "metadata": {},
   "source": [
    "(c) Create a new DataFrame named stocks that has 9 columns (one for\n",
    "each stock). Each row corresponds to a given trading date.\n"
   ]
  },
  {
   "cell_type": "code",
   "execution_count": 13,
   "id": "bde85c2d",
   "metadata": {},
   "outputs": [
    {
     "data": {
      "text/html": [
       "<div>\n",
       "<style scoped>\n",
       "    .dataframe tbody tr th:only-of-type {\n",
       "        vertical-align: middle;\n",
       "    }\n",
       "\n",
       "    .dataframe tbody tr th {\n",
       "        vertical-align: top;\n",
       "    }\n",
       "\n",
       "    .dataframe thead th {\n",
       "        text-align: right;\n",
       "    }\n",
       "</style>\n",
       "<table border=\"1\" class=\"dataframe\">\n",
       "  <thead>\n",
       "    <tr style=\"text-align: right;\">\n",
       "      <th></th>\n",
       "      <th>aapl</th>\n",
       "      <th>goog</th>\n",
       "      <th>msft</th>\n",
       "      <th>f</th>\n",
       "      <th>tym</th>\n",
       "      <th>hmc</th>\n",
       "      <th>bac</th>\n",
       "      <th>c</th>\n",
       "      <th>wfc</th>\n",
       "    </tr>\n",
       "  </thead>\n",
       "  <tbody>\n",
       "    <tr>\n",
       "      <th>2016-12-29</th>\n",
       "      <td>-0.910003</td>\n",
       "      <td>-10.969971</td>\n",
       "      <td>-0.760003</td>\n",
       "      <td>-0.10</td>\n",
       "      <td>0.159996</td>\n",
       "      <td>-0.090000</td>\n",
       "      <td>0.100000</td>\n",
       "      <td>0.049999</td>\n",
       "      <td>0.270001</td>\n",
       "    </tr>\n",
       "    <tr>\n",
       "      <th>2016-12-28</th>\n",
       "      <td>-0.029999</td>\n",
       "      <td>-2.260010</td>\n",
       "      <td>-0.090000</td>\n",
       "      <td>-0.02</td>\n",
       "      <td>-1.379997</td>\n",
       "      <td>-0.289999</td>\n",
       "      <td>-0.330000</td>\n",
       "      <td>-0.660000</td>\n",
       "      <td>-0.480000</td>\n",
       "    </tr>\n",
       "    <tr>\n",
       "      <th>2016-12-27</th>\n",
       "      <td>-0.500000</td>\n",
       "      <td>-6.500000</td>\n",
       "      <td>-0.289997</td>\n",
       "      <td>-0.14</td>\n",
       "      <td>-0.970001</td>\n",
       "      <td>-0.309999</td>\n",
       "      <td>-0.280001</td>\n",
       "      <td>-1.049999</td>\n",
       "      <td>-0.630001</td>\n",
       "    </tr>\n",
       "    <tr>\n",
       "      <th>2016-12-23</th>\n",
       "      <td>0.740005</td>\n",
       "      <td>1.640015</td>\n",
       "      <td>0.039997</td>\n",
       "      <td>-0.07</td>\n",
       "      <td>-1.510003</td>\n",
       "      <td>-0.330000</td>\n",
       "      <td>0.010001</td>\n",
       "      <td>0.099998</td>\n",
       "      <td>-0.009998</td>\n",
       "    </tr>\n",
       "    <tr>\n",
       "      <th>2016-12-22</th>\n",
       "      <td>0.229996</td>\n",
       "      <td>-1.350037</td>\n",
       "      <td>-0.309997</td>\n",
       "      <td>0.06</td>\n",
       "      <td>0.239998</td>\n",
       "      <td>0.039999</td>\n",
       "      <td>0.059999</td>\n",
       "      <td>0.500000</td>\n",
       "      <td>0.209999</td>\n",
       "    </tr>\n",
       "    <tr>\n",
       "      <th>...</th>\n",
       "      <td>...</td>\n",
       "      <td>...</td>\n",
       "      <td>...</td>\n",
       "      <td>...</td>\n",
       "      <td>...</td>\n",
       "      <td>...</td>\n",
       "      <td>...</td>\n",
       "      <td>...</td>\n",
       "      <td>...</td>\n",
       "    </tr>\n",
       "    <tr>\n",
       "      <th>2007-01-09</th>\n",
       "      <td>4.429994</td>\n",
       "      <td>3.960015</td>\n",
       "      <td>-0.299999</td>\n",
       "      <td>-0.06</td>\n",
       "      <td>-2.730011</td>\n",
       "      <td>-0.970001</td>\n",
       "      <td>0.080002</td>\n",
       "      <td>-0.440002</td>\n",
       "      <td>-0.110000</td>\n",
       "    </tr>\n",
       "    <tr>\n",
       "      <th>2007-01-08</th>\n",
       "      <td>7.100003</td>\n",
       "      <td>1.919984</td>\n",
       "      <td>0.029999</td>\n",
       "      <td>0.06</td>\n",
       "      <td>-1.809997</td>\n",
       "      <td>0.020001</td>\n",
       "      <td>0.049999</td>\n",
       "      <td>-0.479999</td>\n",
       "      <td>0.090000</td>\n",
       "    </tr>\n",
       "    <tr>\n",
       "      <th>2007-01-05</th>\n",
       "      <td>0.420003</td>\n",
       "      <td>-3.609983</td>\n",
       "      <td>0.290001</td>\n",
       "      <td>0.11</td>\n",
       "      <td>0.250000</td>\n",
       "      <td>0.220001</td>\n",
       "      <td>0.209999</td>\n",
       "      <td>0.279999</td>\n",
       "      <td>-0.099998</td>\n",
       "    </tr>\n",
       "    <tr>\n",
       "      <th>2007-01-04</th>\n",
       "      <td>-0.610001</td>\n",
       "      <td>3.929996</td>\n",
       "      <td>-0.170000</td>\n",
       "      <td>-0.08</td>\n",
       "      <td>-4.050003</td>\n",
       "      <td>-1.370003</td>\n",
       "      <td>-0.429996</td>\n",
       "      <td>-0.289996</td>\n",
       "      <td>-0.200001</td>\n",
       "    </tr>\n",
       "    <tr>\n",
       "      <th>2007-01-03</th>\n",
       "      <td>1.859996</td>\n",
       "      <td>15.670023</td>\n",
       "      <td>-0.050002</td>\n",
       "      <td>0.19</td>\n",
       "      <td>2.470001</td>\n",
       "      <td>0.330002</td>\n",
       "      <td>0.339996</td>\n",
       "      <td>-0.190003</td>\n",
       "      <td>0.059997</td>\n",
       "    </tr>\n",
       "  </tbody>\n",
       "</table>\n",
       "<p>2517 rows × 9 columns</p>\n",
       "</div>"
      ],
      "text/plain": [
       "                aapl       goog      msft     f       tym       hmc       bac  \\\n",
       "2016-12-29 -0.910003 -10.969971 -0.760003 -0.10  0.159996 -0.090000  0.100000   \n",
       "2016-12-28 -0.029999  -2.260010 -0.090000 -0.02 -1.379997 -0.289999 -0.330000   \n",
       "2016-12-27 -0.500000  -6.500000 -0.289997 -0.14 -0.970001 -0.309999 -0.280001   \n",
       "2016-12-23  0.740005   1.640015  0.039997 -0.07 -1.510003 -0.330000  0.010001   \n",
       "2016-12-22  0.229996  -1.350037 -0.309997  0.06  0.239998  0.039999  0.059999   \n",
       "...              ...        ...       ...   ...       ...       ...       ...   \n",
       "2007-01-09  4.429994   3.960015 -0.299999 -0.06 -2.730011 -0.970001  0.080002   \n",
       "2007-01-08  7.100003   1.919984  0.029999  0.06 -1.809997  0.020001  0.049999   \n",
       "2007-01-05  0.420003  -3.609983  0.290001  0.11  0.250000  0.220001  0.209999   \n",
       "2007-01-04 -0.610001   3.929996 -0.170000 -0.08 -4.050003 -1.370003 -0.429996   \n",
       "2007-01-03  1.859996  15.670023 -0.050002  0.19  2.470001  0.330002  0.339996   \n",
       "\n",
       "                   c       wfc  \n",
       "2016-12-29  0.049999  0.270001  \n",
       "2016-12-28 -0.660000 -0.480000  \n",
       "2016-12-27 -1.049999 -0.630001  \n",
       "2016-12-23  0.099998 -0.009998  \n",
       "2016-12-22  0.500000  0.209999  \n",
       "...              ...       ...  \n",
       "2007-01-09 -0.440002 -0.110000  \n",
       "2007-01-08 -0.479999  0.090000  \n",
       "2007-01-05  0.279999 -0.099998  \n",
       "2007-01-04 -0.289996 -0.200001  \n",
       "2007-01-03 -0.190003  0.059997  \n",
       "\n",
       "[2517 rows x 9 columns]"
      ]
     },
     "execution_count": 13,
     "metadata": {},
     "output_type": "execute_result"
    }
   ],
   "source": [
    "dfs = [aapl, goog, msft, f, tym, hmc, bac, c, wfc]\n",
    "cs = []\n",
    "for i in dfs:\n",
    "    cs.append(change_in_stock(i))\n",
    "    \n",
    "stocks = pd.concat(cs, axis = 1)\n",
    "stocks.columns = ['aapl', 'goog', 'msft', 'f', 'tym', 'hmc', 'bac', 'c', 'wfc']\n",
    "stocks"
   ]
  },
  {
   "cell_type": "markdown",
   "id": "4447f095",
   "metadata": {},
   "source": [
    "--------------------------------"
   ]
  },
  {
   "cell_type": "markdown",
   "id": "9d7bde14",
   "metadata": {},
   "source": [
    "(d) Calculate the pairwise correlation between the 9 stocks."
   ]
  },
  {
   "cell_type": "code",
   "execution_count": 40,
   "id": "2a4828eb",
   "metadata": {},
   "outputs": [
    {
     "name": "stdout",
     "output_type": "stream",
     "text": [
      "                  PCC        p-value\n",
      "aapl - bac   0.092491   3.353420e-06\n",
      "aapl - c     0.069320   5.010061e-04\n",
      "aapl - f     0.145566   2.160301e-13\n",
      "aapl - goog  0.106766   7.912977e-08\n",
      "aapl - hmc   0.124055   4.241907e-10\n",
      "aapl - msft  0.131434   3.604965e-11\n",
      "aapl - tym   0.114745   7.789807e-09\n",
      "aapl - wfc   0.105202   1.223153e-07\n",
      "bac - c      0.424011  2.173134e-110\n",
      "bac - wfc    0.736532   0.000000e+00\n",
      "c - wfc      0.434085  3.473986e-116\n",
      "f - bac      0.359032   1.898695e-77\n",
      "f - c        0.315519   2.708830e-59\n",
      "f - hmc      0.371431   3.596413e-83\n",
      "f - tym      0.379900   3.162350e-87\n",
      "f - wfc      0.442713  2.616801e-121\n",
      "goog - bac   0.225402   2.340288e-30\n",
      "goog - c     0.217603   2.336592e-28\n",
      "goog - f     0.235356   5.076309e-33\n",
      "goog - hmc   0.231142   7.061189e-32\n",
      "goog - msft  0.340559   2.208365e-69\n",
      "goog - tym   0.242243   6.141595e-35\n",
      "goog - wfc   0.251577   1.233755e-37\n",
      "hmc - bac    0.385629   4.864693e-90\n",
      "hmc - c      0.304340   4.312995e-55\n",
      "hmc - wfc    0.423748  3.060538e-110\n",
      "msft - bac   0.338146   2.278296e-68\n",
      "msft - c     0.286101   1.272782e-48\n",
      "msft - f     0.369930   1.827869e-82\n",
      "msft - hmc   0.383520   5.359348e-89\n",
      "msft - tym   0.418537  2.541669e-107\n",
      "msft - wfc   0.425708  2.369668e-111\n",
      "tym - bac    0.427479  2.312659e-112\n",
      "tym - c      0.320030   4.839104e-61\n",
      "tym - hmc    0.726037   0.000000e+00\n",
      "tym - wfc    0.475332  4.545203e-142\n"
     ]
    },
    {
     "name": "stderr",
     "output_type": "stream",
     "text": [
      "<ipython-input-40-cd954e17724c>:4: DeprecationWarning: Please use `pearsonr` from the `scipy.stats` namespace, the `scipy.stats.stats` namespace is deprecated.\n",
      "  from scipy.stats.stats import pearsonr\n"
     ]
    }
   ],
   "source": [
    "import itertools\n",
    "from itertools import combinations\n",
    "import scipy\n",
    "from scipy.stats.stats import pearsonr\n",
    "## algoritm from stack overflow https://stackoverflow.com/questions/33997753/calculating-pairwise-correlation-among-all-columns\n",
    "correlations = {}\n",
    "\n",
    "columns = stocks.columns.tolist()\n",
    "\n",
    "for c1, c2 in combinations(columns, 2):\n",
    "    correlations[c1 + ' - ' + c2] = pearsonr(stocks.loc[:, c1], stocks.loc[:, c2])\n",
    "\n",
    "result = pd.DataFrame.from_dict(correlations, orient='index')\n",
    "result.columns = ['PCC', 'p-value']\n",
    "\n",
    "print(result.sort_index())"
   ]
  },
  {
   "cell_type": "markdown",
   "id": "1bfb9e21",
   "metadata": {},
   "source": [
    "----------------------------------------"
   ]
  },
  {
   "cell_type": "markdown",
   "id": "3df1e139",
   "metadata": {},
   "source": [
    "(e) Calculate the average correlation between stocks within the banking\n",
    "and finance group (BAC, C, WFC). Compare it against the average\n",
    "correlation between the finance and technology stocks (e.g., BAC-AAPL, BAC-MSFT, BAC-GOOG, C-AAPL, etc). Do the stocks\n",
    "within the banking and finance group have higher within-group average correlation compared to their between-group average correlation\n",
    "with respect to the stocks in the technology group?"
   ]
  },
  {
   "cell_type": "markdown",
   "id": "ccc50162",
   "metadata": {},
   "source": [
    "#### Yes the stocks within the banking and finance group have higher within-group correlation compared to between-group average correlation"
   ]
  },
  {
   "cell_type": "code",
   "execution_count": 18,
   "id": "7a6f3282",
   "metadata": {},
   "outputs": [
    {
     "data": {
      "text/html": [
       "<div>\n",
       "<style scoped>\n",
       "    .dataframe tbody tr th:only-of-type {\n",
       "        vertical-align: middle;\n",
       "    }\n",
       "\n",
       "    .dataframe tbody tr th {\n",
       "        vertical-align: top;\n",
       "    }\n",
       "\n",
       "    .dataframe thead th {\n",
       "        text-align: right;\n",
       "    }\n",
       "</style>\n",
       "<table border=\"1\" class=\"dataframe\">\n",
       "  <thead>\n",
       "    <tr style=\"text-align: right;\">\n",
       "      <th></th>\n",
       "      <th>bac</th>\n",
       "      <th>c</th>\n",
       "      <th>wfc</th>\n",
       "    </tr>\n",
       "  </thead>\n",
       "  <tbody>\n",
       "    <tr>\n",
       "      <th>bac</th>\n",
       "      <td>1.000000</td>\n",
       "      <td>0.424011</td>\n",
       "      <td>0.736532</td>\n",
       "    </tr>\n",
       "    <tr>\n",
       "      <th>c</th>\n",
       "      <td>0.424011</td>\n",
       "      <td>1.000000</td>\n",
       "      <td>0.434085</td>\n",
       "    </tr>\n",
       "    <tr>\n",
       "      <th>wfc</th>\n",
       "      <td>0.736532</td>\n",
       "      <td>0.434085</td>\n",
       "      <td>1.000000</td>\n",
       "    </tr>\n",
       "  </tbody>\n",
       "</table>\n",
       "</div>"
      ],
      "text/plain": [
       "          bac         c       wfc\n",
       "bac  1.000000  0.424011  0.736532\n",
       "c    0.424011  1.000000  0.434085\n",
       "wfc  0.736532  0.434085  1.000000"
      ]
     },
     "execution_count": 18,
     "metadata": {},
     "output_type": "execute_result"
    }
   ],
   "source": [
    "bank = stocks[['bac', 'c', 'wfc']]\n",
    "bank.corr()\n"
   ]
  },
  {
   "cell_type": "code",
   "execution_count": 22,
   "id": "6a011df8",
   "metadata": {},
   "outputs": [
    {
     "name": "stdout",
     "output_type": "stream",
     "text": [
      "BAC-C = 0.424011, BAC-WFC = 0.736532, WFC-C = 0.434085 \n"
     ]
    }
   ],
   "source": [
    "print(\"BAC-C = 0.424011, BAC-WFC = 0.736532, WFC-C = 0.434085 \")"
   ]
  },
  {
   "cell_type": "code",
   "execution_count": 39,
   "id": "b4d0dd37",
   "metadata": {},
   "outputs": [
    {
     "name": "stdout",
     "output_type": "stream",
     "text": [
      "The BAC mean is 0.2186796666666667, the C mean is 0.19100799999999998, the WFC mean is 0.260829\n"
     ]
    }
   ],
   "source": [
    "bac = [0.092491, 0.338146, 0.225402]\n",
    "\n",
    "bacmean = np.mean(bac)\n",
    "\n",
    "c = [0.069320, 0.286101, 0.217603]\n",
    "\n",
    "cmean = np.mean(c)\n",
    "\n",
    "wfc = [0.105202, 0.425708, 0.251577]\n",
    "\n",
    "wfcmean = np.mean(wfc)\n",
    "\n",
    "\n",
    "print(\"The BAC mean is {}, the C mean is {}, the WFC mean is {}\".format(bacmean, cmean, wfcmean))"
   ]
  },
  {
   "cell_type": "markdown",
   "id": "c9230acf",
   "metadata": {},
   "source": [
    "#### BAC when compated to the tech stocks has a negative correlation. When comparing BAC to C and WFC, there is a similar low correlation. C-MSFT and WFC-MSFT has the highest correlation between the any of the correlations between stocks. Therefore, no, the stocks within the banking and finance group have lower within-group correlation compared to TECH-C & TECH-WFC. However, the average correlation between TECH-BAC is lower than the average correlation within the banking and finance group."
   ]
  },
  {
   "cell_type": "markdown",
   "id": "653bff13",
   "metadata": {},
   "source": [
    "------------------------------------------"
   ]
  },
  {
   "cell_type": "markdown",
   "id": "5db33d95",
   "metadata": {},
   "source": [
    "(f) Apply principal component analysis to extract the top-3 principal\n",
    "components of the data (where each component corresponds to an\n",
    "eigenvector of the covariance matrix). Plot a bar chart that shows\n",
    "the contributions of each stock to each principal component (see slide\n",
    "35 in lecture 7)."
   ]
  },
  {
   "cell_type": "code",
   "execution_count": 23,
   "id": "f9127cc8",
   "metadata": {},
   "outputs": [],
   "source": [
    "from sklearn.decomposition import PCA\n",
    "from numpy import linalg,mean,dot\n",
    "from pandas import DataFrame"
   ]
  },
  {
   "cell_type": "code",
   "execution_count": 31,
   "id": "5afeaa4f",
   "metadata": {},
   "outputs": [
    {
     "data": {
      "text/html": [
       "<div>\n",
       "<style scoped>\n",
       "    .dataframe tbody tr th:only-of-type {\n",
       "        vertical-align: middle;\n",
       "    }\n",
       "\n",
       "    .dataframe tbody tr th {\n",
       "        vertical-align: top;\n",
       "    }\n",
       "\n",
       "    .dataframe thead th {\n",
       "        text-align: right;\n",
       "    }\n",
       "</style>\n",
       "<table border=\"1\" class=\"dataframe\">\n",
       "  <thead>\n",
       "    <tr style=\"text-align: right;\">\n",
       "      <th></th>\n",
       "      <th>pc1</th>\n",
       "      <th>pc2</th>\n",
       "      <th>pc3</th>\n",
       "    </tr>\n",
       "  </thead>\n",
       "  <tbody>\n",
       "    <tr>\n",
       "      <th>0</th>\n",
       "      <td>11.017443</td>\n",
       "      <td>-1.529051</td>\n",
       "      <td>0.509528</td>\n",
       "    </tr>\n",
       "    <tr>\n",
       "      <th>1</th>\n",
       "      <td>2.390383</td>\n",
       "      <td>-0.468285</td>\n",
       "      <td>-1.559183</td>\n",
       "    </tr>\n",
       "    <tr>\n",
       "      <th>2</th>\n",
       "      <td>6.627608</td>\n",
       "      <td>-0.939752</td>\n",
       "      <td>-1.257249</td>\n",
       "    </tr>\n",
       "    <tr>\n",
       "      <th>3</th>\n",
       "      <td>-1.599916</td>\n",
       "      <td>-0.366768</td>\n",
       "      <td>-1.368923</td>\n",
       "    </tr>\n",
       "    <tr>\n",
       "      <th>4</th>\n",
       "      <td>1.372671</td>\n",
       "      <td>-0.536300</td>\n",
       "      <td>0.449684</td>\n",
       "    </tr>\n",
       "    <tr>\n",
       "      <th>...</th>\n",
       "      <td>...</td>\n",
       "      <td>...</td>\n",
       "      <td>...</td>\n",
       "    </tr>\n",
       "    <tr>\n",
       "      <th>2512</th>\n",
       "      <td>-4.617807</td>\n",
       "      <td>-3.448532</td>\n",
       "      <td>-2.909134</td>\n",
       "    </tr>\n",
       "    <tr>\n",
       "      <th>2513</th>\n",
       "      <td>-3.251870</td>\n",
       "      <td>-6.510030</td>\n",
       "      <td>-1.778174</td>\n",
       "    </tr>\n",
       "    <tr>\n",
       "      <th>2514</th>\n",
       "      <td>3.531041</td>\n",
       "      <td>-1.217697</td>\n",
       "      <td>0.537507</td>\n",
       "    </tr>\n",
       "    <tr>\n",
       "      <th>2515</th>\n",
       "      <td>-3.446612</td>\n",
       "      <td>1.472256</td>\n",
       "      <td>-4.100029</td>\n",
       "    </tr>\n",
       "    <tr>\n",
       "      <th>2516</th>\n",
       "      <td>-15.633567</td>\n",
       "      <td>1.586569</td>\n",
       "      <td>1.624536</td>\n",
       "    </tr>\n",
       "  </tbody>\n",
       "</table>\n",
       "<p>2517 rows × 3 columns</p>\n",
       "</div>"
      ],
      "text/plain": [
       "            pc1       pc2       pc3\n",
       "0     11.017443 -1.529051  0.509528\n",
       "1      2.390383 -0.468285 -1.559183\n",
       "2      6.627608 -0.939752 -1.257249\n",
       "3     -1.599916 -0.366768 -1.368923\n",
       "4      1.372671 -0.536300  0.449684\n",
       "...         ...       ...       ...\n",
       "2512  -4.617807 -3.448532 -2.909134\n",
       "2513  -3.251870 -6.510030 -1.778174\n",
       "2514   3.531041 -1.217697  0.537507\n",
       "2515  -3.446612  1.472256 -4.100029\n",
       "2516 -15.633567  1.586569  1.624536\n",
       "\n",
       "[2517 rows x 3 columns]"
      ]
     },
     "execution_count": 31,
     "metadata": {},
     "output_type": "execute_result"
    }
   ],
   "source": [
    "numComponents = 3\n",
    "##as_matrix is only for Series\n",
    "cov = stocks.cov()\n",
    "A = stocks\n",
    "[eigv, pc] = linalg.eig(cov)\n",
    "M = (A-mean(A.T,axis=1)).T\n",
    "projected = dot(pc.T,M).T\n",
    "projected = pd.DataFrame(projected[:,:numComponents],columns=['pc1','pc2','pc3'])\n",
    "projected"
   ]
  },
  {
   "cell_type": "code",
   "execution_count": 32,
   "id": "d715ca2e",
   "metadata": {},
   "outputs": [
    {
     "data": {
      "text/plain": [
       "array([[-2.18612541e-01, -9.75688344e-01, -1.51397386e-02],\n",
       "       [-9.75066984e-01,  2.19028399e-01, -3.40412599e-02],\n",
       "       [-1.28329175e-02, -1.67482621e-03,  1.37745003e-01],\n",
       "       [-3.80566972e-03, -1.52093916e-03,  5.48849274e-02],\n",
       "       [-2.58731535e-02, -6.09916479e-03,  8.35839903e-01],\n",
       "       [-9.35095225e-03, -2.87902017e-03,  2.46150883e-01],\n",
       "       [-9.68558566e-03, -1.55324661e-03,  2.05645960e-01],\n",
       "       [-1.55541018e-02, -7.62729631e-04,  3.11638008e-01],\n",
       "       [-1.34598059e-02, -2.28361836e-03,  2.79282706e-01]])"
      ]
     },
     "execution_count": 32,
     "metadata": {},
     "output_type": "execute_result"
    }
   ],
   "source": [
    "pc[:,:numComponents]"
   ]
  },
  {
   "cell_type": "code",
   "execution_count": 38,
   "id": "1a671f38",
   "metadata": {},
   "outputs": [
    {
     "data": {
      "text/plain": [
       "Text(0.5, 1.0, '3nd PC')"
      ]
     },
     "execution_count": 38,
     "metadata": {},
     "output_type": "execute_result"
    },
    {
     "data": {
      "image/png": "[encoded data removed]",
      "text/plain": [
       "<Figure size 648x504 with 3 Axes>"
      ]
     },
     "metadata": {
      "needs_background": "light"
     },
     "output_type": "display_data"
    }
   ],
   "source": [
    "%matplotlib inline\n",
    "import matplotlib.pyplot as plt\n",
    "from pandas import Series\n",
    "\n",
    "fig,axes = plt.subplots(3,1, figsize=(9,7), sharex=True)\n",
    "attrib = list(stocks)         # get attribute names\n",
    "pcdata  = Series(pc[:,0], index=attrib)\n",
    "pcdata.plot(kind='barh',ax=axes[0],color='k',alpha=0.7)\n",
    "pcdata  = Series(pc[:,1], index=attrib)\n",
    "pcdata.plot(kind='barh',ax=axes[1],color='k',alpha=0.7)\n",
    "pcdata  = Series(pc[:,2], index=attrib)\n",
    "pcdata.plot(kind='barh',ax=axes[2],color='k',alpha=0.7)\n",
    "axes[0].set_title(r'1nd PC', size = 'large')\n",
    "axes[1].set_title(r'2nd PC', size = 'large')\n",
    "axes[2].set_title(r'3nd PC', size = 'large')"
   ]
  },
  {
   "cell_type": "code",
   "execution_count": null,
   "id": "d75ad2be",
   "metadata": {},
   "outputs": [],
   "source": []
  }
 ],
 "metadata": {
  "kernelspec": {
   "display_name": "Python 3",
   "language": "python",
   "name": "python3"
  },
  "language_info": {
   "codemirror_mode": {
    "name": "ipython",
    "version": 3
   },
   "file_extension": ".py",
   "mimetype": "text/x-python",
   "name": "python",
   "nbconvert_exporter": "python",
   "pygments_lexer": "ipython3",
   "version": "3.8.8"
  }
 },
 "nbformat": 4,
 "nbformat_minor": 5
}

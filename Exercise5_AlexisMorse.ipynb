{
 "cells": [
  {
   "cell_type": "markdown",
   "id": "210d7357",
   "metadata": {},
   "source": [
    "### Question 1"
   ]
  },
  {
   "cell_type": "code",
   "execution_count": 1,
   "id": "882f2be7",
   "metadata": {},
   "outputs": [],
   "source": [
    "import numpy as np\n",
    "import pandas as pd\n",
    "import matplotlib.pyplot as plt"
   ]
  },
  {
   "cell_type": "code",
   "execution_count": 2,
   "id": "e44bdfe0",
   "metadata": {},
   "outputs": [
    {
     "data": {
      "text/html": [
       "<div>\n",
       "<style scoped>\n",
       "    .dataframe tbody tr th:only-of-type {\n",
       "        vertical-align: middle;\n",
       "    }\n",
       "\n",
       "    .dataframe tbody tr th {\n",
       "        vertical-align: top;\n",
       "    }\n",
       "\n",
       "    .dataframe thead th {\n",
       "        text-align: right;\n",
       "    }\n",
       "</style>\n",
       "<table border=\"1\" class=\"dataframe\">\n",
       "  <thead>\n",
       "    <tr style=\"text-align: right;\">\n",
       "      <th></th>\n",
       "      <th>compactness</th>\n",
       "      <th>circularity</th>\n",
       "      <th>distance_circularity</th>\n",
       "      <th>radius_ratio</th>\n",
       "      <th>pr_axis_aspect_ratio</th>\n",
       "      <th>max_length_aspect_ratio</th>\n",
       "      <th>scatter_ratio</th>\n",
       "      <th>elongatedness</th>\n",
       "      <th>pr_axisrectangular</th>\n",
       "      <th>lengthrectangular</th>\n",
       "      <th>majorvariance</th>\n",
       "      <th>minorvariance</th>\n",
       "      <th>gyrationradius</th>\n",
       "      <th>majorskewness</th>\n",
       "      <th>minorskewness</th>\n",
       "      <th>minorkurtosis</th>\n",
       "      <th>majorkurtosis</th>\n",
       "      <th>hollows_ratio</th>\n",
       "      <th>class</th>\n",
       "    </tr>\n",
       "  </thead>\n",
       "  <tbody>\n",
       "    <tr>\n",
       "      <th>0</th>\n",
       "      <td>95</td>\n",
       "      <td>43</td>\n",
       "      <td>96</td>\n",
       "      <td>202</td>\n",
       "      <td>65</td>\n",
       "      <td>10</td>\n",
       "      <td>189</td>\n",
       "      <td>35</td>\n",
       "      <td>22</td>\n",
       "      <td>143</td>\n",
       "      <td>217</td>\n",
       "      <td>534</td>\n",
       "      <td>166</td>\n",
       "      <td>71</td>\n",
       "      <td>6</td>\n",
       "      <td>27</td>\n",
       "      <td>190</td>\n",
       "      <td>197</td>\n",
       "      <td>opel</td>\n",
       "    </tr>\n",
       "    <tr>\n",
       "      <th>1</th>\n",
       "      <td>96</td>\n",
       "      <td>52</td>\n",
       "      <td>104</td>\n",
       "      <td>222</td>\n",
       "      <td>67</td>\n",
       "      <td>9</td>\n",
       "      <td>198</td>\n",
       "      <td>33</td>\n",
       "      <td>23</td>\n",
       "      <td>163</td>\n",
       "      <td>217</td>\n",
       "      <td>589</td>\n",
       "      <td>226</td>\n",
       "      <td>67</td>\n",
       "      <td>12</td>\n",
       "      <td>20</td>\n",
       "      <td>192</td>\n",
       "      <td>201</td>\n",
       "      <td>opel</td>\n",
       "    </tr>\n",
       "    <tr>\n",
       "      <th>2</th>\n",
       "      <td>107</td>\n",
       "      <td>52</td>\n",
       "      <td>101</td>\n",
       "      <td>218</td>\n",
       "      <td>64</td>\n",
       "      <td>11</td>\n",
       "      <td>202</td>\n",
       "      <td>33</td>\n",
       "      <td>23</td>\n",
       "      <td>164</td>\n",
       "      <td>219</td>\n",
       "      <td>610</td>\n",
       "      <td>192</td>\n",
       "      <td>65</td>\n",
       "      <td>17</td>\n",
       "      <td>2</td>\n",
       "      <td>197</td>\n",
       "      <td>206</td>\n",
       "      <td>opel</td>\n",
       "    </tr>\n",
       "    <tr>\n",
       "      <th>3</th>\n",
       "      <td>97</td>\n",
       "      <td>37</td>\n",
       "      <td>78</td>\n",
       "      <td>181</td>\n",
       "      <td>62</td>\n",
       "      <td>8</td>\n",
       "      <td>161</td>\n",
       "      <td>41</td>\n",
       "      <td>20</td>\n",
       "      <td>131</td>\n",
       "      <td>182</td>\n",
       "      <td>389</td>\n",
       "      <td>117</td>\n",
       "      <td>62</td>\n",
       "      <td>2</td>\n",
       "      <td>28</td>\n",
       "      <td>203</td>\n",
       "      <td>211</td>\n",
       "      <td>opel</td>\n",
       "    </tr>\n",
       "    <tr>\n",
       "      <th>4</th>\n",
       "      <td>96</td>\n",
       "      <td>54</td>\n",
       "      <td>104</td>\n",
       "      <td>175</td>\n",
       "      <td>58</td>\n",
       "      <td>10</td>\n",
       "      <td>215</td>\n",
       "      <td>31</td>\n",
       "      <td>24</td>\n",
       "      <td>175</td>\n",
       "      <td>221</td>\n",
       "      <td>682</td>\n",
       "      <td>222</td>\n",
       "      <td>75</td>\n",
       "      <td>13</td>\n",
       "      <td>23</td>\n",
       "      <td>186</td>\n",
       "      <td>194</td>\n",
       "      <td>opel</td>\n",
       "    </tr>\n",
       "  </tbody>\n",
       "</table>\n",
       "</div>"
      ],
      "text/plain": [
       "   compactness  circularity  distance_circularity  radius_ratio  \\\n",
       "0           95           43                    96           202   \n",
       "1           96           52                   104           222   \n",
       "2          107           52                   101           218   \n",
       "3           97           37                    78           181   \n",
       "4           96           54                   104           175   \n",
       "\n",
       "   pr_axis_aspect_ratio  max_length_aspect_ratio  scatter_ratio  \\\n",
       "0                    65                       10            189   \n",
       "1                    67                        9            198   \n",
       "2                    64                       11            202   \n",
       "3                    62                        8            161   \n",
       "4                    58                       10            215   \n",
       "\n",
       "   elongatedness  pr_axisrectangular  lengthrectangular  majorvariance  \\\n",
       "0             35                  22                143            217   \n",
       "1             33                  23                163            217   \n",
       "2             33                  23                164            219   \n",
       "3             41                  20                131            182   \n",
       "4             31                  24                175            221   \n",
       "\n",
       "   minorvariance  gyrationradius  majorskewness  minorskewness  minorkurtosis  \\\n",
       "0            534             166             71              6             27   \n",
       "1            589             226             67             12             20   \n",
       "2            610             192             65             17              2   \n",
       "3            389             117             62              2             28   \n",
       "4            682             222             75             13             23   \n",
       "\n",
       "   majorkurtosis  hollows_ratio class  \n",
       "0            190            197  opel  \n",
       "1            192            201  opel  \n",
       "2            197            206  opel  \n",
       "3            203            211  opel  \n",
       "4            186            194  opel  "
      ]
     },
     "execution_count": 2,
     "metadata": {},
     "output_type": "execute_result"
    }
   ],
   "source": [
    "v = pd.read_csv(\"vehicle.csv\")\n",
    "v.head()"
   ]
  },
  {
   "cell_type": "markdown",
   "id": "af54d660",
   "metadata": {},
   "source": [
    "#### Question 2"
   ]
  },
  {
   "cell_type": "code",
   "execution_count": 3,
   "id": "c50cca24",
   "metadata": {},
   "outputs": [
    {
     "data": {
      "text/html": [
       "<div>\n",
       "<style scoped>\n",
       "    .dataframe tbody tr th:only-of-type {\n",
       "        vertical-align: middle;\n",
       "    }\n",
       "\n",
       "    .dataframe tbody tr th {\n",
       "        vertical-align: top;\n",
       "    }\n",
       "\n",
       "    .dataframe thead th {\n",
       "        text-align: right;\n",
       "    }\n",
       "</style>\n",
       "<table border=\"1\" class=\"dataframe\">\n",
       "  <thead>\n",
       "    <tr style=\"text-align: right;\">\n",
       "      <th></th>\n",
       "      <th>compactness</th>\n",
       "      <th>circularity</th>\n",
       "      <th>distance_circularity</th>\n",
       "      <th>radius_ratio</th>\n",
       "    </tr>\n",
       "  </thead>\n",
       "  <tbody>\n",
       "    <tr>\n",
       "      <th>compactness</th>\n",
       "      <td>1.000000</td>\n",
       "      <td>0.692869</td>\n",
       "      <td>0.792444</td>\n",
       "      <td>0.691659</td>\n",
       "    </tr>\n",
       "    <tr>\n",
       "      <th>circularity</th>\n",
       "      <td>0.692869</td>\n",
       "      <td>1.000000</td>\n",
       "      <td>0.798492</td>\n",
       "      <td>0.622778</td>\n",
       "    </tr>\n",
       "    <tr>\n",
       "      <th>distance_circularity</th>\n",
       "      <td>0.792444</td>\n",
       "      <td>0.798492</td>\n",
       "      <td>1.000000</td>\n",
       "      <td>0.771644</td>\n",
       "    </tr>\n",
       "    <tr>\n",
       "      <th>radius_ratio</th>\n",
       "      <td>0.691659</td>\n",
       "      <td>0.622778</td>\n",
       "      <td>0.771644</td>\n",
       "      <td>1.000000</td>\n",
       "    </tr>\n",
       "  </tbody>\n",
       "</table>\n",
       "</div>"
      ],
      "text/plain": [
       "                      compactness  circularity  distance_circularity  \\\n",
       "compactness              1.000000     0.692869              0.792444   \n",
       "circularity              0.692869     1.000000              0.798492   \n",
       "distance_circularity     0.792444     0.798492              1.000000   \n",
       "radius_ratio             0.691659     0.622778              0.771644   \n",
       "\n",
       "                      radius_ratio  \n",
       "compactness               0.691659  \n",
       "circularity               0.622778  \n",
       "distance_circularity      0.771644  \n",
       "radius_ratio              1.000000  "
      ]
     },
     "execution_count": 3,
     "metadata": {},
     "output_type": "execute_result"
    }
   ],
   "source": [
    "v_new=v.iloc[:, : 4]\n",
    "v_new.corr()"
   ]
  },
  {
   "cell_type": "code",
   "execution_count": 4,
   "id": "8a927635",
   "metadata": {},
   "outputs": [
    {
     "data": {
      "text/plain": [
       "(array([  4.,  53., 130., 203., 132., 133., 102.,  66.,  17.,   6.]),\n",
       " array([ 73. ,  77.6,  82.2,  86.8,  91.4,  96. , 100.6, 105.2, 109.8,\n",
       "        114.4, 119. ]),\n",
       " <BarContainer object of 10 artists>)"
      ]
     },
     "execution_count": 4,
     "metadata": {},
     "output_type": "execute_result"
    },
    {
     "data": {
      "image/png": "[encoded data removed]",
      "text/plain": [
       "<Figure size 432x288 with 1 Axes>"
      ]
     },
     "metadata": {
      "needs_background": "light"
     },
     "output_type": "display_data"
    }
   ],
   "source": [
    "plt.hist(v_new['compactness'])"
   ]
  },
  {
   "cell_type": "code",
   "execution_count": 34,
   "id": "608de653",
   "metadata": {},
   "outputs": [
    {
     "data": {
      "image/png": "[encoded data removed]",
      "text/plain": [
       "<Figure size 648x576 with 1 Axes>"
      ]
     },
     "metadata": {
      "needs_background": "light"
     },
     "output_type": "display_data"
    }
   ],
   "source": [
    "fig = plt.figure(figsize =(9, 8))\n",
    " \n",
    "# Creating axes instance\n",
    "ax = fig.add_axes([0, 0, 1, 1])\n",
    " \n",
    "# Creating plot\n",
    "bp = ax.boxplot(v_new)"
   ]
  },
  {
   "cell_type": "markdown",
   "id": "f61f5991",
   "metadata": {},
   "source": [
    "#### Question 3"
   ]
  },
  {
   "cell_type": "code",
   "execution_count": 20,
   "id": "0e0ed0cf",
   "metadata": {},
   "outputs": [],
   "source": [
    "from sklearn.model_selection import train_test_split\n",
    "from sklearn.metrics import accuracy_score\n",
    "from sklearn import tree\n",
    "import matplotlib.pyplot as plt\n"
   ]
  },
  {
   "cell_type": "code",
   "execution_count": 21,
   "id": "fb4e2869",
   "metadata": {},
   "outputs": [],
   "source": [
    "Y = pd.Series(v['class'])\n",
    "X = v.drop('class', axis = 1)"
   ]
  },
  {
   "cell_type": "code",
   "execution_count": 25,
   "id": "6cc10436",
   "metadata": {},
   "outputs": [],
   "source": [
    "X_train, X_test, Y_train, Y_test = train_test_split(X, Y, test_size=0.33, random_state=1)"
   ]
  },
  {
   "cell_type": "code",
   "execution_count": 26,
   "id": "c74c4f8c",
   "metadata": {},
   "outputs": [],
   "source": [
    "maxdepth = [2, 5, 10, 15, 20] \n"
   ]
  },
  {
   "cell_type": "code",
   "execution_count": 30,
   "id": "6bade917",
   "metadata": {},
   "outputs": [
    {
     "name": "stdout",
     "output_type": "stream",
     "text": [
      "The train/test accuracy for a max depth of 2 is 0.6342756183745583, 0.5857142857142857 \n",
      "The train/test accuracy for a max depth of 5 is 0.8127208480565371, 0.7 \n",
      "The train/test accuracy for a max depth of 10 is 0.950530035335689, 0.7 \n",
      "The train/test accuracy for a max depth of 15 is 0.9964664310954063, 0.725 \n",
      "The train/test accuracy for a max depth of 20 is 1.0, 0.7 \n"
     ]
    }
   ],
   "source": [
    "trainAcc = []\n",
    "testAcc = []\n",
    "for i in maxdepth:\n",
    "    clf = tree.DecisionTreeClassifier(max_depth=i)\n",
    "    clf = clf.fit(X_train, Y_train)\n",
    "    Y_pred_train = clf.predict(X_train)\n",
    "    Y_pred_test = clf.predict(X_test)\n",
    "    \n",
    "    train_accuracy = accuracy_score(Y_train, Y_pred_train)\n",
    "    test_accuracy = accuracy_score(Y_test, Y_pred_test)\n",
    "    \n",
    "    trainAcc.append(train_accuracy)\n",
    "    testAcc.append(test_accuracy)\n",
    "    \n",
    "    print(\"The train/test accuracy for a max depth of {} is {}, {} \".format(i, train_accuracy, test_accuracy))"
   ]
  },
  {
   "cell_type": "code",
   "execution_count": 33,
   "id": "c78e3042",
   "metadata": {},
   "outputs": [
    {
     "data": {
      "text/plain": [
       "[<matplotlib.lines.Line2D at 0x7fd6301f37c0>,\n",
       " <matplotlib.lines.Line2D at 0x7fd6301f33a0>]"
      ]
     },
     "execution_count": 33,
     "metadata": {},
     "output_type": "execute_result"
    },
    {
     "data": {
      "image/png": "[encoded data removed]",
      "text/plain": [
       "<Figure size 432x288 with 1 Axes>"
      ]
     },
     "metadata": {
      "needs_background": "light"
     },
     "output_type": "display_data"
    }
   ],
   "source": [
    "import matplotlib.pyplot as plt\n",
    "plt.plot(maxdepth,trainAcc,'ro-',maxdepth,testAcc,'bv--')"
   ]
  },
  {
   "cell_type": "code",
   "execution_count": null,
   "id": "e0152f76",
   "metadata": {},
   "outputs": [],
   "source": [
    "\n"
   ]
  }
 ],
 "metadata": {
  "kernelspec": {
   "display_name": "Python 3",
   "language": "python",
   "name": "python3"
  },
  "language_info": {
   "codemirror_mode": {
    "name": "ipython",
    "version": 3
   },
   "file_extension": ".py",
   "mimetype": "text/x-python",
   "name": "python",
   "nbconvert_exporter": "python",
   "pygments_lexer": "ipython3",
   "version": "3.8.8"
  }
 },
 "nbformat": 4,
 "nbformat_minor": 5
}

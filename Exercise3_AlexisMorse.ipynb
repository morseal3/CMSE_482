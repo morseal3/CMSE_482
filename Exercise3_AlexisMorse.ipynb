{
 "cells": [
  {
   "cell_type": "markdown",
   "id": "213e5409",
   "metadata": {},
   "source": [
    "## Exercise 4\n",
    "### By: Alexis Morse"
   ]
  },
  {
   "cell_type": "markdown",
   "id": "a50a9bb5",
   "metadata": {},
   "source": [
    "### 1. You will use the wiki_edit.txt file from Exercise 1. Make sure the data file is in the directory where you will be writing your python code."
   ]
  },
  {
   "cell_type": "code",
   "execution_count": null,
   "id": "6852560a",
   "metadata": {},
   "outputs": [],
   "source": [
    "import pandas as p\n",
    "column_names = ['RevisionId', 'ArticleName', 'Timestamp', 'Editor']\n",
    "data = p.read_table('wiki_edit.txt',sep=' ',header=None,names=column_names)\n",
    "data[:4]"
   ]
  },
  {
   "cell_type": "markdown",
   "id": "be43008d",
   "metadata": {},
   "source": [
    "### 2. Write a python script using the mysql-connector library to performs the following steps:\n",
    "\n",
    "##### a. Open a connection to the CSE database server (mysql-user-cse.egr.msu.edu). Your username and database name is the same as your MSU NetID. If you’re using the database for the first time, the password is your student PID. Note: if you can’t access the database server from outside the campus, you may need to use the EGR VPN or do the exercise on campus. Please refer to our announcement on d2l (on Sep 19) for further information.\n",
    "##### b. Create a table named Wiki_Edit, which contains the following schema: \n",
    "        RevisionID: int Primary Key\n",
    "        ArticleName: varchar(100) EditDate: date\n",
    "        UserName: varchar(50)\n",
    "##### c. Read the file wiki_edit.txt and parse each line to identify the individual fields. For this exercise, do not use the read_table and DataFrame approach shown in lecture 4. Instead, you should read the file directly, parse each line, and store the fields from each line into the database. You should refer to the example given in slide #16 in lecture 2 on how to read from the data file directly and split each line into the individual fields.\n",
    "##### d. Query the database to find the Article name with largest number of edits.\n",
    "##### e. NOTE: you can only connect to the CSE database server if you’re on the EGR network. Try todo the exercise on campus. Otherwise, you need to install mysql on your own laptop."
   ]
  },
  {
   "cell_type": "code",
   "execution_count": null,
   "id": "90fd877d",
   "metadata": {
    "scrolled": true
   },
   "outputs": [],
   "source": [
    "pip install mysql.connector"
   ]
  },
  {
   "cell_type": "code",
   "execution_count": null,
   "id": "f6e40540",
   "metadata": {},
   "outputs": [],
   "source": [
    "import mysql.connector\n",
    "from mysql.connector import errorcode"
   ]
  },
  {
   "cell_type": "code",
   "execution_count": null,
   "id": "9539f63f",
   "metadata": {},
   "outputs": [],
   "source": [
    "uname = \"morseal3\"\n",
    "pwd = \"jNlNs2023\"\n",
    "hname = \"mysql-user-cse.egr.msu.edu\""
   ]
  },
  {
   "cell_type": "code",
   "execution_count": null,
   "id": "62f4786a",
   "metadata": {},
   "outputs": [],
   "source": [
    "### Question (a) & (b)\n",
    "\n",
    "import mysql.connector\n",
    "from mysql.connector import errorcode\n",
    "\n",
    "try:\n",
    "    cnx = mysql.connector.connect(user=uname, password=pwd, host=hname, database=uname)\n",
    "    cursor = cnx.cursor()\n",
    "    query = \"DROP TABLE IF EXISTS Wiki_Edit\"\n",
    "    cursor.execute(query)\n",
    "\n",
    "    query = \"\"\"CREATE TABLE IF NOT EXISTS Wiki_Edit (RevId int PRIMARY KEY,\n",
    "                                ArticleName varchar(100), EditDate date, User varchar(50))\n",
    "            \"\"\"\n",
    "    cursor.execute(query)\n",
    "    cursor.close()\n",
    "    cnx.commit()\n",
    "    cnx.close()\n",
    "    \n",
    "except:\n",
    "    print(mysql.connector.Error)\n"
   ]
  },
  {
   "cell_type": "code",
   "execution_count": null,
   "id": "835d563e",
   "metadata": {},
   "outputs": [],
   "source": [
    "### Question (c)\n",
    "def byUnicode(char):\n",
    "    if ord(char) < 48 or ord(char) > 127: return ''\n",
    "    else: return char\n",
    "\n",
    "try:\n",
    "    cnx = mysql.connector.connect(user=uname, password=pwd, host=hname, database=uname)\n",
    "    cursor = cnx.cursor()\n",
    "    \n",
    "    for index, row in data.iterrows():\n",
    "        rid = row['RevisionId']\n",
    "        Article = ''.join(list(filter(byUnicode, row['ArticleName'])))\n",
    "        EditDate = row['Timestamp']\n",
    "        User = row['Editor']\n",
    "        if index < 100:\n",
    "            query = \"INSERT INTO Wiki_Edit VALUES (\" + str(rid) + \",'\" \n",
    "            query += Article + \"','\" + EditDate + \"','\"+ User + \"')\"\"\"\n",
    "            cursor.execute(query)\n",
    "        \n",
    "    cnx.commit()\n",
    "    cursor.close()\n",
    "    cnx.close()\n",
    "    \n",
    "except:\n",
    "    print(mysql.connector.Error)   "
   ]
  },
  {
   "cell_type": "code",
   "execution_count": null,
   "id": "10d39e81",
   "metadata": {},
   "outputs": [],
   "source": [
    "### Question (d)\n",
    "try:\n",
    "    cnx = mysql.connector.connect(user=uname, password=pwd, host=hname, database=uname)\n",
    "    cursor = cnx.cursor()\n",
    "    query = \"SELECT ArticleName, COUNT(ArticleName) as occur FROM Wiki_Edit GROUP BY ArticleName ORDER BY occur DESC LIMIT 1;\"\n",
    "    cursor.execute(query)\n",
    "    \n",
    "    for (rid, article, edate, user) in cursor:\n",
    "        print(article)\n",
    "        \n",
    "\n",
    "    cursor.close()\n",
    "    cnx.close()\n",
    "    \n",
    "except:\n",
    "    print(mysql.connector.Error) \n",
    "    \n"
   ]
  },
  {
   "cell_type": "markdown",
   "id": "b29caeee",
   "metadata": {},
   "source": [
    "### 3. Install MongoDB to your machine.\n",
    "##### a. Launch the MongoDB server.\n",
    "##### b. Using pymongo, write an Jupyter notebook script that will store the entries in the wiki_edit.txt file to a collection named wiki in MongoDB. To store the data, you need to convert each line into a dictionary object. The keys to the dictionary correspond to RevisionID, ArticleName, EditDate, and UserName and the values correspond to the individual entries in each line of the file:\n",
    "        columns = line.strip().split(‘ ‘)\n",
    "        record = { ‘RevisionID’: columns[0], ...., ‘UserName’: columns[3]} db.wiki.insert_one(record)\n",
    "##### c. Write a query to find the date and username of editors who edited the “Anarchism” article: \n",
    "    revisions = db.wiki \n",
    "    for line in revisions.find({\"ArticleName\": \"Anarchism\"}): print line[\"EditDate\"], line[\"UserName\"]"
   ]
  },
  {
   "cell_type": "code",
   "execution_count": null,
   "id": "ae5d8c73",
   "metadata": {},
   "outputs": [],
   "source": [
    "pip install pymongo"
   ]
  },
  {
   "cell_type": "code",
   "execution_count": null,
   "id": "4dd4e547",
   "metadata": {},
   "outputs": [],
   "source": [
    "### Question (a)\n",
    "\n",
    "from pymongo import MongoClient\n",
    "client = pymongo.MongoClient('localhost', 27017)\n",
    "db = client['Wiki']\n",
    "collection = db['entries']"
   ]
  },
  {
   "cell_type": "code",
   "execution_count": null,
   "id": "059dab53",
   "metadata": {},
   "outputs": [],
   "source": [
    "### Question (b)\n",
    "\n",
    "for line in data:\n",
    "    columns = line.strip().split('')\n",
    "    record = {'RevisionID': columns[0], 'ArticleName': columns[1], 'EditDate': columns[2], 'UserName': columns[3]} \n",
    "    db.wiki.insert_one(record)\n",
    "\n",
    "db.createCollection(wiki, collection)"
   ]
  },
  {
   "cell_type": "code",
   "execution_count": null,
   "id": "a862c5b4",
   "metadata": {},
   "outputs": [],
   "source": [
    "### Question (c)\n",
    "revisions = db.wiki \n",
    "for line in revisions:\n",
    "    if line.key() == \"ArticleName\":\n",
    "        print(line[\"EditDate\"], line[\"UserName\"])\n",
    "    if line.key() == \"Anarchism\":\n",
    "        print(line[\"EditDate\"], line[\"UserName\"])"
   ]
  },
  {
   "cell_type": "code",
   "execution_count": null,
   "id": "3fd301e9",
   "metadata": {},
   "outputs": [],
   "source": []
  }
 ],
 "metadata": {
  "kernelspec": {
   "display_name": "Python 3",
   "language": "python",
   "name": "python3"
  },
  "language_info": {
   "codemirror_mode": {
    "name": "ipython",
    "version": 3
   },
   "file_extension": ".py",
   "mimetype": "text/x-python",
   "name": "python",
   "nbconvert_exporter": "python",
   "pygments_lexer": "ipython3",
   "version": "3.8.8"
  }
 },
 "nbformat": 4,
 "nbformat_minor": 5
}

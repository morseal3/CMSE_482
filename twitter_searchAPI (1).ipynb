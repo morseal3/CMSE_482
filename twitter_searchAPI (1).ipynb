{
 "cells": [
  {
   "cell_type": "code",
   "execution_count": 1,
   "metadata": {
    "collapsed": true
   },
   "outputs": [],
   "source": [
    "import tweepy\n",
    "from tweepy import OAuthHandler\n",
    "from tweepy import API"
   ]
  },
  {
   "cell_type": "code",
   "execution_count": 2,
   "metadata": {
    "collapsed": true
   },
   "outputs": [],
   "source": [
    "# Replace the X's with your consumer tokens and access tokens for your application.\n",
    "# To create the application, go to https://dev.twitter.com\n",
    "C_KEY = 'M0owrF9vxy04gAR8tdEN4sHPf'\n",
    "C_SECRET = 'n1yYEi4ToTc3VFXB7xIvgvTcj0BE7aosOrJJEImRU3GNzZt8v1'\n",
    "A_TOKEN_KEY = '21012983-iQRSwUZwKifpEGi7BMkdMscPLKDMnIGVfbc65mQgT'\n",
    "A_TOKEN_SECRET = 'qYRztRP3IDs3uDZZXHf8WfUq6JjSljTHB6CN2dwb5detE'"
   ]
  },
  {
   "cell_type": "raw",
   "metadata": {},
   "source": [
    "# Create a handler for Twitter authorization "
   ]
  },
  {
   "cell_type": "code",
   "execution_count": 3,
   "metadata": {
    "collapsed": true
   },
   "outputs": [],
   "source": [
    "auth = tweepy.OAuthHandler(C_KEY, C_SECRET)\n",
    "auth.set_access_token(A_TOKEN_KEY, A_TOKEN_SECRET)\n",
    "api = tweepy.API(auth)"
   ]
  },
  {
   "cell_type": "raw",
   "metadata": {},
   "source": [
    "# Specify the keyword. Submit search query to Twitter requesting for 5 latest tweets\n",
    "# For each tweet, print the tweet message"
   ]
  },
  {
   "cell_type": "code",
   "execution_count": 5,
   "metadata": {},
   "outputs": [
    {
     "name": "stdout",
     "output_type": "stream",
     "text": [
      "* RT @MeriStation: Nintendo confirma que Zelda: Breath of the Wild funciona a 900p en Nintendo Switch en modo Dock y 720p en portátil\n",
      "\n",
      "https:…\n",
      "* Líbí se mi video @YouTube https://t.co/JGfzMwuQNI Xenoblade Chronicles 2 Nintendo Switch trailer\n",
      "* Nintendo's Switch won't run 'Zelda' at 1080p If you're the proud owner of a Wii U, you might be wondering whether... https://t.co/5bH6sJZ8Xi\n",
      "* Nintendo Switchのロゴは実はアシンメトリーで視覚上で均等に見えるように計算されて調整されているという話 https://t.co/VkMt6Bt3QS\n",
      "* Nintendo Switch用「みんなでワイワイ！スペランカー」発売日と価格が ... - GAME Watch #任天堂\n",
      "\n",
      "https://t.co/gOSI9T1H1E\n",
      "* スクウェア・エニックスの完全新規RPGプロジェク ト『Project OCTOPATH TRAVELER』が始動 - ファミ通.com #任天堂\n",
      "\n",
      "https://t.co/TxzfXRUUq7\n",
      "* RT @nintendeal: Nintendo Switch launch titles compared to Nintendo 64 launch titles https://t.co/1UoMEEzRG3\n",
      "* Nintendo made a low powered console? This is my shocked face... https://t.co/h1l7sPDuGS\n",
      "* RT @EsMuyBarato: ¡Ojo que la pre-reserva baja de precio!\n",
      "Consola Nintendo Switch color gris por sólo 319 € \n",
      "¡Aprovecha que se acaba!\n",
      "https:…\n",
      "* RT @engadget: Nintendo's Switch Pro controller is refined, but not perfect https://t.co/W3FGYNPjfQ https://t.co/cZANj6TtEb\n",
      "* Photo : Figurines Nintendo : un Tortank de la marque Bandai #gaming #news https://t.co/n07jRtDFu2\n",
      "* @Zapstar16 Goed dat je het navraagt. Als je de Nintendo Switch pre-ordert, dan heb je 'm op de releasedatum in huis. Heb je nog vragen?\n",
      "* #Zelda: Breath of the Wild - Nintendo verrät Unterschiede zwischen Wii U- &amp; Switch-Version --&gt;… https://t.co/NwfJsm09Xh\n",
      "* Nintendo's Switch won't run 'Zelda' at 1080p https://t.co/qSS1FeGycM\n",
      "* Me gustó un video de @YouTube https://t.co/IMy1Q30U9L ¡¡¡SUPER MARIO ODYSSEY LA VUELTA DE UN GRAN MARIO!!! - NINTENDO SWITCH -\n",
      "* RT @Amiibofrance: La pochette de transport #ZeldaBreathoftheWild pour #nintendoswitch en préco sur la Fnac !\n",
      "► https://t.co/u19JjZu3lj http…\n",
      "* Nintendo Switch : la nouvelle console en photos https://t.co/9XBIlVrJKv\n",
      "* Nintendo's Switch won't run 'Zelda' at 1080p https://t.co/uZBeA4kQpy\n",
      "* RT @nintendeal: Nintendo Switch launch titles compared to Nintendo 64 launch titles https://t.co/1UoMEEzRG3\n",
      "* RT @nintendeal: Nintendo Switch launch titles compared to Nintendo 64 launch titles https://t.co/1UoMEEzRG3\n",
      "* Any place i can still preorder the nintendo switch?\n",
      "* Report: 'Pokemon Sun and Moon' coming to Nintendo Switch in 2017 https://t.co/QgWsglkT02\n",
      "* #TEAMG1 peut-on espérer un jeu pokémon sur Nintendo switch?\n",
      "* RT @ADRI_GEEK: Vous en pensez quoi de la Nintendo Switch et de son prix 330€ ?\n",
      "Liste des jeux prévu:\n",
      "https://t.co/sGF7cI2Zeh\n",
      "#Geek https://…\n",
      "* I was about 15 years old when I lost \"it\", I can't get it back...and by \"it\" I mean my Nintendo DS stylus, I'm never finding that bitch.\n",
      "* Here's an interview of @ubisoft's Xavier Poix by @Chris_Dring at @GIBiz about the Switch that is well worth a read. https://t.co/cmjDz9USnY\n",
      "* Nintendo 3DS XL Launch Edition Pokemon Alpha X Y Blue limited Handheld System https://t.co/wJKkr9ZWoC\n",
      "* New nintendo 3ds XL W/ games, accessories, and 16gb microSD https://t.co/qBiW11ZwgB\n",
      "* Welcome to AleKart #mariokart #nintendo https://t.co/5bTHJpyCnp\n",
      "* #tecnología Nintendo's Switch won't run 'Zelda' at 1080p https://t.co/oCCkSopZCW @JotaGe2014 https://t.co/NVWMWvWaot\n",
      "* Nintendo's Switch won't run 'Zelda' at 1080p https://t.co/afA2N4cPR6 #engadget #tomgadget\n",
      "* Nintendo Switch Title Minna de Waiwai! Spelunker Launches April 20 in Japan https://t.co/bpqXybgfjv https://t.co/3JAu7EHtaW\n",
      "* EA: Nintendo Switch \"Challenges Coventions\", Forces Developers To Think Differently; Nothing Else To Announce ... -… https://t.co/er84Wq2kxx\n",
      "* Luister naar Rush Talk: Nintendo maakt de Switch, maar maken gamers hem ook? https://t.co/4QHp35U7Dj https://t.co/ufCKHLGZOp\n",
      "* RT @MrGaryGamingYT: 🔥🔥 SORTEO MUNDIAL DE UNA NINTENDO SWITCH 🔥🔥\n",
      "👉 SUSCRIBETE A MI CANAL: https://t.co/PJurgwfV5i\n",
      "👉 Dar RT a ESTE TWEET + FO…\n",
      "* RT @NinSwitchNews: Nintendo says #NintendoSwitch was intentionally designed to take on the appearance of a dog →https://t.co/ZjOgZXRaBl (vi…\n",
      "* [GeeKritique] Ma critique de Let's Get Married! Tome 3 https://t.co/TbaLDRljoO\n",
      "* The Legend of Zelda: The Wind Waker + Nintendo Power Guide GameCube NEW https://t.co/doLH5kkEJT #ebay #deals #toys #games\n",
      "* RT @Alimony_Mindset: Why did Nintendo fire this PR person again https://t.co/g9rARiyrZ0\n",
      "* #iGames #Games #xbox #PS4 Nintendo's Switch won't run 'Zelda' at 1080p https://t.co/ikbomaZpGx https://t.co/79eI2MTOfy\n",
      "* I liked a @YouTube video from @the8bitericshow https://t.co/nJ2qHpKUE8 10 GOOD THINGS ABOUT NINTENDO SWITCH | 8-Bit Eric\n",
      "* @UberNick_ @Forge_Labs I think that by the end of it, I may just get a Wii U and call it a day there. Nintendo's business practices are a-\n",
      "* #iGames #Games #xbox #PS4 Nintendo's Switch won't run 'Zelda' at 1080p https://t.co/ikbomaZpGx https://t.co/aGBQlRUhSD\n",
      "* EA: Nintendo Switch \"Challenges Coventions\", Forces Developers To Think Differently; Nothing Else To Announce ... -… https://t.co/oOtLXuRPya\n",
      "* RT @Eurogamer_es: NUEVO VÍDEO: ARMS - Probamos la NUEVA FRANQUICIA de lucha de NINTENDO SWITCH https://t.co/ETahqFXFCO\n",
      "* @notpatrick Nintendo's Switch won't run 'Zelda' at 1080p https://t.co/3I83dVWU04\n",
      "* update video maart 2017 :Era of Nintendo Switch laatste wii u games focus gamecube en wii games komt donderdag.10:00 @YouTubeNL #yioutube\n",
      "* Buenas noticias, Monster Boy and the Cursed Kingdom llegará a Nintendo Switch https://t.co/2psVAonN8c\n",
      "* #gaming First Look at the Nintendo Switch Pro Controller: Take a deep dive into the features and cost of the Switch… https://t.co/f3wcfOaxXU\n",
      "* Nintendo's Switch won't run 'Zelda' at 1080p https://t.co/BpUpX72eVK #metabloks\n",
      "* Anyone noticed that the Nintendo Switch comes out on Azura's birthday? Imagine if fire emblem warriors was a launch… https://t.co/RotHKvDl7p\n",
      "* RT @AlfaBetaJuega: Subastan una botella de agua del evento de Nintendo Switch a precio de oro. Lo que hay que ver 😱  https://t.co/SAsZowAXY…\n",
      "* RT @_TNews: Nintendo's Switch won't run 'Zelda' at 1080p https://t.co/vQ9Yj6DVJb #Tech https://t.co/mkAk7qRJG9\n",
      "* Nintendo Switch pode ser tão impactante quanto o Wii foi, diz Ubisoft https://t.co/xVBiFGN5sj\n",
      "* RT @PaulTassi: The Switch Is A Kobayashi Maru For Nintendo via @forbes https://t.co/RzhtW6FoQ7 Spent a while on this\n",
      "* RT @ArtofPokemon: Ambush! By AmazingArtistYellow. (https://t.co/eITeSOYvVT) #Pokemon #Nintendo #PokemonArt https://t.co/t5rLc1gCif\n",
      "* I thought it was the flu that was making me sick but it's actually Nintendo fans who are trying to justify the smartphone voice chat app.\n",
      "* Philipp Poisel - Zum ersten Mal Nintendo (offizielles Video) https://t.co/VIKp1SGUvf vía @YouTube\n",
      "* RT @EBGamesCanada: #ZeldaBreathoftheWild Special Edition will be coming to EB Games! Price and availability to come at a later date. #Ninte…\n",
      "* RT @NintendoIns: Artist Creates Custom Nintendo Switch Dog amiibo (@MissGandaKris) #NintendoSwitch #amiibo https://t.co/qBJNMlWwu2 https://…\n",
      "* News: Phil Spence spricht ueber Switch https://t.co/VjxAwEqHgQ\n",
      "* Why Nintendo isn't interested in the digital arms race: The Switch, out of its dock,  propped up by…… https://t.co/r8YqBIQoiv\n",
      "* RT @EBGamesCanada: #ZeldaBreathoftheWild Special Edition will be coming to EB Games! Price and availability to come at a later date. #Ninte…\n",
      "* RT @nintendeal: Follow + RT for your chance to win a Nintendo Switch AND The Legend of Zelda: Breath of the Wild Master Edition on release…\n",
      "* NINTENDO SWITCH Giveaway Contest! 3 CONSOLES TO BE WON https://t.co/3DCVoH2OPo\n",
      "* RT @skyrimnews: The Elder Scrolls V: Skyrim Comparison On Nintendo Switch And PC Shows Huge Difference - iTech Post https://t.co/qmCqFBkmpi…\n",
      "* Please RT! #games #videogames Sakurai Says He Is Still In A Lot Of Pain https://t.co/CUzgCKCtKn\n",
      "* RT @NinSwitchNews: 「Xenoblade Chronicles」 Game Music Live by 'Nintendo Special Rock Band' #NintendoSwitch https://t.co/l3q7sCBbbt\n",
      "* RT @crissles: I have cable, wifi, PS4, Nintendo, Grubhub, weed, and liquor at my house. If you can't be more entertaining than that I'm fin…\n",
      "* RT @engadget: Nintendo's Switch won't run 'Zelda' at 1080p https://t.co/aUFBP0NKfo https://t.co/RmcjyQRKOG\n",
      "* Nintendo venderá 2 millones de la Switch en marzo, 10 millones en 2017\n",
      "                                     \n",
      "     … https://t.co/pD9JDJym2B\n",
      "* RT @nintendeal: Nintendo Switch launch titles compared to Nintendo 64 launch titles https://t.co/1UoMEEzRG3\n",
      "* Mario Classic Color Amiibo (Super Smash Bros Series) by Nintendo https://t.co/r32GHo90Iq\n",
      "* RT @ArtofPokemon: Ambush! By AmazingArtistYellow. (https://t.co/eITeSOYvVT) #Pokemon #Nintendo #PokemonArt https://t.co/t5rLc1gCif\n",
      "* Rachelle Lefevre - Nintendo Lounge on the TV Guide Magazine Yacht at 2015 Comic-Con in San Diego https://t.co/HfKraJ66YF #RachelleLefevre\n",
      "* RT @ArtofPokemon: Ambush! By AmazingArtistYellow. (https://t.co/eITeSOYvVT) #Pokemon #Nintendo #PokemonArt https://t.co/t5rLc1gCif\n",
      "* #GameSpot &gt;&gt; Ubisoft Exec on Nintendo Switch's Price, Launch Lineup https://t.co/S1DwG81CAw https://t.co/3YapgHim5B\n",
      "* RT @gamespot: Nintendo Switch may get another Zelda game after Breath of the Wild. https://t.co/NH7Kd8HN6w https://t.co/8WuCTSb2bm\n",
      "* RT @ArtofPokemon: Ambush! By AmazingArtistYellow. (https://t.co/eITeSOYvVT) #Pokemon #Nintendo #PokemonArt https://t.co/t5rLc1gCif\n",
      "* Dernier trending au boulot : S'amuser avec des portefeuilles virtuels sur Boursorama\n",
      "Je mise tout sur Nintendo\n",
      "* Nintendo's Switch won't run 'Zelda' at 1080p https://t.co/s2g96Tb5lK #Engadget\n",
      "* https://t.co/OAPnvi774z mi opinion despues de unos dias de la presentscion de nintendo switch , no te la pietdas http//www.alextvnewss.com\n",
      "* RT @ElizaScarletyes: Sasel - opinion - nintendo  \"Nintendo eran GANGSTERS\" https://t.co/dDYGqbD3vQ\n",
      "* Nintendo venderá 2 millones de la Switch en marzo, 10 millones en 2017\n",
      "                                     \n",
      "     … https://t.co/NgfEBofvXG\n",
      "* @BSBrent_ yeah Nintendo might not have super strong relationship with the game but it makes sense for it to be on the switch for sure\n",
      "* Gostei de um vídeo @YouTube de @snaizen https://t.co/762YQLU9WP MARIO ODYSSEY NO GTA E SPELUNKER NO NINTENDO SWITCH | Flash Effect\n",
      "* Tech: Nintendo's Switch won't run 'Zelda' at 1080p https://t.co/lirueeHs74\n",
      "* @GamesRadar If it's Nintendo that's making it, we're NOT gonna stop comparing it to the 2 previous systems.\n",
      "* RT @NintendoEurope: The #FireEmblem Direct airs later at 23:00 CET. Tune in to learn more about upcoming Fire Emblem titles! ► https://t.co…\n",
      "* RT @nintendeal: Nintendo Switch launch titles compared to Nintendo 64 launch titles https://t.co/1UoMEEzRG3\n",
      "* Nintendo's Switch won't run 'Zelda' at 1080p https://t.co/i4NhKqE3MD https://t.co/HJlmU0o1pq https://t.co/oxE1nFqvvp\n",
      "* #TechNews Nintendo's Switch won't run 'Zelda' at 1080p - https://t.co/j7BFVSUas2\n",
      "* The Switch Is A Kobayashi Maru For Nintendo https://t.co/ah42m3MffR\n",
      "* Just got myself a frickin' large #Nintendo logo! Seems like an official one. @NintendoNL @NintendoAmerica - Couldn'… https://t.co/BAs7Dbj0yy\n",
      "* Fire Emblem Nintendo Direct spoilers https://t.co/E9jsogThRY\n",
      "* Nintendo Switch pode ser tão impactante quanto o Wii foi, diz Ubisoft https://t.co/Hp1DZYbaOY #marketingonline\n",
      "* RT @NintendoES: El #FireEmblem Direct comenzará a las 23:00. ¡Entérate de todo sobre los próximos títulos de Fire Emblem! ► https://t.co/ua…\n",
      "* RT @NintendoUK: Join us for a #FireEmblem Direct on January 18th at 22:00 GMT to learn more about upcoming Fire Emblem titles!\n",
      "\n",
      "► https://t…\n",
      "* RT @gameone: Êtes-vous tentés par la Nintendo Switch ? #TEAMG1 #nintendoswitch\n",
      "* @SuperNintendad Yes.  It'll launch well because of the Nintendo hardcore, but fall off shortly after because of the game drought.\n"
     ]
    }
   ],
   "source": [
    "keyword = 'nintendo'\n",
    "posts = api.search(q=keyword,count=100)\n",
    "for tweet in posts:\n",
    "    print(\"* \"+str(tweet.text.encode(\"utf-8\")))"
   ]
  },
  {
   "cell_type": "code",
   "execution_count": 6,
   "metadata": {},
   "outputs": [],
   "source": [
    "import json\n",
    "with open('twitter.json', 'w') as fp:\n",
    "    for tweet in posts:\n",
    "        json.dump(tweet._json, fp)\n",
    "        fp.write('\\n')"
   ]
  },
  {
   "cell_type": "code",
   "execution_count": 7,
   "metadata": {},
   "outputs": [
    {
     "name": "stdout",
     "output_type": "stream",
     "text": [
      "CDC\n"
     ]
    }
   ],
   "source": [
    "print tweet.user.name"
   ]
  },
  {
   "cell_type": "code",
   "execution_count": null,
   "metadata": {
    "collapsed": true
   },
   "outputs": [],
   "source": []
  }
 ],
 "metadata": {
  "anaconda-cloud": {},
  "kernelspec": {
   "display_name": "Python 3",
   "language": "python",
   "name": "python3"
  },
  "language_info": {
   "codemirror_mode": {
    "name": "ipython",
    "version": 3
   },
   "file_extension": ".py",
   "mimetype": "text/x-python",
   "name": "python",
   "nbconvert_exporter": "python",
   "pygments_lexer": "ipython3",
   "version": "3.8.8"
  }
 },
 "nbformat": 4,
 "nbformat_minor": 2
}

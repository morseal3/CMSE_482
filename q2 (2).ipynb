{
 "cells": [
  {
   "cell_type": "markdown",
   "metadata": {},
   "source": [
    "## Homework 1 - Mary Andrews"
   ]
  },
  {
   "cell_type": "code",
   "execution_count": 1,
   "metadata": {},
   "outputs": [],
   "source": [
    "import pandas as pd"
   ]
  },
  {
   "cell_type": "code",
   "execution_count": 2,
   "metadata": {},
   "outputs": [
    {
     "data": {
      "text/html": [
       "<div>\n",
       "<style scoped>\n",
       "    .dataframe tbody tr th:only-of-type {\n",
       "        vertical-align: middle;\n",
       "    }\n",
       "\n",
       "    .dataframe tbody tr th {\n",
       "        vertical-align: top;\n",
       "    }\n",
       "\n",
       "    .dataframe thead th {\n",
       "        text-align: right;\n",
       "    }\n",
       "</style>\n",
       "<table border=\"1\" class=\"dataframe\">\n",
       "  <thead>\n",
       "    <tr style=\"text-align: right;\">\n",
       "      <th></th>\n",
       "      <th>user</th>\n",
       "      <th>sku</th>\n",
       "      <th>category</th>\n",
       "      <th>query</th>\n",
       "      <th>click_time</th>\n",
       "      <th>query_time</th>\n",
       "    </tr>\n",
       "  </thead>\n",
       "  <tbody>\n",
       "    <tr>\n",
       "      <th>0</th>\n",
       "      <td>00065b1c372618e0f4de04b4e81113a232691032</td>\n",
       "      <td>1331156</td>\n",
       "      <td>pcmcat128700050041</td>\n",
       "      <td>apple tv</td>\n",
       "      <td>2011-09-05 11:43:51.443</td>\n",
       "      <td>2011-09-05 11:43:22.266</td>\n",
       "    </tr>\n",
       "    <tr>\n",
       "      <th>1</th>\n",
       "      <td>0007396a7aff176701eea1cf7ac71fc7ad47c9cb</td>\n",
       "      <td>3122039</td>\n",
       "      <td>pcmcat50300050014</td>\n",
       "      <td>Delis bionic</td>\n",
       "      <td>2011-09-18 11:59:24.339</td>\n",
       "      <td>2011-09-18 11:58:43.67</td>\n",
       "    </tr>\n",
       "    <tr>\n",
       "      <th>2</th>\n",
       "      <td>0008f55a6ea1aaf500b8d6a4631c79aa6ff46812</td>\n",
       "      <td>9225411</td>\n",
       "      <td>abcat0201011</td>\n",
       "      <td>32g iPod touch</td>\n",
       "      <td>2011-10-19 00:04:53.132</td>\n",
       "      <td>2011-10-19 00:04:40.825</td>\n",
       "    </tr>\n",
       "    <tr>\n",
       "      <th>3</th>\n",
       "      <td>0009901c4e06520082dd52e7634e8427717ed51a</td>\n",
       "      <td>2375201</td>\n",
       "      <td>abcat0703002</td>\n",
       "      <td>madden 12</td>\n",
       "      <td>2011-08-29 19:32:01.97</td>\n",
       "      <td>2011-08-29 19:31:27.691</td>\n",
       "    </tr>\n",
       "    <tr>\n",
       "      <th>4</th>\n",
       "      <td>000c62e1a07d47979fdbf7e874d28c57b9bd44bf</td>\n",
       "      <td>2204211</td>\n",
       "      <td>pcmcat144700050004</td>\n",
       "      <td>Tron headphones</td>\n",
       "      <td>2011-10-14 03:58:38.43</td>\n",
       "      <td>2011-10-14 03:58:15.222</td>\n",
       "    </tr>\n",
       "  </tbody>\n",
       "</table>\n",
       "</div>"
      ],
      "text/plain": [
       "                                       user      sku            category  \\\n",
       "0  00065b1c372618e0f4de04b4e81113a232691032  1331156  pcmcat128700050041   \n",
       "1  0007396a7aff176701eea1cf7ac71fc7ad47c9cb  3122039   pcmcat50300050014   \n",
       "2  0008f55a6ea1aaf500b8d6a4631c79aa6ff46812  9225411        abcat0201011   \n",
       "3  0009901c4e06520082dd52e7634e8427717ed51a  2375201        abcat0703002   \n",
       "4  000c62e1a07d47979fdbf7e874d28c57b9bd44bf  2204211  pcmcat144700050004   \n",
       "\n",
       "             query               click_time               query_time  \n",
       "0         apple tv  2011-09-05 11:43:51.443  2011-09-05 11:43:22.266  \n",
       "1     Delis bionic  2011-09-18 11:59:24.339   2011-09-18 11:58:43.67  \n",
       "2   32g iPod touch  2011-10-19 00:04:53.132  2011-10-19 00:04:40.825  \n",
       "3        madden 12   2011-08-29 19:32:01.97  2011-08-29 19:31:27.691  \n",
       "4  Tron headphones   2011-10-14 03:58:38.43  2011-10-14 03:58:15.222  "
      ]
     },
     "execution_count": 2,
     "metadata": {},
     "output_type": "execute_result"
    }
   ],
   "source": [
    "bestbuy = pd.read_csv('bestbuy.csv')\n",
    "bestbuy.head()"
   ]
  },
  {
   "cell_type": "code",
   "execution_count": 4,
   "metadata": {},
   "outputs": [],
   "source": [
    "bb_data = []\n",
    "for i, row in bestbuy.iterrows():\n",
    "    data_d = {'User': row[0],\n",
    "              'SKU': row[1],\n",
    "              'Category': row[2],\n",
    "              'Query': row[3],\n",
    "              'ClickTime': row[4],\n",
    "              'QueryTime': row[5]}\n",
    "    bb_data.append(data_d)"
   ]
  },
  {
   "cell_type": "markdown",
   "metadata": {},
   "source": [
    "### Question 2"
   ]
  },
  {
   "cell_type": "code",
   "execution_count": 2,
   "metadata": {
    "scrolled": true
   },
   "outputs": [
    {
     "name": "stdout",
     "output_type": "stream",
     "text": [
      "Collecting pymongo\n",
      "  Downloading pymongo-4.2.0-cp38-cp38-win_amd64.whl (374 kB)\n",
      "Installing collected packages: pymongo\n",
      "Successfully installed pymongo-4.2.0\n"
     ]
    }
   ],
   "source": [
    "!pip install pymongo"
   ]
  },
  {
   "cell_type": "code",
   "execution_count": 5,
   "metadata": {},
   "outputs": [],
   "source": [
    "from pymongo import MongoClient\n",
    "client = MongoClient('localhost', 27017)\n",
    "\n",
    "db = client['test']\n",
    "collection = db['bestbuy']"
   ]
  },
  {
   "cell_type": "code",
   "execution_count": 6,
   "metadata": {},
   "outputs": [],
   "source": [
    "record = collection.insert_many(bb_data)"
   ]
  },
  {
   "cell_type": "code",
   "execution_count": 17,
   "metadata": {},
   "outputs": [
    {
     "data": {
      "text/plain": [
       "15210"
      ]
     },
     "execution_count": 17,
     "metadata": {},
     "output_type": "execute_result"
    }
   ],
   "source": [
    "collection.count_documents({})"
   ]
  },
  {
   "cell_type": "code",
   "execution_count": 20,
   "metadata": {},
   "outputs": [],
   "source": [
    "pipeline = [\n",
    "   {\n",
    "      \"$group\": {\n",
    "         \"_id\": \"$SKU\", \"total\" : {\"$sum\": 1}\n",
    "      }\n",
    "   }, \n",
    "   {\n",
    "      \"$sort\": {\n",
    "         \"total\": -1\n",
    "      }\n",
    "   },\n",
    "]"
   ]
  },
  {
   "cell_type": "code",
   "execution_count": 23,
   "metadata": {},
   "outputs": [
    {
     "data": {
      "text/plain": [
       "[{'_id': 2842056, 'total': 1227},\n",
       " {'_id': 2842092, 'total': 673},\n",
       " {'_id': 1945531, 'total': 654},\n",
       " {'_id': 9755322, 'total': 634},\n",
       " {'_id': 9225377, 'total': 557}]"
      ]
     },
     "execution_count": 23,
     "metadata": {},
     "output_type": "execute_result"
    }
   ],
   "source": [
    "list(db.bestbuy.aggregate(pipeline))[:5]"
   ]
  },
  {
   "cell_type": "code",
   "execution_count": null,
   "metadata": {},
   "outputs": [],
   "source": []
  }
 ],
 "metadata": {
  "kernelspec": {
   "display_name": "Python 3",
   "language": "python",
   "name": "python3"
  },
  "language_info": {
   "codemirror_mode": {
    "name": "ipython",
    "version": 3
   },
   "file_extension": ".py",
   "mimetype": "text/x-python",
   "name": "python",
   "nbconvert_exporter": "python",
   "pygments_lexer": "ipython3",
   "version": "3.8.8"
  }
 },
 "nbformat": 4,
 "nbformat_minor": 4
}

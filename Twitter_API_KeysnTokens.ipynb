{
 "cells": [
  {
   "cell_type": "code",
   "execution_count": null,
   "id": "4b180905",
   "metadata": {},
   "outputs": [],
   "source": [
    "C_KEY = 'CZrWQKYoL5uI6WKMPv43ZMzra'\n",
    "C_SECRET = 'YuhJMqmjIvmWlH5yVAoZPdPC4vh099NIg4D1eFYQzD8pBgFnco'\n",
    "A_TOKEN_KEY = '2432622998-oChfLpFgVscN7O6uTmOBcMti74LUhOUPheuqErS'\n",
    "A_TOKEN_SECRET = 'EkBMrhVCNSAsYFwqzvLnvFQyfqqBUTpfkQk07O8JhNvMh'\n",
    "B_TOKEN = \"AAAAAAAAAAAAAAAAAAAAAKfrhQEAAAAA2Nf%2B46De41QB%2BrDg8Td6weCigbI%3DMmwYl79Ozfwhu4AuUitM4Att1rzAThNCpGiT5LsmayKP16blPI\""
   ]
  }
 ],
 "metadata": {
  "kernelspec": {
   "display_name": "Python 3",
   "language": "python",
   "name": "python3"
  },
  "language_info": {
   "codemirror_mode": {
    "name": "ipython",
    "version": 3
   },
   "file_extension": ".py",
   "mimetype": "text/x-python",
   "name": "python",
   "nbconvert_exporter": "python",
   "pygments_lexer": "ipython3",
   "version": "3.8.8"
  }
 },
 "nbformat": 4,
 "nbformat_minor": 5
}

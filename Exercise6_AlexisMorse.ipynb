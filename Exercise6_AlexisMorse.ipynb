{
 "cells": [
  {
   "cell_type": "markdown",
   "id": "5e80de44",
   "metadata": {},
   "source": [
    "## Exercise 6\n",
    "\n",
    "The purpose of this exercise is to help you learn how to use some of the predictive modeling methods\n",
    "available in Python as well as association rule mining (not available in python). Follow the instructions\n",
    "below to complete the exercise. Save your IPython notebook as exercise6.ipynb.\n"
   ]
  },
  {
   "cell_type": "markdown",
   "id": "9e0de78f",
   "metadata": {},
   "source": [
    "1. Download the data sets train.csv and test.csv from the class Web page. The data contains information about the date, temperature, humidity, and other environmental factors for the office. The goal is to predict whether the office room is occupied (1) or not (0). Implement the following steps in an ipython notebook:\n",
    "\n",
    "    a. Use pandas to load the train.csv file into a DataFrame object named “data”. After the file is\n",
    "    successfully loaded, type data.head() to display the first 5 rows of the table. Remove the\n",
    "    “date” column from the table using the drop() function since the column is not predictive of\n",
    "    the class (unless you extract the time of day and day of week information). Use the last\n",
    "    column, Occupancy, as your target (class) variable.\n",
    "    \n",
    "    b. Train the following classifiers (using 5-fold cross validation) on the train.csv file and calculate\n",
    "    the average accuracy of the cross-validation for each method given below. Vary the\n",
    "    hyperparameters of the classifier and draw a plot that shows the average cross-validation\n",
    "    accuracy versus hyperparameter values for each classification method shown below:\n",
    "    \n",
    "    c. For each method above, train a model using the entire train.csv dataset (with the hyperparameter you had chosen from the previous step). Apply the model to the test.csv data. Draw a bar chart to compare their test accuracies using the 3 methods.\n",
    "    \n",
    "    \n",
    "\n",
    "    "
   ]
  },
  {
   "cell_type": "code",
   "execution_count": 7,
   "id": "6ac56d10",
   "metadata": {},
   "outputs": [],
   "source": [
    "import pandas as pd\n",
    "import numpy as np\n",
    "import matplotlib.pyplot as plt\n",
    "from sklearn.model_selection import cross_val_score\n",
    "from sklearn.metrics import accuracy_score\n",
    "\n",
    "test = pd.read_csv('test.csv')\n",
    "data = pd.read_csv('train.csv')\n",
    "titanic = pd.read_csv('Titanic.csv')"
   ]
  },
  {
   "cell_type": "code",
   "execution_count": 2,
   "id": "cf18568b",
   "metadata": {},
   "outputs": [
    {
     "data": {
      "text/html": [
       "<div>\n",
       "<style scoped>\n",
       "    .dataframe tbody tr th:only-of-type {\n",
       "        vertical-align: middle;\n",
       "    }\n",
       "\n",
       "    .dataframe tbody tr th {\n",
       "        vertical-align: top;\n",
       "    }\n",
       "\n",
       "    .dataframe thead th {\n",
       "        text-align: right;\n",
       "    }\n",
       "</style>\n",
       "<table border=\"1\" class=\"dataframe\">\n",
       "  <thead>\n",
       "    <tr style=\"text-align: right;\">\n",
       "      <th></th>\n",
       "      <th>date</th>\n",
       "      <th>Temperature</th>\n",
       "      <th>Humidity</th>\n",
       "      <th>Light</th>\n",
       "      <th>CO2</th>\n",
       "      <th>HumidityRatio</th>\n",
       "      <th>Occupancy</th>\n",
       "    </tr>\n",
       "  </thead>\n",
       "  <tbody>\n",
       "    <tr>\n",
       "      <th>0</th>\n",
       "      <td>2/4/2015 18:07</td>\n",
       "      <td>23.000</td>\n",
       "      <td>27.200</td>\n",
       "      <td>0.0</td>\n",
       "      <td>681.5</td>\n",
       "      <td>0.004728</td>\n",
       "      <td>0</td>\n",
       "    </tr>\n",
       "    <tr>\n",
       "      <th>1</th>\n",
       "      <td>2/4/2015 18:16</td>\n",
       "      <td>22.790</td>\n",
       "      <td>27.445</td>\n",
       "      <td>0.0</td>\n",
       "      <td>689.0</td>\n",
       "      <td>0.004710</td>\n",
       "      <td>0</td>\n",
       "    </tr>\n",
       "    <tr>\n",
       "      <th>2</th>\n",
       "      <td>2/4/2015 19:05</td>\n",
       "      <td>22.245</td>\n",
       "      <td>27.290</td>\n",
       "      <td>0.0</td>\n",
       "      <td>602.5</td>\n",
       "      <td>0.004530</td>\n",
       "      <td>0</td>\n",
       "    </tr>\n",
       "    <tr>\n",
       "      <th>3</th>\n",
       "      <td>2/4/2015 19:06</td>\n",
       "      <td>22.200</td>\n",
       "      <td>27.290</td>\n",
       "      <td>0.0</td>\n",
       "      <td>598.0</td>\n",
       "      <td>0.004517</td>\n",
       "      <td>0</td>\n",
       "    </tr>\n",
       "    <tr>\n",
       "      <th>4</th>\n",
       "      <td>2/4/2015 19:12</td>\n",
       "      <td>22.200</td>\n",
       "      <td>27.290</td>\n",
       "      <td>0.0</td>\n",
       "      <td>593.5</td>\n",
       "      <td>0.004517</td>\n",
       "      <td>0</td>\n",
       "    </tr>\n",
       "  </tbody>\n",
       "</table>\n",
       "</div>"
      ],
      "text/plain": [
       "             date  Temperature  Humidity  Light    CO2  HumidityRatio  \\\n",
       "0  2/4/2015 18:07       23.000    27.200    0.0  681.5       0.004728   \n",
       "1  2/4/2015 18:16       22.790    27.445    0.0  689.0       0.004710   \n",
       "2  2/4/2015 19:05       22.245    27.290    0.0  602.5       0.004530   \n",
       "3  2/4/2015 19:06       22.200    27.290    0.0  598.0       0.004517   \n",
       "4  2/4/2015 19:12       22.200    27.290    0.0  593.5       0.004517   \n",
       "\n",
       "   Occupancy  \n",
       "0          0  \n",
       "1          0  \n",
       "2          0  \n",
       "3          0  \n",
       "4          0  "
      ]
     },
     "execution_count": 2,
     "metadata": {},
     "output_type": "execute_result"
    }
   ],
   "source": [
    "data.head()"
   ]
  },
  {
   "cell_type": "code",
   "execution_count": 3,
   "id": "758d1c01",
   "metadata": {},
   "outputs": [],
   "source": [
    "X = data.drop(['date', 'Occupancy'], axis = 1)\n",
    "Y = data['Occupancy']"
   ]
  },
  {
   "cell_type": "code",
   "execution_count": 4,
   "id": "9058c524",
   "metadata": {},
   "outputs": [],
   "source": [
    "# Decision Tree\n",
    "from sklearn import tree\n",
    "\n",
    "hyperparams = [1, 5, 10, 50, 100] #maxdepth \n",
    "accuracy = []\n",
    "for param in hyperparams:\n",
    "    clf = tree.DecisionTreeClassifier(max_depth = param) \n",
    "    scores = cross_val_score(clf, X, Y, cv=5)\n",
    "    accuracy.append(scores.mean())\n",
    "    \n"
   ]
  },
  {
   "cell_type": "code",
   "execution_count": 5,
   "id": "db3fda05",
   "metadata": {
    "scrolled": true
   },
   "outputs": [
    {
     "data": {
      "text/plain": [
       "([<matplotlib.axis.YTick at 0x7f1602d28f70>,\n",
       "  <matplotlib.axis.YTick at 0x7f1602d28b50>,\n",
       "  <matplotlib.axis.YTick at 0x7f1602d726d0>,\n",
       "  <matplotlib.axis.YTick at 0x7f1600cea1c0>,\n",
       "  <matplotlib.axis.YTick at 0x7f1600cea6d0>,\n",
       "  <matplotlib.axis.YTick at 0x7f1600cea9a0>,\n",
       "  <matplotlib.axis.YTick at 0x7f1600cead90>,\n",
       "  <matplotlib.axis.YTick at 0x7f1600cf02e0>,\n",
       "  <matplotlib.axis.YTick at 0x7f1600cf07f0>,\n",
       "  <matplotlib.axis.YTick at 0x7f1600cf0d00>],\n",
       " [Text(0, 0, ''),\n",
       "  Text(0, 0, ''),\n",
       "  Text(0, 0, ''),\n",
       "  Text(0, 0, ''),\n",
       "  Text(0, 0, ''),\n",
       "  Text(0, 0, ''),\n",
       "  Text(0, 0, ''),\n",
       "  Text(0, 0, ''),\n",
       "  Text(0, 0, ''),\n",
       "  Text(0, 0, '')])"
      ]
     },
     "execution_count": 5,
     "metadata": {},
     "output_type": "execute_result"
    },
    {
     "data": {
      "image/png": "[encoded data removed]",
      "text/plain": [
       "<Figure size 432x288 with 1 Axes>"
      ]
     },
     "metadata": {
      "needs_background": "light"
     },
     "output_type": "display_data"
    }
   ],
   "source": [
    "plt.plot(accuracy, hyperparams)\n",
    "plt.xlabel(\"Accuracy\")\n",
    "plt.ylabel(\"Hyperparams\")\n",
    "plt.yticks(np.arange(0, 100, step=10))"
   ]
  },
  {
   "cell_type": "markdown",
   "id": "273ebca8",
   "metadata": {},
   "source": [
    "The Hyperparam 5 gives the best accuracy"
   ]
  },
  {
   "cell_type": "code",
   "execution_count": 6,
   "id": "dee358f3",
   "metadata": {},
   "outputs": [
    {
     "name": "stderr",
     "output_type": "stream",
     "text": [
      "/opt/anaconda3/lib/python3.8/site-packages/sklearn/neighbors/_classification.py:211: FutureWarning: Unlike other reduction functions (e.g. `skew`, `kurtosis`), the default behavior of `mode` typically preserves the axis it acts along. In SciPy 1.11.0, this behavior will change: the default value of `keepdims` will become False, the `axis` over which the statistic is taken will be eliminated, and the value None will no longer be accepted. Set `keepdims` to True or False to avoid this warning.\n",
      "  mode, _ = stats.mode(_y[neigh_ind, k], axis=1)\n",
      "/opt/anaconda3/lib/python3.8/site-packages/sklearn/neighbors/_classification.py:211: FutureWarning: Unlike other reduction functions (e.g. `skew`, `kurtosis`), the default behavior of `mode` typically preserves the axis it acts along. In SciPy 1.11.0, this behavior will change: the default value of `keepdims` will become False, the `axis` over which the statistic is taken will be eliminated, and the value None will no longer be accepted. Set `keepdims` to True or False to avoid this warning.\n",
      "  mode, _ = stats.mode(_y[neigh_ind, k], axis=1)\n",
      "/opt/anaconda3/lib/python3.8/site-packages/sklearn/neighbors/_classification.py:211: FutureWarning: Unlike other reduction functions (e.g. `skew`, `kurtosis`), the default behavior of `mode` typically preserves the axis it acts along. In SciPy 1.11.0, this behavior will change: the default value of `keepdims` will become False, the `axis` over which the statistic is taken will be eliminated, and the value None will no longer be accepted. Set `keepdims` to True or False to avoid this warning.\n",
      "  mode, _ = stats.mode(_y[neigh_ind, k], axis=1)\n",
      "/opt/anaconda3/lib/python3.8/site-packages/sklearn/neighbors/_classification.py:211: FutureWarning: Unlike other reduction functions (e.g. `skew`, `kurtosis`), the default behavior of `mode` typically preserves the axis it acts along. In SciPy 1.11.0, this behavior will change: the default value of `keepdims` will become False, the `axis` over which the statistic is taken will be eliminated, and the value None will no longer be accepted. Set `keepdims` to True or False to avoid this warning.\n",
      "  mode, _ = stats.mode(_y[neigh_ind, k], axis=1)\n",
      "/opt/anaconda3/lib/python3.8/site-packages/sklearn/neighbors/_classification.py:211: FutureWarning: Unlike other reduction functions (e.g. `skew`, `kurtosis`), the default behavior of `mode` typically preserves the axis it acts along. In SciPy 1.11.0, this behavior will change: the default value of `keepdims` will become False, the `axis` over which the statistic is taken will be eliminated, and the value None will no longer be accepted. Set `keepdims` to True or False to avoid this warning.\n",
      "  mode, _ = stats.mode(_y[neigh_ind, k], axis=1)\n",
      "/opt/anaconda3/lib/python3.8/site-packages/sklearn/neighbors/_classification.py:211: FutureWarning: Unlike other reduction functions (e.g. `skew`, `kurtosis`), the default behavior of `mode` typically preserves the axis it acts along. In SciPy 1.11.0, this behavior will change: the default value of `keepdims` will become False, the `axis` over which the statistic is taken will be eliminated, and the value None will no longer be accepted. Set `keepdims` to True or False to avoid this warning.\n",
      "  mode, _ = stats.mode(_y[neigh_ind, k], axis=1)\n",
      "/opt/anaconda3/lib/python3.8/site-packages/sklearn/neighbors/_classification.py:211: FutureWarning: Unlike other reduction functions (e.g. `skew`, `kurtosis`), the default behavior of `mode` typically preserves the axis it acts along. In SciPy 1.11.0, this behavior will change: the default value of `keepdims` will become False, the `axis` over which the statistic is taken will be eliminated, and the value None will no longer be accepted. Set `keepdims` to True or False to avoid this warning.\n",
      "  mode, _ = stats.mode(_y[neigh_ind, k], axis=1)\n",
      "/opt/anaconda3/lib/python3.8/site-packages/sklearn/neighbors/_classification.py:211: FutureWarning: Unlike other reduction functions (e.g. `skew`, `kurtosis`), the default behavior of `mode` typically preserves the axis it acts along. In SciPy 1.11.0, this behavior will change: the default value of `keepdims` will become False, the `axis` over which the statistic is taken will be eliminated, and the value None will no longer be accepted. Set `keepdims` to True or False to avoid this warning.\n",
      "  mode, _ = stats.mode(_y[neigh_ind, k], axis=1)\n",
      "/opt/anaconda3/lib/python3.8/site-packages/sklearn/neighbors/_classification.py:211: FutureWarning: Unlike other reduction functions (e.g. `skew`, `kurtosis`), the default behavior of `mode` typically preserves the axis it acts along. In SciPy 1.11.0, this behavior will change: the default value of `keepdims` will become False, the `axis` over which the statistic is taken will be eliminated, and the value None will no longer be accepted. Set `keepdims` to True or False to avoid this warning.\n",
      "  mode, _ = stats.mode(_y[neigh_ind, k], axis=1)\n",
      "/opt/anaconda3/lib/python3.8/site-packages/sklearn/neighbors/_classification.py:211: FutureWarning: Unlike other reduction functions (e.g. `skew`, `kurtosis`), the default behavior of `mode` typically preserves the axis it acts along. In SciPy 1.11.0, this behavior will change: the default value of `keepdims` will become False, the `axis` over which the statistic is taken will be eliminated, and the value None will no longer be accepted. Set `keepdims` to True or False to avoid this warning.\n",
      "  mode, _ = stats.mode(_y[neigh_ind, k], axis=1)\n",
      "/opt/anaconda3/lib/python3.8/site-packages/sklearn/neighbors/_classification.py:211: FutureWarning: Unlike other reduction functions (e.g. `skew`, `kurtosis`), the default behavior of `mode` typically preserves the axis it acts along. In SciPy 1.11.0, this behavior will change: the default value of `keepdims` will become False, the `axis` over which the statistic is taken will be eliminated, and the value None will no longer be accepted. Set `keepdims` to True or False to avoid this warning.\n",
      "  mode, _ = stats.mode(_y[neigh_ind, k], axis=1)\n",
      "/opt/anaconda3/lib/python3.8/site-packages/sklearn/neighbors/_classification.py:211: FutureWarning: Unlike other reduction functions (e.g. `skew`, `kurtosis`), the default behavior of `mode` typically preserves the axis it acts along. In SciPy 1.11.0, this behavior will change: the default value of `keepdims` will become False, the `axis` over which the statistic is taken will be eliminated, and the value None will no longer be accepted. Set `keepdims` to True or False to avoid this warning.\n",
      "  mode, _ = stats.mode(_y[neigh_ind, k], axis=1)\n",
      "/opt/anaconda3/lib/python3.8/site-packages/sklearn/neighbors/_classification.py:211: FutureWarning: Unlike other reduction functions (e.g. `skew`, `kurtosis`), the default behavior of `mode` typically preserves the axis it acts along. In SciPy 1.11.0, this behavior will change: the default value of `keepdims` will become False, the `axis` over which the statistic is taken will be eliminated, and the value None will no longer be accepted. Set `keepdims` to True or False to avoid this warning.\n",
      "  mode, _ = stats.mode(_y[neigh_ind, k], axis=1)\n",
      "/opt/anaconda3/lib/python3.8/site-packages/sklearn/neighbors/_classification.py:211: FutureWarning: Unlike other reduction functions (e.g. `skew`, `kurtosis`), the default behavior of `mode` typically preserves the axis it acts along. In SciPy 1.11.0, this behavior will change: the default value of `keepdims` will become False, the `axis` over which the statistic is taken will be eliminated, and the value None will no longer be accepted. Set `keepdims` to True or False to avoid this warning.\n",
      "  mode, _ = stats.mode(_y[neigh_ind, k], axis=1)\n",
      "/opt/anaconda3/lib/python3.8/site-packages/sklearn/neighbors/_classification.py:211: FutureWarning: Unlike other reduction functions (e.g. `skew`, `kurtosis`), the default behavior of `mode` typically preserves the axis it acts along. In SciPy 1.11.0, this behavior will change: the default value of `keepdims` will become False, the `axis` over which the statistic is taken will be eliminated, and the value None will no longer be accepted. Set `keepdims` to True or False to avoid this warning.\n",
      "  mode, _ = stats.mode(_y[neigh_ind, k], axis=1)\n",
      "/opt/anaconda3/lib/python3.8/site-packages/sklearn/neighbors/_classification.py:211: FutureWarning: Unlike other reduction functions (e.g. `skew`, `kurtosis`), the default behavior of `mode` typically preserves the axis it acts along. In SciPy 1.11.0, this behavior will change: the default value of `keepdims` will become False, the `axis` over which the statistic is taken will be eliminated, and the value None will no longer be accepted. Set `keepdims` to True or False to avoid this warning.\n",
      "  mode, _ = stats.mode(_y[neigh_ind, k], axis=1)\n",
      "/opt/anaconda3/lib/python3.8/site-packages/sklearn/neighbors/_classification.py:211: FutureWarning: Unlike other reduction functions (e.g. `skew`, `kurtosis`), the default behavior of `mode` typically preserves the axis it acts along. In SciPy 1.11.0, this behavior will change: the default value of `keepdims` will become False, the `axis` over which the statistic is taken will be eliminated, and the value None will no longer be accepted. Set `keepdims` to True or False to avoid this warning.\n",
      "  mode, _ = stats.mode(_y[neigh_ind, k], axis=1)\n",
      "/opt/anaconda3/lib/python3.8/site-packages/sklearn/neighbors/_classification.py:211: FutureWarning: Unlike other reduction functions (e.g. `skew`, `kurtosis`), the default behavior of `mode` typically preserves the axis it acts along. In SciPy 1.11.0, this behavior will change: the default value of `keepdims` will become False, the `axis` over which the statistic is taken will be eliminated, and the value None will no longer be accepted. Set `keepdims` to True or False to avoid this warning.\n",
      "  mode, _ = stats.mode(_y[neigh_ind, k], axis=1)\n",
      "/opt/anaconda3/lib/python3.8/site-packages/sklearn/neighbors/_classification.py:211: FutureWarning: Unlike other reduction functions (e.g. `skew`, `kurtosis`), the default behavior of `mode` typically preserves the axis it acts along. In SciPy 1.11.0, this behavior will change: the default value of `keepdims` will become False, the `axis` over which the statistic is taken will be eliminated, and the value None will no longer be accepted. Set `keepdims` to True or False to avoid this warning.\n",
      "  mode, _ = stats.mode(_y[neigh_ind, k], axis=1)\n",
      "/opt/anaconda3/lib/python3.8/site-packages/sklearn/neighbors/_classification.py:211: FutureWarning: Unlike other reduction functions (e.g. `skew`, `kurtosis`), the default behavior of `mode` typically preserves the axis it acts along. In SciPy 1.11.0, this behavior will change: the default value of `keepdims` will become False, the `axis` over which the statistic is taken will be eliminated, and the value None will no longer be accepted. Set `keepdims` to True or False to avoid this warning.\n",
      "  mode, _ = stats.mode(_y[neigh_ind, k], axis=1)\n",
      "/opt/anaconda3/lib/python3.8/site-packages/sklearn/neighbors/_classification.py:211: FutureWarning: Unlike other reduction functions (e.g. `skew`, `kurtosis`), the default behavior of `mode` typically preserves the axis it acts along. In SciPy 1.11.0, this behavior will change: the default value of `keepdims` will become False, the `axis` over which the statistic is taken will be eliminated, and the value None will no longer be accepted. Set `keepdims` to True or False to avoid this warning.\n",
      "  mode, _ = stats.mode(_y[neigh_ind, k], axis=1)\n",
      "/opt/anaconda3/lib/python3.8/site-packages/sklearn/neighbors/_classification.py:211: FutureWarning: Unlike other reduction functions (e.g. `skew`, `kurtosis`), the default behavior of `mode` typically preserves the axis it acts along. In SciPy 1.11.0, this behavior will change: the default value of `keepdims` will become False, the `axis` over which the statistic is taken will be eliminated, and the value None will no longer be accepted. Set `keepdims` to True or False to avoid this warning.\n",
      "  mode, _ = stats.mode(_y[neigh_ind, k], axis=1)\n",
      "/opt/anaconda3/lib/python3.8/site-packages/sklearn/neighbors/_classification.py:211: FutureWarning: Unlike other reduction functions (e.g. `skew`, `kurtosis`), the default behavior of `mode` typically preserves the axis it acts along. In SciPy 1.11.0, this behavior will change: the default value of `keepdims` will become False, the `axis` over which the statistic is taken will be eliminated, and the value None will no longer be accepted. Set `keepdims` to True or False to avoid this warning.\n",
      "  mode, _ = stats.mode(_y[neigh_ind, k], axis=1)\n"
     ]
    },
    {
     "name": "stderr",
     "output_type": "stream",
     "text": [
      "/opt/anaconda3/lib/python3.8/site-packages/sklearn/neighbors/_classification.py:211: FutureWarning: Unlike other reduction functions (e.g. `skew`, `kurtosis`), the default behavior of `mode` typically preserves the axis it acts along. In SciPy 1.11.0, this behavior will change: the default value of `keepdims` will become False, the `axis` over which the statistic is taken will be eliminated, and the value None will no longer be accepted. Set `keepdims` to True or False to avoid this warning.\n",
      "  mode, _ = stats.mode(_y[neigh_ind, k], axis=1)\n",
      "/opt/anaconda3/lib/python3.8/site-packages/sklearn/neighbors/_classification.py:211: FutureWarning: Unlike other reduction functions (e.g. `skew`, `kurtosis`), the default behavior of `mode` typically preserves the axis it acts along. In SciPy 1.11.0, this behavior will change: the default value of `keepdims` will become False, the `axis` over which the statistic is taken will be eliminated, and the value None will no longer be accepted. Set `keepdims` to True or False to avoid this warning.\n",
      "  mode, _ = stats.mode(_y[neigh_ind, k], axis=1)\n",
      "/opt/anaconda3/lib/python3.8/site-packages/sklearn/neighbors/_classification.py:211: FutureWarning: Unlike other reduction functions (e.g. `skew`, `kurtosis`), the default behavior of `mode` typically preserves the axis it acts along. In SciPy 1.11.0, this behavior will change: the default value of `keepdims` will become False, the `axis` over which the statistic is taken will be eliminated, and the value None will no longer be accepted. Set `keepdims` to True or False to avoid this warning.\n",
      "  mode, _ = stats.mode(_y[neigh_ind, k], axis=1)\n",
      "/opt/anaconda3/lib/python3.8/site-packages/sklearn/neighbors/_classification.py:211: FutureWarning: Unlike other reduction functions (e.g. `skew`, `kurtosis`), the default behavior of `mode` typically preserves the axis it acts along. In SciPy 1.11.0, this behavior will change: the default value of `keepdims` will become False, the `axis` over which the statistic is taken will be eliminated, and the value None will no longer be accepted. Set `keepdims` to True or False to avoid this warning.\n",
      "  mode, _ = stats.mode(_y[neigh_ind, k], axis=1)\n",
      "/opt/anaconda3/lib/python3.8/site-packages/sklearn/neighbors/_classification.py:211: FutureWarning: Unlike other reduction functions (e.g. `skew`, `kurtosis`), the default behavior of `mode` typically preserves the axis it acts along. In SciPy 1.11.0, this behavior will change: the default value of `keepdims` will become False, the `axis` over which the statistic is taken will be eliminated, and the value None will no longer be accepted. Set `keepdims` to True or False to avoid this warning.\n",
      "  mode, _ = stats.mode(_y[neigh_ind, k], axis=1)\n",
      "/opt/anaconda3/lib/python3.8/site-packages/sklearn/neighbors/_classification.py:211: FutureWarning: Unlike other reduction functions (e.g. `skew`, `kurtosis`), the default behavior of `mode` typically preserves the axis it acts along. In SciPy 1.11.0, this behavior will change: the default value of `keepdims` will become False, the `axis` over which the statistic is taken will be eliminated, and the value None will no longer be accepted. Set `keepdims` to True or False to avoid this warning.\n",
      "  mode, _ = stats.mode(_y[neigh_ind, k], axis=1)\n",
      "/opt/anaconda3/lib/python3.8/site-packages/sklearn/neighbors/_classification.py:211: FutureWarning: Unlike other reduction functions (e.g. `skew`, `kurtosis`), the default behavior of `mode` typically preserves the axis it acts along. In SciPy 1.11.0, this behavior will change: the default value of `keepdims` will become False, the `axis` over which the statistic is taken will be eliminated, and the value None will no longer be accepted. Set `keepdims` to True or False to avoid this warning.\n",
      "  mode, _ = stats.mode(_y[neigh_ind, k], axis=1)\n",
      "/opt/anaconda3/lib/python3.8/site-packages/sklearn/neighbors/_classification.py:211: FutureWarning: Unlike other reduction functions (e.g. `skew`, `kurtosis`), the default behavior of `mode` typically preserves the axis it acts along. In SciPy 1.11.0, this behavior will change: the default value of `keepdims` will become False, the `axis` over which the statistic is taken will be eliminated, and the value None will no longer be accepted. Set `keepdims` to True or False to avoid this warning.\n",
      "  mode, _ = stats.mode(_y[neigh_ind, k], axis=1)\n",
      "/opt/anaconda3/lib/python3.8/site-packages/sklearn/neighbors/_classification.py:211: FutureWarning: Unlike other reduction functions (e.g. `skew`, `kurtosis`), the default behavior of `mode` typically preserves the axis it acts along. In SciPy 1.11.0, this behavior will change: the default value of `keepdims` will become False, the `axis` over which the statistic is taken will be eliminated, and the value None will no longer be accepted. Set `keepdims` to True or False to avoid this warning.\n",
      "  mode, _ = stats.mode(_y[neigh_ind, k], axis=1)\n",
      "/opt/anaconda3/lib/python3.8/site-packages/sklearn/neighbors/_classification.py:211: FutureWarning: Unlike other reduction functions (e.g. `skew`, `kurtosis`), the default behavior of `mode` typically preserves the axis it acts along. In SciPy 1.11.0, this behavior will change: the default value of `keepdims` will become False, the `axis` over which the statistic is taken will be eliminated, and the value None will no longer be accepted. Set `keepdims` to True or False to avoid this warning.\n",
      "  mode, _ = stats.mode(_y[neigh_ind, k], axis=1)\n",
      "/opt/anaconda3/lib/python3.8/site-packages/sklearn/neighbors/_classification.py:211: FutureWarning: Unlike other reduction functions (e.g. `skew`, `kurtosis`), the default behavior of `mode` typically preserves the axis it acts along. In SciPy 1.11.0, this behavior will change: the default value of `keepdims` will become False, the `axis` over which the statistic is taken will be eliminated, and the value None will no longer be accepted. Set `keepdims` to True or False to avoid this warning.\n",
      "  mode, _ = stats.mode(_y[neigh_ind, k], axis=1)\n",
      "/opt/anaconda3/lib/python3.8/site-packages/sklearn/neighbors/_classification.py:211: FutureWarning: Unlike other reduction functions (e.g. `skew`, `kurtosis`), the default behavior of `mode` typically preserves the axis it acts along. In SciPy 1.11.0, this behavior will change: the default value of `keepdims` will become False, the `axis` over which the statistic is taken will be eliminated, and the value None will no longer be accepted. Set `keepdims` to True or False to avoid this warning.\n",
      "  mode, _ = stats.mode(_y[neigh_ind, k], axis=1)\n"
     ]
    }
   ],
   "source": [
    "#K-Nearest Neighbors\n",
    "from sklearn.neighbors import KNeighborsClassifier\n",
    "\n",
    "hyperparams = [1, 2, 3, 4, 5, 10,15] #k\n",
    "accuracy = []\n",
    "for param in hyperparams:\n",
    "    neigh = KNeighborsClassifier(n_neighbors=param)\n",
    "    scores = cross_val_score(neigh, X, Y, cv=5)\n",
    "    accuracy.append(scores.mean())\n"
   ]
  },
  {
   "cell_type": "code",
   "execution_count": 7,
   "id": "d55122e0",
   "metadata": {},
   "outputs": [
    {
     "data": {
      "text/plain": [
       "([<matplotlib.axis.YTick at 0x7f1600c28910>,\n",
       "  <matplotlib.axis.YTick at 0x7f1600c28490>,\n",
       "  <matplotlib.axis.YTick at 0x7f1600c3f4f0>,\n",
       "  <matplotlib.axis.YTick at 0x7f1600c58ca0>,\n",
       "  <matplotlib.axis.YTick at 0x7f1600c601f0>,\n",
       "  <matplotlib.axis.YTick at 0x7f1600c60700>,\n",
       "  <matplotlib.axis.YTick at 0x7f1600c587c0>,\n",
       "  <matplotlib.axis.YTick at 0x7f1600c60c10>],\n",
       " [Text(0, 0, ''),\n",
       "  Text(0, 0, ''),\n",
       "  Text(0, 0, ''),\n",
       "  Text(0, 0, ''),\n",
       "  Text(0, 0, ''),\n",
       "  Text(0, 0, ''),\n",
       "  Text(0, 0, ''),\n",
       "  Text(0, 0, '')])"
      ]
     },
     "execution_count": 7,
     "metadata": {},
     "output_type": "execute_result"
    },
    {
     "data": {
      "image/png": "[encoded data removed]",
      "text/plain": [
       "<Figure size 432x288 with 1 Axes>"
      ]
     },
     "metadata": {
      "needs_background": "light"
     },
     "output_type": "display_data"
    }
   ],
   "source": [
    "plt.plot(accuracy, hyperparams)\n",
    "plt.xlabel(\"Accuracy\")\n",
    "plt.ylabel(\"Hyperparams\")\n",
    "plt.yticks(np.arange(0, 15, step=2))"
   ]
  },
  {
   "cell_type": "markdown",
   "id": "3ffc6c7b",
   "metadata": {},
   "source": [
    "The Hyperparam 3 gives the best accuracy"
   ]
  },
  {
   "cell_type": "code",
   "execution_count": 8,
   "id": "1f2b79de",
   "metadata": {},
   "outputs": [
    {
     "name": "stderr",
     "output_type": "stream",
     "text": [
      "/opt/anaconda3/lib/python3.8/site-packages/sklearn/linear_model/_logistic.py:763: ConvergenceWarning: lbfgs failed to converge (status=1):\n",
      "STOP: TOTAL NO. of ITERATIONS REACHED LIMIT.\n",
      "\n",
      "Increase the number of iterations (max_iter) or scale the data as shown in:\n",
      "    https://scikit-learn.org/stable/modules/preprocessing.html\n",
      "Please also refer to the documentation for alternative solver options:\n",
      "    https://scikit-learn.org/stable/modules/linear_model.html#logistic-regression\n",
      "  n_iter_i = _check_optimize_result(\n",
      "/opt/anaconda3/lib/python3.8/site-packages/sklearn/linear_model/_logistic.py:763: ConvergenceWarning: lbfgs failed to converge (status=1):\n",
      "STOP: TOTAL NO. of ITERATIONS REACHED LIMIT.\n",
      "\n",
      "Increase the number of iterations (max_iter) or scale the data as shown in:\n",
      "    https://scikit-learn.org/stable/modules/preprocessing.html\n",
      "Please also refer to the documentation for alternative solver options:\n",
      "    https://scikit-learn.org/stable/modules/linear_model.html#logistic-regression\n",
      "  n_iter_i = _check_optimize_result(\n",
      "/opt/anaconda3/lib/python3.8/site-packages/sklearn/linear_model/_logistic.py:763: ConvergenceWarning: lbfgs failed to converge (status=1):\n",
      "STOP: TOTAL NO. of ITERATIONS REACHED LIMIT.\n",
      "\n",
      "Increase the number of iterations (max_iter) or scale the data as shown in:\n",
      "    https://scikit-learn.org/stable/modules/preprocessing.html\n",
      "Please also refer to the documentation for alternative solver options:\n",
      "    https://scikit-learn.org/stable/modules/linear_model.html#logistic-regression\n",
      "  n_iter_i = _check_optimize_result(\n",
      "/opt/anaconda3/lib/python3.8/site-packages/sklearn/linear_model/_logistic.py:763: ConvergenceWarning: lbfgs failed to converge (status=1):\n",
      "STOP: TOTAL NO. of ITERATIONS REACHED LIMIT.\n",
      "\n",
      "Increase the number of iterations (max_iter) or scale the data as shown in:\n",
      "    https://scikit-learn.org/stable/modules/preprocessing.html\n",
      "Please also refer to the documentation for alternative solver options:\n",
      "    https://scikit-learn.org/stable/modules/linear_model.html#logistic-regression\n",
      "  n_iter_i = _check_optimize_result(\n",
      "/opt/anaconda3/lib/python3.8/site-packages/sklearn/linear_model/_logistic.py:763: ConvergenceWarning: lbfgs failed to converge (status=1):\n",
      "STOP: TOTAL NO. of ITERATIONS REACHED LIMIT.\n",
      "\n",
      "Increase the number of iterations (max_iter) or scale the data as shown in:\n",
      "    https://scikit-learn.org/stable/modules/preprocessing.html\n",
      "Please also refer to the documentation for alternative solver options:\n",
      "    https://scikit-learn.org/stable/modules/linear_model.html#logistic-regression\n",
      "  n_iter_i = _check_optimize_result(\n"
     ]
    }
   ],
   "source": [
    "#Logictic Regression\n",
    "from sklearn.linear_model import LogisticRegression\n",
    "\n",
    "hyperparams = [0.001, 0.01, 0.1, 0.5, 1]\n",
    "accuracy = []\n",
    "for param in hyperparams:\n",
    "    clf = LogisticRegression(C = param)\n",
    "    scores = cross_val_score(clf, X, Y, cv=5)\n",
    "    accuracy.append(scores.mean())\n",
    "    \n"
   ]
  },
  {
   "cell_type": "code",
   "execution_count": 9,
   "id": "070c6226",
   "metadata": {},
   "outputs": [
    {
     "data": {
      "text/plain": [
       "([<matplotlib.axis.YTick at 0x7f1600c112e0>,\n",
       "  <matplotlib.axis.YTick at 0x7f1600bd7940>,\n",
       "  <matplotlib.axis.YTick at 0x7f1600bd70a0>,\n",
       "  <matplotlib.axis.YTick at 0x7f1600b71b50>,\n",
       "  <matplotlib.axis.YTick at 0x7f1600b7b0a0>,\n",
       "  <matplotlib.axis.YTick at 0x7f1600b7b5b0>,\n",
       "  <matplotlib.axis.YTick at 0x7f1600b71880>,\n",
       "  <matplotlib.axis.YTick at 0x7f1600b7bac0>,\n",
       "  <matplotlib.axis.YTick at 0x7f1600b7bfd0>,\n",
       "  <matplotlib.axis.YTick at 0x7f1600b7f520>],\n",
       " [Text(0, 0, ''),\n",
       "  Text(0, 0, ''),\n",
       "  Text(0, 0, ''),\n",
       "  Text(0, 0, ''),\n",
       "  Text(0, 0, ''),\n",
       "  Text(0, 0, ''),\n",
       "  Text(0, 0, ''),\n",
       "  Text(0, 0, ''),\n",
       "  Text(0, 0, ''),\n",
       "  Text(0, 0, '')])"
      ]
     },
     "execution_count": 9,
     "metadata": {},
     "output_type": "execute_result"
    },
    {
     "data": {
      "image/png": "[encoded data removed]",
      "text/plain": [
       "<Figure size 432x288 with 1 Axes>"
      ]
     },
     "metadata": {
      "needs_background": "light"
     },
     "output_type": "display_data"
    }
   ],
   "source": [
    "plt.plot(accuracy, hyperparams)\n",
    "plt.xlabel(\"Accuracy\")\n",
    "plt.ylabel(\"Hyperparams\")\n",
    "plt.yticks(np.arange(0, 1, step=0.1))"
   ]
  },
  {
   "cell_type": "markdown",
   "id": "e0354d17",
   "metadata": {},
   "source": [
    "The Hyperparam 0.5 gives the best accuracy"
   ]
  },
  {
   "cell_type": "markdown",
   "id": "62845c3b",
   "metadata": {},
   "source": [
    "### TESTING ALL BEST PARAMS"
   ]
  },
  {
   "cell_type": "code",
   "execution_count": 10,
   "id": "e5fcb18e",
   "metadata": {},
   "outputs": [],
   "source": [
    "X_test = test.drop(['date', 'Occupancy'], axis = 1)\n",
    "Y_test = test['Occupancy']"
   ]
  },
  {
   "cell_type": "code",
   "execution_count": 19,
   "id": "6b1553b2",
   "metadata": {},
   "outputs": [
    {
     "data": {
      "text/plain": [
       "0.9846174789000817"
      ]
     },
     "execution_count": 19,
     "metadata": {},
     "output_type": "execute_result"
    }
   ],
   "source": [
    "clf = tree.DecisionTreeClassifier(max_depth = 5) \n",
    "clf.fit(X,Y)\n",
    "y_pred = clf.predict(X_test)\n",
    "treeacc = accuracy_score(Y_test,y_pred)\n",
    "treeacc"
   ]
  },
  {
   "cell_type": "code",
   "execution_count": 18,
   "id": "f8293744",
   "metadata": {},
   "outputs": [
    {
     "name": "stderr",
     "output_type": "stream",
     "text": [
      "/opt/anaconda3/lib/python3.8/site-packages/sklearn/neighbors/_classification.py:211: FutureWarning: Unlike other reduction functions (e.g. `skew`, `kurtosis`), the default behavior of `mode` typically preserves the axis it acts along. In SciPy 1.11.0, this behavior will change: the default value of `keepdims` will become False, the `axis` over which the statistic is taken will be eliminated, and the value None will no longer be accepted. Set `keepdims` to True or False to avoid this warning.\n",
      "  mode, _ = stats.mode(_y[neigh_ind, k], axis=1)\n"
     ]
    },
    {
     "data": {
      "text/plain": [
       "0.988429077048734"
      ]
     },
     "execution_count": 18,
     "metadata": {},
     "output_type": "execute_result"
    }
   ],
   "source": [
    "neigh = KNeighborsClassifier(n_neighbors=3)\n",
    "neigh.fit(X,Y)\n",
    "y_pred = neigh.predict(X_test)\n",
    "neighacc = accuracy_score(Y_test,y_pred)\n",
    "neighacc"
   ]
  },
  {
   "cell_type": "code",
   "execution_count": 17,
   "id": "fbc6e7db",
   "metadata": {},
   "outputs": [
    {
     "data": {
      "text/plain": [
       "0.9876123060168799"
      ]
     },
     "execution_count": 17,
     "metadata": {},
     "output_type": "execute_result"
    }
   ],
   "source": [
    "clf = LogisticRegression(C = 0.5)\n",
    "clf.fit(X,Y)\n",
    "y_pred = clf.predict(X_test)\n",
    "logacc = accuracy_score(Y_test,y_pred)\n",
    "logacc"
   ]
  },
  {
   "cell_type": "code",
   "execution_count": 16,
   "id": "8f0c548f",
   "metadata": {},
   "outputs": [
    {
     "data": {
      "image/png": "[encoded data removed]",
      "text/plain": [
       "<Figure size 720x720 with 1 Axes>"
      ]
     },
     "metadata": {
      "needs_background": "light"
     },
     "output_type": "display_data"
    }
   ],
   "source": [
    "fig = plt.figure(figsize = (10, 10))\n",
    "methods = ['Decision Tree', 'KNearestNeighbors', 'Logistic Regression']\n",
    "values = [treeacc, neighacc, logacc]\n",
    "\n",
    "# creating the bar plot\n",
    "plt.bar(methods, values, color ='pink', width = 0.4)\n",
    "plt.xlabel(\"Methods\")\n",
    "plt.ylabel(\"Accuracy\")\n",
    "plt.title(\"Comparing Best Parameters for Each Model\")\n",
    "plt.show()"
   ]
  },
  {
   "cell_type": "markdown",
   "id": "465a6c8a",
   "metadata": {},
   "source": [
    "### Part 2\n",
    "Download the apriori software from the following website http://www.borgelt.net/apriori.html.\n",
    "Download the data set Titanic.csv from the class Web page. Generate the association rules from\n",
    "the data with the following thresholds: minimum support =1% and minimum conference = 90%. "
   ]
  },
  {
   "cell_type": "code",
   "execution_count": 9,
   "id": "2b912726",
   "metadata": {},
   "outputs": [
    {
     "data": {
      "text/html": [
       "<div>\n",
       "<style scoped>\n",
       "    .dataframe tbody tr th:only-of-type {\n",
       "        vertical-align: middle;\n",
       "    }\n",
       "\n",
       "    .dataframe tbody tr th {\n",
       "        vertical-align: top;\n",
       "    }\n",
       "\n",
       "    .dataframe thead th {\n",
       "        text-align: right;\n",
       "    }\n",
       "</style>\n",
       "<table border=\"1\" class=\"dataframe\">\n",
       "  <thead>\n",
       "    <tr style=\"text-align: right;\">\n",
       "      <th></th>\n",
       "      <th>FirstClass</th>\n",
       "      <th>Adult</th>\n",
       "      <th>Male</th>\n",
       "      <th>Survived</th>\n",
       "    </tr>\n",
       "  </thead>\n",
       "  <tbody>\n",
       "    <tr>\n",
       "      <th>0</th>\n",
       "      <td>FirstClass</td>\n",
       "      <td>Adult</td>\n",
       "      <td>Male</td>\n",
       "      <td>Survived</td>\n",
       "    </tr>\n",
       "    <tr>\n",
       "      <th>1</th>\n",
       "      <td>FirstClass</td>\n",
       "      <td>Adult</td>\n",
       "      <td>Male</td>\n",
       "      <td>Survived</td>\n",
       "    </tr>\n",
       "    <tr>\n",
       "      <th>2</th>\n",
       "      <td>FirstClass</td>\n",
       "      <td>Adult</td>\n",
       "      <td>Male</td>\n",
       "      <td>Survived</td>\n",
       "    </tr>\n",
       "    <tr>\n",
       "      <th>3</th>\n",
       "      <td>FirstClass</td>\n",
       "      <td>Adult</td>\n",
       "      <td>Male</td>\n",
       "      <td>Survived</td>\n",
       "    </tr>\n",
       "    <tr>\n",
       "      <th>4</th>\n",
       "      <td>FirstClass</td>\n",
       "      <td>Adult</td>\n",
       "      <td>Male</td>\n",
       "      <td>Survived</td>\n",
       "    </tr>\n",
       "    <tr>\n",
       "      <th>...</th>\n",
       "      <td>...</td>\n",
       "      <td>...</td>\n",
       "      <td>...</td>\n",
       "      <td>...</td>\n",
       "    </tr>\n",
       "    <tr>\n",
       "      <th>2195</th>\n",
       "      <td>Crew</td>\n",
       "      <td>Adult</td>\n",
       "      <td>Female</td>\n",
       "      <td>Survived</td>\n",
       "    </tr>\n",
       "    <tr>\n",
       "      <th>2196</th>\n",
       "      <td>Crew</td>\n",
       "      <td>Adult</td>\n",
       "      <td>Female</td>\n",
       "      <td>Survived</td>\n",
       "    </tr>\n",
       "    <tr>\n",
       "      <th>2197</th>\n",
       "      <td>Crew</td>\n",
       "      <td>Adult</td>\n",
       "      <td>Female</td>\n",
       "      <td>Survived</td>\n",
       "    </tr>\n",
       "    <tr>\n",
       "      <th>2198</th>\n",
       "      <td>Crew</td>\n",
       "      <td>Adult</td>\n",
       "      <td>Female</td>\n",
       "      <td>Died</td>\n",
       "    </tr>\n",
       "    <tr>\n",
       "      <th>2199</th>\n",
       "      <td>Crew</td>\n",
       "      <td>Adult</td>\n",
       "      <td>Female</td>\n",
       "      <td>Died</td>\n",
       "    </tr>\n",
       "  </tbody>\n",
       "</table>\n",
       "<p>2200 rows × 4 columns</p>\n",
       "</div>"
      ],
      "text/plain": [
       "      FirstClass  Adult    Male  Survived\n",
       "0     FirstClass  Adult    Male  Survived\n",
       "1     FirstClass  Adult    Male  Survived\n",
       "2     FirstClass  Adult    Male  Survived\n",
       "3     FirstClass  Adult    Male  Survived\n",
       "4     FirstClass  Adult    Male  Survived\n",
       "...          ...    ...     ...       ...\n",
       "2195        Crew  Adult  Female  Survived\n",
       "2196        Crew  Adult  Female  Survived\n",
       "2197        Crew  Adult  Female  Survived\n",
       "2198        Crew  Adult  Female      Died\n",
       "2199        Crew  Adult  Female      Died\n",
       "\n",
       "[2200 rows x 4 columns]"
      ]
     },
     "execution_count": 9,
     "metadata": {},
     "output_type": "execute_result"
    }
   ],
   "source": [
    "titanic"
   ]
  },
  {
   "cell_type": "code",
   "execution_count": 2,
   "id": "143d8b8b",
   "metadata": {},
   "outputs": [
    {
     "name": "stdout",
     "output_type": "stream",
     "text": [
      "Collecting apyori\n",
      "  Downloading apyori-1.1.2.tar.gz (8.6 kB)\n",
      "Building wheels for collected packages: apyori\n",
      "  Building wheel for apyori (setup.py): started\n",
      "  Building wheel for apyori (setup.py): finished with status 'done'\n",
      "  Created wheel for apyori: filename=apyori-1.1.2-py3-none-any.whl size=5974 sha256=8dbf8f40a4d6fdde0b838e95afd3f6d1b2b8f8875fbc89a2b4b7419232de8d44\n",
      "  Stored in directory: c:\\users\\alexi\\appdata\\local\\pip\\cache\\wheels\\32\\2a\\54\\10c595515f385f3726642b10c60bf788029e8f3a1323e3913a\n",
      "Successfully built apyori\n",
      "Installing collected packages: apyori\n",
      "Successfully installed apyori-1.1.2\n",
      "Note: you may need to restart the kernel to use updated packages.\n"
     ]
    }
   ],
   "source": [
    "pip install apyori"
   ]
  },
  {
   "cell_type": "code",
   "execution_count": 3,
   "id": "394cf6cf",
   "metadata": {},
   "outputs": [],
   "source": [
    "from apyori import apriori"
   ]
  },
  {
   "cell_type": "code",
   "execution_count": 10,
   "id": "84b624f5",
   "metadata": {},
   "outputs": [],
   "source": [
    "records = []\n",
    "for i in range(0, 2200):\n",
    "    records.append([str(titanic.values[i,j]) for j in range(0, 4)])"
   ]
  },
  {
   "cell_type": "code",
   "execution_count": 11,
   "id": "e19228b5",
   "metadata": {},
   "outputs": [],
   "source": [
    "association_rules = apriori(records, min_support=0.01, min_confidence=0.29)\n",
    "association_results = list(association_rules)"
   ]
  },
  {
   "cell_type": "code",
   "execution_count": 12,
   "id": "fe8f8f38",
   "metadata": {},
   "outputs": [
    {
     "data": {
      "text/plain": [
       "[RelationRecord(items=frozenset({'Adult'}), support=0.9504545454545454, ordered_statistics=[OrderedStatistic(items_base=frozenset(), items_add=frozenset({'Adult'}), confidence=0.9504545454545454, lift=1.0)]),\n",
       " RelationRecord(items=frozenset({'Crew'}), support=0.4022727272727273, ordered_statistics=[OrderedStatistic(items_base=frozenset(), items_add=frozenset({'Crew'}), confidence=0.4022727272727273, lift=1.0)]),\n",
       " RelationRecord(items=frozenset({'Died'}), support=0.6772727272727272, ordered_statistics=[OrderedStatistic(items_base=frozenset(), items_add=frozenset({'Died'}), confidence=0.6772727272727272, lift=1.0)]),\n",
       " RelationRecord(items=frozenset({'Male'}), support=0.7863636363636364, ordered_statistics=[OrderedStatistic(items_base=frozenset(), items_add=frozenset({'Male'}), confidence=0.7863636363636364, lift=1.0)]),\n",
       " RelationRecord(items=frozenset({'Survived'}), support=0.32272727272727275, ordered_statistics=[OrderedStatistic(items_base=frozenset(), items_add=frozenset({'Survived'}), confidence=0.32272727272727275, lift=1.0)]),\n",
       " RelationRecord(items=frozenset({'ThirdClass'}), support=0.3209090909090909, ordered_statistics=[OrderedStatistic(items_base=frozenset(), items_add=frozenset({'ThirdClass'}), confidence=0.3209090909090909, lift=1.0)]),\n",
       " RelationRecord(items=frozenset({'Adult', 'Crew'}), support=0.4022727272727273, ordered_statistics=[OrderedStatistic(items_base=frozenset(), items_add=frozenset({'Adult', 'Crew'}), confidence=0.4022727272727273, lift=1.0), OrderedStatistic(items_base=frozenset({'Adult'}), items_add=frozenset({'Crew'}), confidence=0.42324246771879487, lift=1.052128168340507), OrderedStatistic(items_base=frozenset({'Crew'}), items_add=frozenset({'Adult'}), confidence=1.0, lift=1.052128168340507)]),\n",
       " RelationRecord(items=frozenset({'Adult', 'Died'}), support=0.6536363636363637, ordered_statistics=[OrderedStatistic(items_base=frozenset(), items_add=frozenset({'Adult', 'Died'}), confidence=0.6536363636363637, lift=1.0), OrderedStatistic(items_base=frozenset({'Adult'}), items_add=frozenset({'Died'}), confidence=0.6877092300334768, lift=1.0154096013917109), OrderedStatistic(items_base=frozenset({'Died'}), items_add=frozenset({'Adult'}), confidence=0.9651006711409397, lift=1.0154096013917109)]),\n",
       " RelationRecord(items=frozenset({'Adult', 'Female'}), support=0.19318181818181818, ordered_statistics=[OrderedStatistic(items_base=frozenset({'Female'}), items_add=frozenset({'Adult'}), confidence=0.9042553191489362, lift=0.9513924926483308)]),\n",
       " RelationRecord(items=frozenset({'Adult', 'FirstClass'}), support=0.14454545454545453, ordered_statistics=[OrderedStatistic(items_base=frozenset({'FirstClass'}), items_add=frozenset({'Adult'}), confidence=0.9814814814814814, lift=1.0326443133712382)]),\n",
       " RelationRecord(items=frozenset({'Adult', 'Male'}), support=0.7572727272727273, ordered_statistics=[OrderedStatistic(items_base=frozenset(), items_add=frozenset({'Adult', 'Male'}), confidence=0.7572727272727273, lift=1.0), OrderedStatistic(items_base=frozenset({'Adult'}), items_add=frozenset({'Male'}), confidence=0.7967479674796749, lift=1.0132055077776212), OrderedStatistic(items_base=frozenset({'Male'}), items_add=frozenset({'Adult'}), confidence=0.9630057803468208, lift=1.0132055077776212)]),\n",
       " RelationRecord(items=frozenset({'Adult', 'SecondClass'}), support=0.11863636363636364, ordered_statistics=[OrderedStatistic(items_base=frozenset({'SecondClass'}), items_add=frozenset({'Adult'}), confidence=0.9157894736842105, lift=0.9635279015328853)]),\n",
       " RelationRecord(items=frozenset({'Adult', 'Survived'}), support=0.2968181818181818, ordered_statistics=[OrderedStatistic(items_base=frozenset(), items_add=frozenset({'Adult', 'Survived'}), confidence=0.2968181818181818, lift=1.0), OrderedStatistic(items_base=frozenset({'Adult'}), items_add=frozenset({'Survived'}), confidence=0.3122907699665232, lift=0.9676615407413395), OrderedStatistic(items_base=frozenset({'Survived'}), items_add=frozenset({'Adult'}), confidence=0.9197183098591548, lift=0.9676615407413394)]),\n",
       " RelationRecord(items=frozenset({'Adult', 'ThirdClass'}), support=0.285, ordered_statistics=[OrderedStatistic(items_base=frozenset({'Adult'}), items_add=frozenset({'ThirdClass'}), confidence=0.29985652797704443, lift=0.9343971126763424), OrderedStatistic(items_base=frozenset({'ThirdClass'}), items_add=frozenset({'Adult'}), confidence=0.8881019830028327, lift=0.9343971126763424)]),\n",
       " RelationRecord(items=frozenset({'Died', 'Child'}), support=0.023636363636363636, ordered_statistics=[OrderedStatistic(items_base=frozenset({'Child'}), items_add=frozenset({'Died'}), confidence=0.4770642201834862, lift=0.7043901237608522)]),\n",
       " RelationRecord(items=frozenset({'Female', 'Child'}), support=0.020454545454545454, ordered_statistics=[OrderedStatistic(items_base=frozenset({'Child'}), items_add=frozenset({'Female'}), confidence=0.41284403669724773, lift=1.932461448370096)]),\n",
       " RelationRecord(items=frozenset({'Male', 'Child'}), support=0.02909090909090909, ordered_statistics=[OrderedStatistic(items_base=frozenset({'Child'}), items_add=frozenset({'Male'}), confidence=0.5871559633027523, lift=0.7466723232751764)]),\n",
       " RelationRecord(items=frozenset({'Survived', 'Child'}), support=0.02590909090909091, ordered_statistics=[OrderedStatistic(items_base=frozenset({'Child'}), items_add=frozenset({'Survived'}), confidence=0.5229357798165137, lift=1.6203643881638452)]),\n",
       " RelationRecord(items=frozenset({'ThirdClass', 'Child'}), support=0.03590909090909091, ordered_statistics=[OrderedStatistic(items_base=frozenset({'Child'}), items_add=frozenset({'ThirdClass'}), confidence=0.724770642201835, lift=2.2584920861813553)]),\n",
       " RelationRecord(items=frozenset({'Crew', 'Died'}), support=0.3059090909090909, ordered_statistics=[OrderedStatistic(items_base=frozenset(), items_add=frozenset({'Crew', 'Died'}), confidence=0.3059090909090909, lift=1.0), OrderedStatistic(items_base=frozenset({'Crew'}), items_add=frozenset({'Died'}), confidence=0.7604519774011299, lift=1.1228150001895878), OrderedStatistic(items_base=frozenset({'Died'}), items_add=frozenset({'Crew'}), confidence=0.4516778523489933, lift=1.1228150001895878)]),\n",
       " RelationRecord(items=frozenset({'Crew', 'Male'}), support=0.39181818181818184, ordered_statistics=[OrderedStatistic(items_base=frozenset(), items_add=frozenset({'Crew', 'Male'}), confidence=0.39181818181818184, lift=1.0), OrderedStatistic(items_base=frozenset({'Crew'}), items_add=frozenset({'Male'}), confidence=0.9740112994350283, lift=1.2386270859867412), OrderedStatistic(items_base=frozenset({'Male'}), items_add=frozenset({'Crew'}), confidence=0.49826589595375725, lift=1.2386270859867412)]),\n",
       " RelationRecord(items=frozenset({'Crew', 'Survived'}), support=0.09636363636363636, ordered_statistics=[OrderedStatistic(items_base=frozenset({'Survived'}), items_add=frozenset({'Crew'}), confidence=0.29859154929577464, lift=0.7422614784753719)]),\n",
       " RelationRecord(items=frozenset({'FirstClass', 'Died'}), support=0.05545454545454546, ordered_statistics=[OrderedStatistic(items_base=frozenset({'FirstClass'}), items_add=frozenset({'Died'}), confidence=0.3765432098765432, lift=0.5559698400861712)]),\n",
       " RelationRecord(items=frozenset({'Male', 'Died'}), support=0.62, ordered_statistics=[OrderedStatistic(items_base=frozenset(), items_add=frozenset({'Male', 'Died'}), confidence=0.62, lift=1.0), OrderedStatistic(items_base=frozenset({'Died'}), items_add=frozenset({'Male'}), confidence=0.9154362416107383, lift=1.1641385731466036), OrderedStatistic(items_base=frozenset({'Male'}), items_add=frozenset({'Died'}), confidence=0.7884393063583814, lift=1.1641385731466034)]),\n",
       " RelationRecord(items=frozenset({'SecondClass', 'Died'}), support=0.07590909090909091, ordered_statistics=[OrderedStatistic(items_base=frozenset({'SecondClass'}), items_add=frozenset({'Died'}), confidence=0.5859649122807018, lift=0.8651830919580832)]),\n",
       " RelationRecord(items=frozenset({'ThirdClass', 'Died'}), support=0.24, ordered_statistics=[OrderedStatistic(items_base=frozenset({'Died'}), items_add=frozenset({'ThirdClass'}), confidence=0.35436241610738256, lift=1.1042454892864613), OrderedStatistic(items_base=frozenset({'ThirdClass'}), items_add=frozenset({'Died'}), confidence=0.7478753541076487, lift=1.1042454892864613)]),\n",
       " RelationRecord(items=frozenset({'Female', 'FirstClass'}), support=0.0659090909090909, ordered_statistics=[OrderedStatistic(items_base=frozenset({'Female'}), items_add=frozenset({'FirstClass'}), confidence=0.30851063829787234, lift=2.0948253217756765), OrderedStatistic(items_base=frozenset({'FirstClass'}), items_add=frozenset({'Female'}), confidence=0.4475308641975308, lift=2.094825321775676)]),\n",
       " RelationRecord(items=frozenset({'Female', 'SecondClass'}), support=0.04818181818181818, ordered_statistics=[OrderedStatistic(items_base=frozenset({'SecondClass'}), items_add=frozenset({'Female'}), confidence=0.3719298245614035, lift=1.7409481149682717)]),\n",
       " RelationRecord(items=frozenset({'Female', 'Survived'}), support=0.15636363636363637, ordered_statistics=[OrderedStatistic(items_base=frozenset({'Female'}), items_add=frozenset({'Survived'}), confidence=0.7319148936170213, lift=2.267905304165418), OrderedStatistic(items_base=frozenset({'Survived'}), items_add=frozenset({'Female'}), confidence=0.4845070422535211, lift=2.267905304165418)]),\n",
       " RelationRecord(items=frozenset({'Female', 'ThirdClass'}), support=0.0890909090909091, ordered_statistics=[OrderedStatistic(items_base=frozenset({'Female'}), items_add=frozenset({'ThirdClass'}), confidence=0.4170212765957447, lift=1.2994997287686096)]),\n",
       " RelationRecord(items=frozenset({'FirstClass', 'Male'}), support=0.08136363636363636, ordered_statistics=[OrderedStatistic(items_base=frozenset({'FirstClass'}), items_add=frozenset({'Male'}), confidence=0.5524691358024691, lift=0.7025619068008278)]),\n",
       " RelationRecord(items=frozenset({'FirstClass', 'Survived'}), support=0.09181818181818181, ordered_statistics=[OrderedStatistic(items_base=frozenset({'FirstClass'}), items_add=frozenset({'Survived'}), confidence=0.6234567901234568, lift=1.9318379412276123)]),\n",
       " RelationRecord(items=frozenset({'Male', 'SecondClass'}), support=0.08136363636363636, ordered_statistics=[OrderedStatistic(items_base=frozenset({'SecondClass'}), items_add=frozenset({'Male'}), confidence=0.6280701754385964, lift=0.7987019572051516)]),\n",
       " RelationRecord(items=frozenset({'Male', 'Survived'}), support=0.16636363636363635, ordered_statistics=[OrderedStatistic(items_base=frozenset({'Survived'}), items_add=frozenset({'Male'}), confidence=0.5154929577464789, lift=0.6555401774810714)]),\n",
       " RelationRecord(items=frozenset({'Male', 'ThirdClass'}), support=0.2318181818181818, ordered_statistics=[OrderedStatistic(items_base=frozenset({'Male'}), items_add=frozenset({'ThirdClass'}), confidence=0.29479768786127164, lift=0.9186330216640193), OrderedStatistic(items_base=frozenset({'ThirdClass'}), items_add=frozenset({'Male'}), confidence=0.7223796033994334, lift=0.9186330216640194)]),\n",
       " RelationRecord(items=frozenset({'Survived', 'SecondClass'}), support=0.053636363636363635, ordered_statistics=[OrderedStatistic(items_base=frozenset({'SecondClass'}), items_add=frozenset({'Survived'}), confidence=0.41403508771929826, lift=1.2829256239189522)]),\n",
       " RelationRecord(items=frozenset({'Adult', 'Crew', 'Died'}), support=0.3059090909090909, ordered_statistics=[OrderedStatistic(items_base=frozenset(), items_add=frozenset({'Adult', 'Crew', 'Died'}), confidence=0.3059090909090909, lift=1.0), OrderedStatistic(items_base=frozenset({'Adult'}), items_add=frozenset({'Crew', 'Died'}), confidence=0.3218555714968914, lift=1.0521281683405068), OrderedStatistic(items_base=frozenset({'Crew'}), items_add=frozenset({'Adult', 'Died'}), confidence=0.7604519774011299, lift=1.1634174897652891), OrderedStatistic(items_base=frozenset({'Died'}), items_add=frozenset({'Adult', 'Crew'}), confidence=0.4516778523489933, lift=1.1228150001895878), OrderedStatistic(items_base=frozenset({'Adult', 'Crew'}), items_add=frozenset({'Died'}), confidence=0.7604519774011299, lift=1.1228150001895878), OrderedStatistic(items_base=frozenset({'Adult', 'Died'}), items_add=frozenset({'Crew'}), confidence=0.46801112656467314, lift=1.1634174897652891), OrderedStatistic(items_base=frozenset({'Crew', 'Died'}), items_add=frozenset({'Adult'}), confidence=1.0, lift=1.052128168340507)]),\n",
       " RelationRecord(items=frozenset({'Adult', 'Female', 'Crew'}), support=0.010454545454545454, ordered_statistics=[OrderedStatistic(items_base=frozenset({'Crew', 'Female'}), items_add=frozenset({'Adult'}), confidence=1.0, lift=1.052128168340507)]),\n",
       " RelationRecord(items=frozenset({'Adult', 'Male', 'Crew'}), support=0.39181818181818184, ordered_statistics=[OrderedStatistic(items_base=frozenset(), items_add=frozenset({'Adult', 'Male', 'Crew'}), confidence=0.39181818181818184, lift=1.0), OrderedStatistic(items_base=frozenset({'Adult'}), items_add=frozenset({'Crew', 'Male'}), confidence=0.4122429459588714, lift=1.052128168340507), OrderedStatistic(items_base=frozenset({'Crew'}), items_add=frozenset({'Adult', 'Male'}), confidence=0.9740112994350283, lift=1.2862093990138428), OrderedStatistic(items_base=frozenset({'Male'}), items_add=frozenset({'Adult', 'Crew'}), confidence=0.49826589595375725, lift=1.2386270859867412), OrderedStatistic(items_base=frozenset({'Adult', 'Crew'}), items_add=frozenset({'Male'}), confidence=0.9740112994350283, lift=1.2386270859867412), OrderedStatistic(items_base=frozenset({'Adult', 'Male'}), items_add=frozenset({'Crew'}), confidence=0.517406962785114, lift=1.2862093990138428), OrderedStatistic(items_base=frozenset({'Crew', 'Male'}), items_add=frozenset({'Adult'}), confidence=1.0, lift=1.052128168340507)]),\n",
       " RelationRecord(items=frozenset({'Adult', 'Survived', 'Crew'}), support=0.09636363636363636, ordered_statistics=[OrderedStatistic(items_base=frozenset({'Survived'}), items_add=frozenset({'Adult', 'Crew'}), confidence=0.29859154929577464, lift=0.7422614784753719), OrderedStatistic(items_base=frozenset({'Adult', 'Survived'}), items_add=frozenset({'Crew'}), confidence=0.32465543644716693, lift=0.8070530623545392), OrderedStatistic(items_base=frozenset({'Crew', 'Survived'}), items_add=frozenset({'Adult'}), confidence=1.0, lift=1.052128168340507)]),\n",
       " RelationRecord(items=frozenset({'Adult', 'Female', 'Died'}), support=0.049545454545454545, ordered_statistics=[OrderedStatistic(items_base=frozenset({'Female', 'Died'}), items_add=frozenset({'Adult'}), confidence=0.8650793650793651, lift=0.9101743678501212)]),\n",
       " RelationRecord(items=frozenset({'Adult', 'FirstClass', 'Died'}), support=0.05545454545454546, ordered_statistics=[OrderedStatistic(items_base=frozenset({'FirstClass'}), items_add=frozenset({'Adult', 'Died'}), confidence=0.3765432098765432, lift=0.5760744518278129), OrderedStatistic(items_base=frozenset({'Adult', 'FirstClass'}), items_add=frozenset({'Died'}), confidence=0.38364779874213845, lift=0.5664598370689292), OrderedStatistic(items_base=frozenset({'FirstClass', 'Died'}), items_add=frozenset({'Adult'}), confidence=1.0, lift=1.052128168340507)]),\n",
       " RelationRecord(items=frozenset({'Adult', 'Male', 'Died'}), support=0.6040909090909091, ordered_statistics=[OrderedStatistic(items_base=frozenset(), items_add=frozenset({'Adult', 'Male', 'Died'}), confidence=0.6040909090909091, lift=1.0), OrderedStatistic(items_base=frozenset({'Adult'}), items_add=frozenset({'Male', 'Died'}), confidence=0.6355810616929699, lift=1.0251307446660805), OrderedStatistic(items_base=frozenset({'Died'}), items_add=frozenset({'Adult', 'Male'}), confidence=0.8919463087248323, lift=1.1778402636222274), OrderedStatistic(items_base=frozenset({'Male'}), items_add=frozenset({'Adult', 'Died'}), confidence=0.7682080924855491, lift=1.1752835907289345), OrderedStatistic(items_base=frozenset({'Adult', 'Died'}), items_add=frozenset({'Male'}), confidence=0.9242002781641168, lift=1.1752835907289345), OrderedStatistic(items_base=frozenset({'Adult', 'Male'}), items_add=frozenset({'Died'}), confidence=0.7977190876350541, lift=1.1778402636222276), OrderedStatistic(items_base=frozenset({'Male', 'Died'}), items_add=frozenset({'Adult'}), confidence=0.9743401759530792, lift=1.0251307446660805)]),\n",
       " RelationRecord(items=frozenset({'Adult', 'SecondClass', 'Died'}), support=0.07590909090909091, ordered_statistics=[OrderedStatistic(items_base=frozenset({'SecondClass'}), items_add=frozenset({'Adult', 'Died'}), confidence=0.5859649122807018, lift=0.8964692677451627), OrderedStatistic(items_base=frozenset({'Adult', 'SecondClass'}), items_add=frozenset({'Died'}), confidence=0.6398467432950192, lift=0.9447401578852633), OrderedStatistic(items_base=frozenset({'SecondClass', 'Died'}), items_add=frozenset({'Adult'}), confidence=1.0, lift=1.052128168340507)]),\n",
       " RelationRecord(items=frozenset({'Adult', 'ThirdClass', 'Died'}), support=0.21636363636363637, ordered_statistics=[OrderedStatistic(items_base=frozenset({'Died'}), items_add=frozenset({'Adult', 'ThirdClass'}), confidence=0.3194630872483222, lift=1.1209231131520077), OrderedStatistic(items_base=frozenset({'ThirdClass'}), items_add=frozenset({'Adult', 'Died'}), confidence=0.6742209631728046, lift=1.0314924332268218), OrderedStatistic(items_base=frozenset({'Adult', 'Died'}), items_add=frozenset({'ThirdClass'}), confidence=0.33101529902642557, lift=1.0314924332268218), OrderedStatistic(items_base=frozenset({'Adult', 'ThirdClass'}), items_add=frozenset({'Died'}), confidence=0.759170653907496, lift=1.1209231131520077), OrderedStatistic(items_base=frozenset({'ThirdClass', 'Died'}), items_add=frozenset({'Adult'}), confidence=0.9015151515151516, lift=0.948509485094851)]),\n",
       " RelationRecord(items=frozenset({'Adult', 'Female', 'FirstClass'}), support=0.06545454545454546, ordered_statistics=[OrderedStatistic(items_base=frozenset({'Female'}), items_add=frozenset({'Adult', 'FirstClass'}), confidence=0.3063829787234043, lift=2.119630670413489), OrderedStatistic(items_base=frozenset({'FirstClass'}), items_add=frozenset({'Adult', 'Female'}), confidence=0.4444444444444445, lift=2.300653594771242), OrderedStatistic(items_base=frozenset({'Adult', 'Female'}), items_add=frozenset({'FirstClass'}), confidence=0.33882352941176475, lift=2.300653594771242), OrderedStatistic(items_base=frozenset({'Adult', 'FirstClass'}), items_add=frozenset({'Female'}), confidence=0.45283018867924535, lift=2.119630670413489), OrderedStatistic(items_base=frozenset({'Female', 'FirstClass'}), items_add=frozenset({'Adult'}), confidence=0.9931034482758623, lift=1.0448721120071243)]),\n",
       " RelationRecord(items=frozenset({'Adult', 'Female', 'SecondClass'}), support=0.042272727272727274, ordered_statistics=[OrderedStatistic(items_base=frozenset({'SecondClass'}), items_add=frozenset({'Adult', 'Female'}), confidence=0.3263157894736842, lift=1.6891640866873066), OrderedStatistic(items_base=frozenset({'Adult', 'SecondClass'}), items_add=frozenset({'Female'}), confidence=0.3563218390804598, lift=1.6678894595255565), OrderedStatistic(items_base=frozenset({'Female', 'SecondClass'}), items_add=frozenset({'Adult'}), confidence=0.8773584905660378, lift=0.9230935816572372)]),\n",
       " RelationRecord(items=frozenset({'Adult', 'Female', 'Survived'}), support=0.14363636363636365, ordered_statistics=[OrderedStatistic(items_base=frozenset({'Female'}), items_add=frozenset({'Adult', 'Survived'}), confidence=0.672340425531915, lift=2.265159167182562), OrderedStatistic(items_base=frozenset({'Survived'}), items_add=frozenset({'Adult', 'Female'}), confidence=0.4450704225352113, lift=2.3038939519469763), OrderedStatistic(items_base=frozenset({'Adult', 'Female'}), items_add=frozenset({'Survived'}), confidence=0.743529411764706, lift=2.3038939519469763), OrderedStatistic(items_base=frozenset({'Adult', 'Survived'}), items_add=frozenset({'Female'}), confidence=0.4839203675344564, lift=2.2651591671825617), OrderedStatistic(items_base=frozenset({'Female', 'Survived'}), items_add=frozenset({'Adult'}), confidence=0.9186046511627907, lift=0.9664898290569773)]),\n",
       " RelationRecord(items=frozenset({'Adult', 'Female', 'ThirdClass'}), support=0.075, ordered_statistics=[OrderedStatistic(items_base=frozenset({'Female'}), items_add=frozenset({'Adult', 'ThirdClass'}), confidence=0.35106382978723405, lift=1.2318029115341547), OrderedStatistic(items_base=frozenset({'Adult', 'Female'}), items_add=frozenset({'ThirdClass'}), confidence=0.38823529411764707, lift=1.2097983669388435), OrderedStatistic(items_base=frozenset({'Female', 'ThirdClass'}), items_add=frozenset({'Adult'}), confidence=0.8418367346938774, lift=0.8857201417152225)]),\n",
       " RelationRecord(items=frozenset({'Adult', 'FirstClass', 'Male'}), support=0.07909090909090909, ordered_statistics=[OrderedStatistic(items_base=frozenset({'FirstClass'}), items_add=frozenset({'Adult', 'Male'}), confidence=0.537037037037037, lift=0.7091725579120536), OrderedStatistic(items_base=frozenset({'Adult', 'FirstClass'}), items_add=frozenset({'Male'}), confidence=0.5471698113207547, lift=0.6958228814483586), OrderedStatistic(items_base=frozenset({'FirstClass', 'Male'}), items_add=frozenset({'Adult'}), confidence=0.9720670391061452, lift=1.0227391133589285)]),\n",
       " RelationRecord(items=frozenset({'Adult', 'FirstClass', 'Survived'}), support=0.0890909090909091, ordered_statistics=[OrderedStatistic(items_base=frozenset({'FirstClass'}), items_add=frozenset({'Adult', 'Survived'}), confidence=0.6049382716049383, lift=2.0380768721759024), OrderedStatistic(items_base=frozenset({'Adult', 'FirstClass'}), items_add=frozenset({'Survived'}), confidence=0.6163522012578617, lift=1.9098237222074588), OrderedStatistic(items_base=frozenset({'Adult', 'Survived'}), items_add=frozenset({'FirstClass'}), confidence=0.3001531393568147, lift=2.0380768721759024), OrderedStatistic(items_base=frozenset({'FirstClass', 'Survived'}), items_add=frozenset({'Adult'}), confidence=0.9702970297029704, lift=1.0208768366076206)]),\n",
       " RelationRecord(items=frozenset({'Adult', 'Male', 'SecondClass'}), support=0.07636363636363637, ordered_statistics=[OrderedStatistic(items_base=frozenset({'SecondClass'}), items_add=frozenset({'Adult', 'Male'}), confidence=0.5894736842105264, lift=0.7784166298098187), OrderedStatistic(items_base=frozenset({'Adult', 'SecondClass'}), items_add=frozenset({'Male'}), confidence=0.6436781609195403, lift=0.8185502624410339), OrderedStatistic(items_base=frozenset({'Male', 'SecondClass'}), items_add=frozenset({'Adult'}), confidence=0.9385474860335197, lift=0.9874722473810346)]),\n",
       " RelationRecord(items=frozenset({'Adult', 'Male', 'Survived'}), support=0.15318181818181817, ordered_statistics=[OrderedStatistic(items_base=frozenset({'Survived'}), items_add=frozenset({'Adult', 'Male'}), confidence=0.4746478873239436, lift=0.6267859256378606), OrderedStatistic(items_base=frozenset({'Adult', 'Survived'}), items_add=frozenset({'Male'}), confidence=0.5160796324655436, lift=0.6562862378174542), OrderedStatistic(items_base=frozenset({'Male', 'Survived'}), items_add=frozenset({'Adult'}), confidence=0.9207650273224044, lift=0.9687628216687182)]),\n",
       " RelationRecord(items=frozenset({'Adult', 'Male', 'ThirdClass'}), support=0.21, ordered_statistics=[OrderedStatistic(items_base=frozenset({'ThirdClass'}), items_add=frozenset({'Adult', 'Male'}), confidence=0.6543909348441926, lift=0.8641416906706024), OrderedStatistic(items_base=frozenset({'Adult', 'ThirdClass'}), items_add=frozenset({'Male'}), confidence=0.736842105263158, lift=0.9370246425311836), OrderedStatistic(items_base=frozenset({'Male', 'ThirdClass'}), items_add=frozenset({'Adult'}), confidence=0.9058823529411765, lift=0.9531043407319887)]),\n",
       " RelationRecord(items=frozenset({'Adult', 'Survived', 'SecondClass'}), support=0.042727272727272725, ordered_statistics=[OrderedStatistic(items_base=frozenset({'SecondClass'}), items_add=frozenset({'Adult', 'Survived'}), confidence=0.32982456140350874, lift=1.111200666290535), OrderedStatistic(items_base=frozenset({'Adult', 'SecondClass'}), items_add=frozenset({'Survived'}), confidence=0.36015325670498083, lift=1.1159678376774054), OrderedStatistic(items_base=frozenset({'Survived', 'SecondClass'}), items_add=frozenset({'Adult'}), confidence=0.7966101694915254, lift=0.8381359985085394)]),\n",
       " RelationRecord(items=frozenset({'Adult', 'Survived', 'ThirdClass'}), support=0.06863636363636363, ordered_statistics=[OrderedStatistic(items_base=frozenset({'Survived', 'ThirdClass'}), items_add=frozenset({'Adult'}), confidence=0.8483146067415731, lift=0.8925356933675088)]),\n",
       " RelationRecord(items=frozenset({'Male', 'Died', 'Child'}), support=0.015909090909090907, ordered_statistics=[OrderedStatistic(items_base=frozenset({'Child'}), items_add=frozenset({'Male', 'Died'}), confidence=0.3211009174311926, lift=0.5179047055341817), OrderedStatistic(items_base=frozenset({'Died', 'Child'}), items_add=frozenset({'Male'}), confidence=0.673076923076923, lift=0.8559359715429079), OrderedStatistic(items_base=frozenset({'Male', 'Child'}), items_add=frozenset({'Died'}), confidence=0.5468749999999999, lift=0.80746644295302)]),\n",
       " RelationRecord(items=frozenset({'ThirdClass', 'Died', 'Child'}), support=0.023636363636363636, ordered_statistics=[OrderedStatistic(items_base=frozenset({'Child'}), items_add=frozenset({'ThirdClass', 'Died'}), confidence=0.4770642201834862, lift=1.9877675840978593), OrderedStatistic(items_base=frozenset({'Died', 'Child'}), items_add=frozenset({'ThirdClass'}), confidence=1.0, lift=3.1161473087818696), OrderedStatistic(items_base=frozenset({'ThirdClass', 'Child'}), items_add=frozenset({'Died'}), confidence=0.6582278481012658, lift=0.9718800441763656)]),\n",
       " RelationRecord(items=frozenset({'Female', 'Survived', 'Child'}), support=0.012727272727272728, ordered_statistics=[OrderedStatistic(items_base=frozenset({'Female', 'Child'}), items_add=frozenset({'Survived'}), confidence=0.6222222222222222, lift=1.9280125195618152), OrderedStatistic(items_base=frozenset({'Survived', 'Child'}), items_add=frozenset({'Female'}), confidence=0.4912280701754386, lift=2.2993654348637556)]),\n",
       " RelationRecord(items=frozenset({'Female', 'ThirdClass', 'Child'}), support=0.014090909090909091, ordered_statistics=[OrderedStatistic(items_base=frozenset({'Female', 'Child'}), items_add=frozenset({'ThirdClass'}), confidence=0.6888888888888889, lift=2.1466792571608435), OrderedStatistic(items_base=frozenset({'ThirdClass', 'Child'}), items_add=frozenset({'Female'}), confidence=0.3924050632911392, lift=1.8367896579585241)]),\n",
       " RelationRecord(items=frozenset({'Male', 'Survived', 'Child'}), support=0.013181818181818182, ordered_statistics=[OrderedStatistic(items_base=frozenset({'Male', 'Child'}), items_add=frozenset({'Survived'}), confidence=0.453125, lift=1.4040492957746478), OrderedStatistic(items_base=frozenset({'Survived', 'Child'}), items_add=frozenset({'Male'}), confidence=0.5087719298245614, lift=0.6469932055572457)]),\n",
       " RelationRecord(items=frozenset({'Male', 'ThirdClass', 'Child'}), support=0.02181818181818182, ordered_statistics=[OrderedStatistic(items_base=frozenset({'Child'}), items_add=frozenset({'Male', 'ThirdClass'}), confidence=0.44036697247706424, lift=1.899622234214787), OrderedStatistic(items_base=frozenset({'Male', 'Child'}), items_add=frozenset({'ThirdClass'}), confidence=0.7500000000000001, lift=2.3371104815864023), OrderedStatistic(items_base=frozenset({'ThirdClass', 'Child'}), items_add=frozenset({'Male'}), confidence=0.6075949367088608, lift=0.7726640813638692)]),\n",
       " RelationRecord(items=frozenset({'Survived', 'SecondClass', 'Child'}), support=0.01090909090909091, ordered_statistics=[OrderedStatistic(items_base=frozenset({'SecondClass', 'Child'}), items_add=frozenset({'Survived'}), confidence=1.0, lift=3.0985915492957745), OrderedStatistic(items_base=frozenset({'Survived', 'Child'}), items_add=frozenset({'SecondClass'}), confidence=0.4210526315789474, lift=3.250230840258541)]),\n",
       " RelationRecord(items=frozenset({'Survived', 'ThirdClass', 'Child'}), support=0.012272727272727272, ordered_statistics=[OrderedStatistic(items_base=frozenset({'Survived', 'Child'}), items_add=frozenset({'ThirdClass'}), confidence=0.47368421052631576, lift=1.4760697778440435), OrderedStatistic(items_base=frozenset({'ThirdClass', 'Child'}), items_add=frozenset({'Survived'}), confidence=0.3417721518987341, lift=1.0590123016580493)]),\n",
       " RelationRecord(items=frozenset({'Crew', 'Male', 'Died'}), support=0.30454545454545456, ordered_statistics=[OrderedStatistic(items_base=frozenset(), items_add=frozenset({'Crew', 'Male', 'Died'}), confidence=0.30454545454545456, lift=1.0), OrderedStatistic(items_base=frozenset({'Crew'}), items_add=frozenset({'Male', 'Died'}), confidence=0.7570621468926554, lift=1.2210679788591217), OrderedStatistic(items_base=frozenset({'Died'}), items_add=frozenset({'Crew', 'Male'}), confidence=0.44966442953020136, lift=1.1476354349958735), OrderedStatistic(items_base=frozenset({'Male'}), items_add=frozenset({'Crew', 'Died'}), confidence=0.3872832369942197, lift=1.2660076097879396), OrderedStatistic(items_base=frozenset({'Crew', 'Died'}), items_add=frozenset({'Male'}), confidence=0.9955423476968797, lift=1.2660076097879394), OrderedStatistic(items_base=frozenset({'Crew', 'Male'}), items_add=frozenset({'Died'}), confidence=0.777262180974478, lift=1.1476354349958735), OrderedStatistic(items_base=frozenset({'Male', 'Died'}), items_add=frozenset({'Crew'}), confidence=0.4912023460410557, lift=1.2210679788591217)]),\n",
       " RelationRecord(items=frozenset({'Crew', 'Male', 'Survived'}), support=0.08727272727272728, ordered_statistics=[OrderedStatistic(items_base=frozenset({'Crew', 'Survived'}), items_add=frozenset({'Male'}), confidence=0.9056603773584907, lift=1.1517068382593523), OrderedStatistic(items_base=frozenset({'Male', 'Survived'}), items_add=frozenset({'Crew'}), confidence=0.5245901639344263, lift=1.3040659442437714)]),\n",
       " RelationRecord(items=frozenset({'Female', 'ThirdClass', 'Died'}), support=0.04818181818181818, ordered_statistics=[OrderedStatistic(items_base=frozenset({'Female', 'Died'}), items_add=frozenset({'ThirdClass'}), confidence=0.8412698412698412, lift=2.621520751832366), OrderedStatistic(items_base=frozenset({'Female', 'ThirdClass'}), items_add=frozenset({'Died'}), confidence=0.5408163265306122, lift=0.7985207505821119)]),\n",
       " RelationRecord(items=frozenset({'Male', 'FirstClass', 'Died'}), support=0.053636363636363635, ordered_statistics=[OrderedStatistic(items_base=frozenset({'FirstClass'}), items_add=frozenset({'Male', 'Died'}), confidence=0.3641975308641975, lift=0.5874153723616089), OrderedStatistic(items_base=frozenset({'FirstClass', 'Died'}), items_add=frozenset({'Male'}), confidence=0.9672131147540983, lift=1.2299819956410498), OrderedStatistic(items_base=frozenset({'FirstClass', 'Male'}), items_add=frozenset({'Died'}), confidence=0.659217877094972, lift=0.9733418319523077)]),\n",
       " RelationRecord(items=frozenset({'Male', 'SecondClass', 'Died'}), support=0.07, ordered_statistics=[OrderedStatistic(items_base=frozenset({'SecondClass'}), items_add=frozenset({'Male', 'Died'}), confidence=0.5403508771929825, lift=0.8715336728919072), OrderedStatistic(items_base=frozenset({'SecondClass', 'Died'}), items_add=frozenset({'Male'}), confidence=0.9221556886227545, lift=1.1726835346647746), OrderedStatistic(items_base=frozenset({'Male', 'SecondClass'}), items_add=frozenset({'Died'}), confidence=0.8603351955307263, lift=1.2702935772936899)]),\n",
       " RelationRecord(items=frozenset({'Male', 'ThirdClass', 'Died'}), support=0.1918181818181818, ordered_statistics=[OrderedStatistic(items_base=frozenset({'ThirdClass'}), items_add=frozenset({'Male', 'Died'}), confidence=0.5977337110481585, lift=0.9640866307228364), OrderedStatistic(items_base=frozenset({'Male', 'Died'}), items_add=frozenset({'ThirdClass'}), confidence=0.3093841642228739, lift=0.9640866307228365), OrderedStatistic(items_base=frozenset({'ThirdClass', 'Died'}), items_add=frozenset({'Male'}), confidence=0.7992424242424242, lift=1.0163776493256262), OrderedStatistic(items_base=frozenset({'Male', 'ThirdClass'}), items_add=frozenset({'Died'}), confidence=0.8274509803921568, lift=1.2217397025924464)]),\n",
       " RelationRecord(items=frozenset({'Female', 'FirstClass', 'Survived'}), support=0.06409090909090909, ordered_statistics=[OrderedStatistic(items_base=frozenset({'Female'}), items_add=frozenset({'FirstClass', 'Survived'}), confidence=0.3, lift=3.2673267326732676), OrderedStatistic(items_base=frozenset({'FirstClass'}), items_add=frozenset({'Female', 'Survived'}), confidence=0.4351851851851851, lift=2.7831610680447882), OrderedStatistic(items_base=frozenset({'Female', 'FirstClass'}), items_add=frozenset({'Survived'}), confidence=0.9724137931034483, lift=3.013113161728995), OrderedStatistic(items_base=frozenset({'Female', 'Survived'}), items_add=frozenset({'FirstClass'}), confidence=0.4098837209302325, lift=2.7831610680447887), OrderedStatistic(items_base=frozenset({'FirstClass', 'Survived'}), items_add=frozenset({'Female'}), confidence=0.698019801980198, lift=3.267326732673267)]),\n",
       " RelationRecord(items=frozenset({'Female', 'Survived', 'SecondClass'}), support=0.042272727272727274, ordered_statistics=[OrderedStatistic(items_base=frozenset({'SecondClass'}), items_add=frozenset({'Female', 'Survived'}), confidence=0.3263157894736842, lift=2.086903304773562), OrderedStatistic(items_base=frozenset({'Female', 'SecondClass'}), items_add=frozenset({'Survived'}), confidence=0.8773584905660378, lift=2.718575604570821), OrderedStatistic(items_base=frozenset({'Survived', 'SecondClass'}), items_add=frozenset({'Female'}), confidence=0.788135593220339, lift=3.6891453299675443)]),\n",
       " RelationRecord(items=frozenset({'Female', 'Survived', 'ThirdClass'}), support=0.04090909090909091, ordered_statistics=[OrderedStatistic(items_base=frozenset({'Female', 'ThirdClass'}), items_add=frozenset({'Survived'}), confidence=0.4591836734693877, lift=1.422822650186835), OrderedStatistic(items_base=frozenset({'Survived', 'ThirdClass'}), items_add=frozenset({'Female'}), confidence=0.5056179775280899, lift=2.3667224480038254)]),\n",
       " RelationRecord(items=frozenset({'FirstClass', 'Survived', 'Male'}), support=0.02772727272727273, ordered_statistics=[OrderedStatistic(items_base=frozenset({'FirstClass', 'Male'}), items_add=frozenset({'Survived'}), confidence=0.34078212290502796, lift=1.0559446061845936), OrderedStatistic(items_base=frozenset({'FirstClass', 'Survived'}), items_add=frozenset({'Male'}), confidence=0.301980198019802, lift=0.3840210610656442)]),\n",
       " RelationRecord(items=frozenset({'Male', 'Survived', 'ThirdClass'}), support=0.04, ordered_statistics=[OrderedStatistic(items_base=frozenset({'Survived', 'ThirdClass'}), items_add=frozenset({'Male'}), confidence=0.49438202247191015, lift=0.6286939014093655)]),\n",
       " RelationRecord(items=frozenset({'Adult', 'Male', 'Crew', 'Died'}), support=0.30454545454545456, ordered_statistics=[OrderedStatistic(items_base=frozenset(), items_add=frozenset({'Adult', 'Male', 'Crew', 'Died'}), confidence=0.30454545454545456, lift=1.0), OrderedStatistic(items_base=frozenset({'Adult'}), items_add=frozenset({'Crew', 'Male', 'Died'}), confidence=0.3204208512673362, lift=1.0521281683405068), OrderedStatistic(items_base=frozenset({'Crew'}), items_add=frozenset({'Adult', 'Male', 'Died'}), confidence=0.7570621468926554, lift=1.2532255253302045), OrderedStatistic(items_base=frozenset({'Died'}), items_add=frozenset({'Adult', 'Male', 'Crew'}), confidence=0.44966442953020136, lift=1.1476354349958735), OrderedStatistic(items_base=frozenset({'Male'}), items_add=frozenset({'Adult', 'Crew', 'Died'}), confidence=0.3872832369942197, lift=1.2660076097879396), OrderedStatistic(items_base=frozenset({'Adult', 'Crew'}), items_add=frozenset({'Male', 'Died'}), confidence=0.7570621468926554, lift=1.2210679788591217), OrderedStatistic(items_base=frozenset({'Adult', 'Died'}), items_add=frozenset({'Crew', 'Male'}), confidence=0.4659248956884562, lift=1.1891354646341108), OrderedStatistic(items_base=frozenset({'Adult', 'Male'}), items_add=frozenset({'Crew', 'Died'}), confidence=0.4021608643457383, lift=1.314641755662146), OrderedStatistic(items_base=frozenset({'Crew', 'Died'}), items_add=frozenset({'Adult', 'Male'}), confidence=0.9955423476968797, lift=1.314641755662146), OrderedStatistic(items_base=frozenset({'Crew', 'Male'}), items_add=frozenset({'Adult', 'Died'}), confidence=0.777262180974478, lift=1.1891354646341108), OrderedStatistic(items_base=frozenset({'Male', 'Died'}), items_add=frozenset({'Adult', 'Crew'}), confidence=0.4912023460410557, lift=1.2210679788591217), OrderedStatistic(items_base=frozenset({'Adult', 'Crew', 'Died'}), items_add=frozenset({'Male'}), confidence=0.9955423476968797, lift=1.2660076097879394), OrderedStatistic(items_base=frozenset({'Adult', 'Male', 'Crew'}), items_add=frozenset({'Died'}), confidence=0.777262180974478, lift=1.1476354349958735), OrderedStatistic(items_base=frozenset({'Adult', 'Male', 'Died'}), items_add=frozenset({'Crew'}), confidence=0.5041384499623778, lift=1.2532255253302047), OrderedStatistic(items_base=frozenset({'Crew', 'Male', 'Died'}), items_add=frozenset({'Adult'}), confidence=1.0, lift=1.052128168340507)]),\n",
       " RelationRecord(items=frozenset({'Adult', 'Survived', 'Male', 'Crew'}), support=0.08727272727272728, ordered_statistics=[OrderedStatistic(items_base=frozenset({'Adult', 'Survived'}), items_add=frozenset({'Crew', 'Male'}), confidence=0.29402756508422667, lift=0.7504183795653117), OrderedStatistic(items_base=frozenset({'Crew', 'Survived'}), items_add=frozenset({'Adult', 'Male'}), confidence=0.9056603773584907, lift=1.1959500781444654), OrderedStatistic(items_base=frozenset({'Male', 'Survived'}), items_add=frozenset({'Adult', 'Crew'}), confidence=0.5245901639344263, lift=1.3040659442437714), OrderedStatistic(items_base=frozenset({'Adult', 'Survived', 'Crew'}), items_add=frozenset({'Male'}), confidence=0.9056603773584907, lift=1.1517068382593523), OrderedStatistic(items_base=frozenset({'Adult', 'Male', 'Survived'}), items_add=frozenset({'Crew'}), confidence=0.5697329376854601, lift=1.4162852688226126), OrderedStatistic(items_base=frozenset({'Crew', 'Male', 'Survived'}), items_add=frozenset({'Adult'}), confidence=1.0, lift=1.052128168340507)]),\n",
       " RelationRecord(items=frozenset({'Adult', 'Female', 'ThirdClass', 'Died'}), support=0.04045454545454545, ordered_statistics=[OrderedStatistic(items_base=frozenset({'Female', 'Died'}), items_add=frozenset({'Adult', 'ThirdClass'}), confidence=0.7063492063492063, lift=2.478418267891952), OrderedStatistic(items_base=frozenset({'Female', 'ThirdClass'}), items_add=frozenset({'Adult', 'Died'}), confidence=0.4540816326530612, lift=0.6947006897334732), OrderedStatistic(items_base=frozenset({'Adult', 'Female', 'Died'}), items_add=frozenset({'ThirdClass'}), confidence=0.8165137614678899, lift=2.5443771603815266), OrderedStatistic(items_base=frozenset({'Adult', 'Female', 'ThirdClass'}), items_add=frozenset({'Died'}), confidence=0.5393939393939394, lift=0.796420581655481), OrderedStatistic(items_base=frozenset({'Female', 'ThirdClass', 'Died'}), items_add=frozenset({'Adult'}), confidence=0.8396226415094339, lift=0.8833906319085387)]),\n",
       " RelationRecord(items=frozenset({'Adult', 'Male', 'FirstClass', 'Died'}), support=0.053636363636363635, ordered_statistics=[OrderedStatistic(items_base=frozenset({'FirstClass'}), items_add=frozenset({'Adult', 'Male', 'Died'}), confidence=0.3641975308641975, lift=0.6028853031611997), OrderedStatistic(items_base=frozenset({'Adult', 'FirstClass'}), items_add=frozenset({'Male', 'Died'}), confidence=0.37106918238993714, lift=0.5984986812740921), OrderedStatistic(items_base=frozenset({'FirstClass', 'Died'}), items_add=frozenset({'Adult', 'Male'}), confidence=0.9672131147540983, lift=1.2772322043571527), OrderedStatistic(items_base=frozenset({'FirstClass', 'Male'}), items_add=frozenset({'Adult', 'Died'}), confidence=0.659217877094972, lift=1.0085391721898043), OrderedStatistic(items_base=frozenset({'Adult', 'FirstClass', 'Died'}), items_add=frozenset({'Male'}), confidence=0.9672131147540983, lift=1.2299819956410498), OrderedStatistic(items_base=frozenset({'Adult', 'FirstClass', 'Male'}), items_add=frozenset({'Died'}), confidence=0.67816091954023, lift=1.0013114248245005), OrderedStatistic(items_base=frozenset({'Male', 'FirstClass', 'Died'}), items_add=frozenset({'Adult'}), confidence=1.0, lift=1.052128168340507)]),\n",
       " RelationRecord(items=frozenset({'Adult', 'Male', 'SecondClass', 'Died'}), support=0.07, ordered_statistics=[OrderedStatistic(items_base=frozenset({'SecondClass'}), items_add=frozenset({'Adult', 'Male', 'Died'}), confidence=0.5403508771929825, lift=0.8944860269560281), OrderedStatistic(items_base=frozenset({'Adult', 'SecondClass'}), items_add=frozenset({'Male', 'Died'}), confidence=0.5900383141762453, lift=0.9516747002842666), OrderedStatistic(items_base=frozenset({'SecondClass', 'Died'}), items_add=frozenset({'Adult', 'Male'}), confidence=0.9221556886227545, lift=1.2177326020228452), OrderedStatistic(items_base=frozenset({'Male', 'SecondClass'}), items_add=frozenset({'Adult', 'Died'}), confidence=0.8603351955307263, lift=1.3162290891290667), OrderedStatistic(items_base=frozenset({'Adult', 'SecondClass', 'Died'}), items_add=frozenset({'Male'}), confidence=0.9221556886227545, lift=1.1726835346647746), OrderedStatistic(items_base=frozenset({'Adult', 'Male', 'SecondClass'}), items_add=frozenset({'Died'}), confidence=0.9166666666666666, lift=1.3534675615212528), OrderedStatistic(items_base=frozenset({'Male', 'SecondClass', 'Died'}), items_add=frozenset({'Adult'}), confidence=1.0, lift=1.052128168340507)]),\n",
       " RelationRecord(items=frozenset({'Adult', 'Male', 'ThirdClass', 'Died'}), support=0.1759090909090909, ordered_statistics=[OrderedStatistic(items_base=frozenset({'ThirdClass'}), items_add=frozenset({'Adult', 'Male', 'Died'}), confidence=0.5481586402266289, lift=0.9074108416091674), OrderedStatistic(items_base=frozenset({'Adult', 'ThirdClass'}), items_add=frozenset({'Male', 'Died'}), confidence=0.6172248803827751, lift=0.9955240006173792), OrderedStatistic(items_base=frozenset({'ThirdClass', 'Died'}), items_add=frozenset({'Adult', 'Male'}), confidence=0.7329545454545454, lift=0.9678871548619447), OrderedStatistic(items_base=frozenset({'Male', 'ThirdClass'}), items_add=frozenset({'Adult', 'Died'}), confidence=0.7588235294117647, lift=1.1609261228830892), OrderedStatistic(items_base=frozenset({'Adult', 'Male', 'Died'}), items_add=frozenset({'ThirdClass'}), confidence=0.291196388261851, lift=0.9074108416091674), OrderedStatistic(items_base=frozenset({'Adult', 'ThirdClass', 'Died'}), items_add=frozenset({'Male'}), confidence=0.8130252100840336, lift=1.0339048914363433), OrderedStatistic(items_base=frozenset({'Adult', 'Male', 'ThirdClass'}), items_add=frozenset({'Died'}), confidence=0.8376623376623377, lift=1.236816874400767), OrderedStatistic(items_base=frozenset({'Male', 'ThirdClass', 'Died'}), items_add=frozenset({'Adult'}), confidence=0.9170616113744077, lift=0.9648663534307493)]),\n",
       " RelationRecord(items=frozenset({'Adult', 'Female', 'FirstClass', 'Survived'}), support=0.06363636363636363, ordered_statistics=[OrderedStatistic(items_base=frozenset({'Female'}), items_add=frozenset({'Adult', 'FirstClass', 'Survived'}), confidence=0.2978723404255319, lift=3.343465045592705), OrderedStatistic(items_base=frozenset({'FirstClass'}), items_add=frozenset({'Adult', 'Female', 'Survived'}), confidence=0.4320987654320987, lift=3.0082825441475225), OrderedStatistic(items_base=frozenset({'Adult', 'Female'}), items_add=frozenset({'FirstClass', 'Survived'}), confidence=0.32941176470588235, lift=3.5876528829353527), OrderedStatistic(items_base=frozenset({'Adult', 'FirstClass'}), items_add=frozenset({'Female', 'Survived'}), confidence=0.44025157232704404, lift=2.815562381161328), OrderedStatistic(items_base=frozenset({'Female', 'FirstClass'}), items_add=frozenset({'Adult', 'Survived'}), confidence=0.9655172413793103, lift=3.252891165443312), OrderedStatistic(items_base=frozenset({'Female', 'Survived'}), items_add=frozenset({'Adult', 'FirstClass'}), confidence=0.40697674418604646, lift=2.8155623811613277), OrderedStatistic(items_base=frozenset({'FirstClass', 'Survived'}), items_add=frozenset({'Adult', 'Female'}), confidence=0.693069306930693, lift=3.5876528829353522), OrderedStatistic(items_base=frozenset({'Adult', 'Female', 'FirstClass'}), items_add=frozenset({'Survived'}), confidence=0.9722222222222221, lift=3.0125195618153358), OrderedStatistic(items_base=frozenset({'Adult', 'Female', 'Survived'}), items_add=frozenset({'FirstClass'}), confidence=0.4430379746835442, lift=3.0082825441475225), OrderedStatistic(items_base=frozenset({'Adult', 'FirstClass', 'Survived'}), items_add=frozenset({'Female'}), confidence=0.7142857142857142, lift=3.343465045592705), OrderedStatistic(items_base=frozenset({'Female', 'FirstClass', 'Survived'}), items_add=frozenset({'Adult'}), confidence=0.9929078014184397, lift=1.0446662664373827)]),\n",
       " RelationRecord(items=frozenset({'Adult', 'Female', 'Survived', 'SecondClass'}), support=0.03636363636363636, ordered_statistics=[OrderedStatistic(items_base=frozenset({'Adult', 'SecondClass'}), items_add=frozenset({'Female', 'Survived'}), confidence=0.3065134099616858, lift=1.9602601799875254), OrderedStatistic(items_base=frozenset({'Female', 'SecondClass'}), items_add=frozenset({'Adult', 'Survived'}), confidence=0.7547169811320754, lift=2.5426912074893813), OrderedStatistic(items_base=frozenset({'Survived', 'SecondClass'}), items_add=frozenset({'Adult', 'Female'}), confidence=0.6779661016949152, lift=3.5094715852442673), OrderedStatistic(items_base=frozenset({'Adult', 'Female', 'SecondClass'}), items_add=frozenset({'Survived'}), confidence=0.8602150537634408, lift=2.6654550961684076), OrderedStatistic(items_base=frozenset({'Adult', 'Survived', 'SecondClass'}), items_add=frozenset({'Female'}), confidence=0.851063829787234, lift=3.983703033046628), OrderedStatistic(items_base=frozenset({'Female', 'Survived', 'SecondClass'}), items_add=frozenset({'Adult'}), confidence=0.8602150537634408, lift=0.9050564888950596)]),\n",
       " RelationRecord(items=frozenset({'Adult', 'Female', 'Survived', 'ThirdClass'}), support=0.034545454545454546, ordered_statistics=[OrderedStatistic(items_base=frozenset({'Female', 'ThirdClass'}), items_add=frozenset({'Adult', 'Survived'}), confidence=0.3877551020408163, lift=1.3063724724192893), OrderedStatistic(items_base=frozenset({'Survived', 'ThirdClass'}), items_add=frozenset({'Adult', 'Female'}), confidence=0.4269662921348315, lift=2.2101784534038336), OrderedStatistic(items_base=frozenset({'Adult', 'Female', 'ThirdClass'}), items_add=frozenset({'Survived'}), confidence=0.46060606060606063, lift=1.4272300469483568), OrderedStatistic(items_base=frozenset({'Adult', 'Survived', 'ThirdClass'}), items_add=frozenset({'Female'}), confidence=0.5033112582781457, lift=2.3559250387487674), OrderedStatistic(items_base=frozenset({'Female', 'Survived', 'ThirdClass'}), items_add=frozenset({'Adult'}), confidence=0.8444444444444444, lift=0.8884637865986503)]),\n",
       " RelationRecord(items=frozenset({'Adult', 'FirstClass', 'Survived', 'Male'}), support=0.025454545454545455, ordered_statistics=[OrderedStatistic(items_base=frozenset({'FirstClass', 'Male'}), items_add=frozenset({'Adult', 'Survived'}), confidence=0.3128491620111732, lift=1.0540094279090062), OrderedStatistic(items_base=frozenset({'Adult', 'FirstClass', 'Male'}), items_add=frozenset({'Survived'}), confidence=0.32183908045977017, lift=0.9972478549457666), OrderedStatistic(items_base=frozenset({'FirstClass', 'Survived', 'Male'}), items_add=frozenset({'Adult'}), confidence=0.9180327868852459, lift=0.9658881545421047)]),\n",
       " RelationRecord(items=frozenset({'Adult', 'Male', 'Survived', 'ThirdClass'}), support=0.03409090909090909, ordered_statistics=[OrderedStatistic(items_base=frozenset({'Survived', 'ThirdClass'}), items_add=frozenset({'Adult', 'Male'}), confidence=0.42134831460674155, lift=0.5564023362153849), OrderedStatistic(items_base=frozenset({'Adult', 'Survived', 'ThirdClass'}), items_add=frozenset({'Male'}), confidence=0.4966887417218543, lift=0.6316273016116066), OrderedStatistic(items_base=frozenset({'Male', 'Survived', 'ThirdClass'}), items_add=frozenset({'Adult'}), confidence=0.8522727272727272, lift=0.8967001434720229)]),\n",
       " RelationRecord(items=frozenset({'Male', 'ThirdClass', 'Died', 'Child'}), support=0.015909090909090907, ordered_statistics=[OrderedStatistic(items_base=frozenset({'Child'}), items_add=frozenset({'Male', 'ThirdClass', 'Died'}), confidence=0.3211009174311926, lift=1.6739858254706725), OrderedStatistic(items_base=frozenset({'Died', 'Child'}), items_add=frozenset({'Male', 'ThirdClass'}), confidence=0.673076923076923, lift=2.903469079939668), OrderedStatistic(items_base=frozenset({'Male', 'Child'}), items_add=frozenset({'ThirdClass', 'Died'}), confidence=0.5468749999999999, lift=2.278645833333333), OrderedStatistic(items_base=frozenset({'ThirdClass', 'Child'}), items_add=frozenset({'Male', 'Died'}), confidence=0.4430379746835442, lift=0.7145773785218456), OrderedStatistic(items_base=frozenset({'Male', 'Died', 'Child'}), items_add=frozenset({'ThirdClass'}), confidence=1.0, lift=3.1161473087818696), OrderedStatistic(items_base=frozenset({'ThirdClass', 'Died', 'Child'}), items_add=frozenset({'Male'}), confidence=0.673076923076923, lift=0.8559359715429079), OrderedStatistic(items_base=frozenset({'Male', 'ThirdClass', 'Child'}), items_add=frozenset({'Died'}), confidence=0.7291666666666665, lift=1.07662192393736)])]"
      ]
     },
     "execution_count": 12,
     "metadata": {},
     "output_type": "execute_result"
    }
   ],
   "source": [
    "association_results"
   ]
  },
  {
   "cell_type": "code",
   "execution_count": 14,
   "id": "f1a77935",
   "metadata": {},
   "outputs": [],
   "source": [
    "file = open('titanic.rules', 'w')\n",
    "for i in association_results:\n",
    "    file.write(str(i))\n",
    "file.close()"
   ]
  },
  {
   "cell_type": "code",
   "execution_count": null,
   "id": "0ed87588",
   "metadata": {},
   "outputs": [],
   "source": []
  }
 ],
 "metadata": {
  "kernelspec": {
   "display_name": "Python 3 (ipykernel)",
   "language": "python",
   "name": "python3"
  },
  "language_info": {
   "codemirror_mode": {
    "name": "ipython",
    "version": 3
   },
   "file_extension": ".py",
   "mimetype": "text/x-python",
   "name": "python",
   "nbconvert_exporter": "python",
   "pygments_lexer": "ipython3",
   "version": "3.9.12"
  }
 },
 "nbformat": 4,
 "nbformat_minor": 5
}

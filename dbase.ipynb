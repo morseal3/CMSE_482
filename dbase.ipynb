{
 "cells": [
  {
   "cell_type": "code",
   "execution_count": 1,
   "metadata": {},
   "outputs": [
    {
     "data": {
      "text/html": [
       "<div>\n",
       "<style scoped>\n",
       "    .dataframe tbody tr th:only-of-type {\n",
       "        vertical-align: middle;\n",
       "    }\n",
       "\n",
       "    .dataframe tbody tr th {\n",
       "        vertical-align: top;\n",
       "    }\n",
       "\n",
       "    .dataframe thead th {\n",
       "        text-align: right;\n",
       "    }\n",
       "</style>\n",
       "<table border=\"1\" class=\"dataframe\">\n",
       "  <thead>\n",
       "    <tr style=\"text-align: right;\">\n",
       "      <th></th>\n",
       "      <th>RevisionId</th>\n",
       "      <th>ArticleName</th>\n",
       "      <th>Timestamp</th>\n",
       "      <th>Editor</th>\n",
       "    </tr>\n",
       "  </thead>\n",
       "  <tbody>\n",
       "    <tr>\n",
       "      <th>0</th>\n",
       "      <td>9019643</td>\n",
       "      <td>Anarchism</td>\n",
       "      <td>2005-01-01</td>\n",
       "      <td>ip:24.136.172.37</td>\n",
       "    </tr>\n",
       "    <tr>\n",
       "      <th>1</th>\n",
       "      <td>9062018</td>\n",
       "      <td>Anarchism</td>\n",
       "      <td>2005-01-03</td>\n",
       "      <td>ip:137.53.22.23</td>\n",
       "    </tr>\n",
       "    <tr>\n",
       "      <th>2</th>\n",
       "      <td>9085524</td>\n",
       "      <td>Anarchism</td>\n",
       "      <td>2005-01-03</td>\n",
       "      <td>ip:24.42.90.254</td>\n",
       "    </tr>\n",
       "    <tr>\n",
       "      <th>3</th>\n",
       "      <td>9140836</td>\n",
       "      <td>Anarchism</td>\n",
       "      <td>2005-01-06</td>\n",
       "      <td>ip:69.61.184.201</td>\n",
       "    </tr>\n",
       "  </tbody>\n",
       "</table>\n",
       "</div>"
      ],
      "text/plain": [
       "   RevisionId ArticleName   Timestamp            Editor\n",
       "0     9019643   Anarchism  2005-01-01  ip:24.136.172.37\n",
       "1     9062018   Anarchism  2005-01-03   ip:137.53.22.23\n",
       "2     9085524   Anarchism  2005-01-03   ip:24.42.90.254\n",
       "3     9140836   Anarchism  2005-01-06  ip:69.61.184.201"
      ]
     },
     "execution_count": 1,
     "metadata": {},
     "output_type": "execute_result"
    }
   ],
   "source": [
    "import pandas as p\n",
    "column_names = ['RevisionId', 'ArticleName', 'Timestamp', 'Editor']\n",
    "data = p.read_table('wiki_edit.txt',sep=' ',header=None,names=column_names)\n",
    "data[:4]"
   ]
  },
  {
   "cell_type": "code",
   "execution_count": 2,
   "metadata": {},
   "outputs": [],
   "source": [
    "uname = \"morseal3\"\n",
    "pwd = \"jNlNs2023\"\n",
    "hname = \"mysql-user-cse.egr.msu.edu\""
   ]
  },
  {
   "cell_type": "code",
   "execution_count": 3,
   "metadata": {},
   "outputs": [
    {
     "name": "stdout",
     "output_type": "stream",
     "text": [
      "<class 'mysql.connector.errors.Error'>\n"
     ]
    }
   ],
   "source": [
    "import mysql.connector\n",
    "from mysql.connector import errorcode\n",
    "\n",
    "try:\n",
    "    cnx = mysql.connector.connect(user=uname, password=pwd, host=hname, database=uname)\n",
    "    cursor = cnx.cursor()\n",
    "    query = \"DROP TABLE IF EXISTS Wiki_Edit\"\n",
    "    cursor.execute(query)\n",
    "\n",
    "    query = \"\"\"CREATE TABLE IF NOT EXISTS Wiki_Edit (RevId int PRIMARY KEY,\n",
    "                                ArticleName varchar(100),EditDate date,User varchar(50))\n",
    "            \"\"\"\n",
    "    cursor.execute(query)\n",
    "    cursor.close()\n",
    "    cnx.close()\n",
    "    cnx.commit()\n",
    "except:\n",
    "    print(mysql.connector.Error)\n"
   ]
  },
  {
   "cell_type": "code",
   "execution_count": 4,
   "metadata": {},
   "outputs": [
    {
     "name": "stdout",
     "output_type": "stream",
     "text": [
      "<class 'mysql.connector.errors.Error'>\n"
     ]
    }
   ],
   "source": [
    "def byUnicode(char):\n",
    "    if ord(char) < 48 or ord(char) > 127: return ''\n",
    "    else: return char\n",
    "\n",
    "try:\n",
    "    cnx = mysql.connector.connect(user=uname, password=pwd, host=hname, database=uname)\n",
    "    cursor = cnx.cursor()\n",
    "    \n",
    "    for index, row in data.iterrows():\n",
    "        rid = row['RevisionId']\n",
    "        Article = filter(byUnicode, row['ArticleName'])\n",
    "        EditDate = row['Timestamp']\n",
    "        User = row['Editor']\n",
    "        if index < 100:\n",
    "            query = \"INSERT INTO Wiki_Edit VALUES (\" + str(rid) + \",'\" \n",
    "            query += Article + \"','\" + EditDate + \"','\"+ User + \"')\"\"\"\n",
    "            cursor.execute(query)\n",
    "        \n",
    "    cnx.commit()\n",
    "    cursor.close()\n",
    "    cnx.close()\n",
    "    \n",
    "except:\n",
    "    print(mysql.connector.Error)   "
   ]
  },
  {
   "cell_type": "code",
   "execution_count": 6,
   "metadata": {},
   "outputs": [],
   "source": [
    "try:\n",
    "    cnx = mysql.connector.connect(user=uname, password=pwd, host=hname, database=uname)\n",
    "    cursor = cnx.cursor()\n",
    "    query = \"SELECT * FROM Wiki_Edit\"\n",
    "    cursor.execute(query)\n",
    "    \n",
    "    for (rid, article, edate, user) in cursor:\n",
    "        print (rid, article, edate, user) \n",
    "\n",
    "    cursor.close()\n",
    "    cnx.close()\n",
    "    \n",
    "except:\n",
    "    print(mysql.connector.Error) "
   ]
  },
  {
   "cell_type": "code",
   "execution_count": null,
   "metadata": {},
   "outputs": [],
   "source": []
  }
 ],
 "metadata": {
  "anaconda-cloud": {},
  "kernelspec": {
   "display_name": "Python 3",
   "language": "python",
   "name": "python3"
  },
  "language_info": {
   "codemirror_mode": {
    "name": "ipython",
    "version": 3
   },
   "file_extension": ".py",
   "mimetype": "text/x-python",
   "name": "python",
   "nbconvert_exporter": "python",
   "pygments_lexer": "ipython3",
   "version": "3.8.8"
  }
 },
 "nbformat": 4,
 "nbformat_minor": 1
}

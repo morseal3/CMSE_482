{
 "cells": [
  {
   "cell_type": "markdown",
   "id": "4fc693cf",
   "metadata": {},
   "source": [
    "### Exercise 4\n",
    "\n",
    "#### 1."
   ]
  },
  {
   "cell_type": "code",
   "execution_count": 1,
   "id": "ff1997e4",
   "metadata": {},
   "outputs": [],
   "source": [
    "import pandas as pd\n",
    "import numpy as np\n",
    "from pandas import Series\n",
    "%matplotlib inline\n",
    "import scipy.stats as stats"
   ]
  },
  {
   "cell_type": "code",
   "execution_count": 2,
   "id": "6a781e9c",
   "metadata": {},
   "outputs": [],
   "source": [
    "data = pd.read_csv('msft.csv')"
   ]
  },
  {
   "cell_type": "markdown",
   "id": "84cbcb83",
   "metadata": {},
   "source": [
    "#### 2."
   ]
  },
  {
   "cell_type": "markdown",
   "id": "ce676d53",
   "metadata": {},
   "source": [
    "##### a)"
   ]
  },
  {
   "cell_type": "code",
   "execution_count": 3,
   "id": "bbdb9eee",
   "metadata": {},
   "outputs": [
    {
     "data": {
      "text/html": [
       "<div>\n",
       "<style scoped>\n",
       "    .dataframe tbody tr th:only-of-type {\n",
       "        vertical-align: middle;\n",
       "    }\n",
       "\n",
       "    .dataframe tbody tr th {\n",
       "        vertical-align: top;\n",
       "    }\n",
       "\n",
       "    .dataframe thead th {\n",
       "        text-align: right;\n",
       "    }\n",
       "</style>\n",
       "<table border=\"1\" class=\"dataframe\">\n",
       "  <thead>\n",
       "    <tr style=\"text-align: right;\">\n",
       "      <th></th>\n",
       "      <th>Date</th>\n",
       "      <th>Open</th>\n",
       "      <th>High</th>\n",
       "      <th>Low</th>\n",
       "      <th>Close</th>\n",
       "      <th>Volume</th>\n",
       "      <th>Adj Close</th>\n",
       "    </tr>\n",
       "  </thead>\n",
       "  <tbody>\n",
       "    <tr>\n",
       "      <th>0</th>\n",
       "      <td>12/30/2016</td>\n",
       "      <td>62.959999</td>\n",
       "      <td>62.990002</td>\n",
       "      <td>62.029999</td>\n",
       "      <td>62.139999</td>\n",
       "      <td>25465900</td>\n",
       "      <td>62.139999</td>\n",
       "    </tr>\n",
       "    <tr>\n",
       "      <th>1</th>\n",
       "      <td>12/29/2016</td>\n",
       "      <td>62.860001</td>\n",
       "      <td>63.200001</td>\n",
       "      <td>62.730000</td>\n",
       "      <td>62.900002</td>\n",
       "      <td>10181600</td>\n",
       "      <td>62.900002</td>\n",
       "    </tr>\n",
       "    <tr>\n",
       "      <th>2</th>\n",
       "      <td>12/28/2016</td>\n",
       "      <td>63.400002</td>\n",
       "      <td>63.400002</td>\n",
       "      <td>62.830002</td>\n",
       "      <td>62.990002</td>\n",
       "      <td>14247400</td>\n",
       "      <td>62.990002</td>\n",
       "    </tr>\n",
       "    <tr>\n",
       "      <th>3</th>\n",
       "      <td>12/27/2016</td>\n",
       "      <td>63.209999</td>\n",
       "      <td>64.070000</td>\n",
       "      <td>63.209999</td>\n",
       "      <td>63.279999</td>\n",
       "      <td>11583900</td>\n",
       "      <td>63.279999</td>\n",
       "    </tr>\n",
       "    <tr>\n",
       "      <th>4</th>\n",
       "      <td>12/23/2016</td>\n",
       "      <td>63.450001</td>\n",
       "      <td>63.540001</td>\n",
       "      <td>62.799999</td>\n",
       "      <td>63.240002</td>\n",
       "      <td>12398000</td>\n",
       "      <td>63.240002</td>\n",
       "    </tr>\n",
       "  </tbody>\n",
       "</table>\n",
       "</div>"
      ],
      "text/plain": [
       "         Date       Open       High        Low      Close    Volume  Adj Close\n",
       "0  12/30/2016  62.959999  62.990002  62.029999  62.139999  25465900  62.139999\n",
       "1  12/29/2016  62.860001  63.200001  62.730000  62.900002  10181600  62.900002\n",
       "2  12/28/2016  63.400002  63.400002  62.830002  62.990002  14247400  62.990002\n",
       "3  12/27/2016  63.209999  64.070000  63.209999  63.279999  11583900  63.279999\n",
       "4  12/23/2016  63.450001  63.540001  62.799999  63.240002  12398000  63.240002"
      ]
     },
     "execution_count": 3,
     "metadata": {},
     "output_type": "execute_result"
    }
   ],
   "source": [
    "data.head()"
   ]
  },
  {
   "cell_type": "markdown",
   "id": "a19a919d",
   "metadata": {},
   "source": [
    "##### b)"
   ]
  },
  {
   "cell_type": "code",
   "execution_count": 4,
   "id": "595dec5c",
   "metadata": {},
   "outputs": [
    {
     "data": {
      "text/html": [
       "<div>\n",
       "<style scoped>\n",
       "    .dataframe tbody tr th:only-of-type {\n",
       "        vertical-align: middle;\n",
       "    }\n",
       "\n",
       "    .dataframe tbody tr th {\n",
       "        vertical-align: top;\n",
       "    }\n",
       "\n",
       "    .dataframe thead th {\n",
       "        text-align: right;\n",
       "    }\n",
       "</style>\n",
       "<table border=\"1\" class=\"dataframe\">\n",
       "  <thead>\n",
       "    <tr style=\"text-align: right;\">\n",
       "      <th></th>\n",
       "      <th>Open</th>\n",
       "      <th>High</th>\n",
       "      <th>Low</th>\n",
       "      <th>Close</th>\n",
       "      <th>Volume</th>\n",
       "      <th>Adj Close</th>\n",
       "    </tr>\n",
       "  </thead>\n",
       "  <tbody>\n",
       "    <tr>\n",
       "      <th>count</th>\n",
       "      <td>2518.000000</td>\n",
       "      <td>2518.000000</td>\n",
       "      <td>2518.000000</td>\n",
       "      <td>2518.000000</td>\n",
       "      <td>2.518000e+03</td>\n",
       "      <td>2518.000000</td>\n",
       "    </tr>\n",
       "    <tr>\n",
       "      <th>mean</th>\n",
       "      <td>33.980318</td>\n",
       "      <td>34.312530</td>\n",
       "      <td>33.654591</td>\n",
       "      <td>33.993987</td>\n",
       "      <td>5.296776e+07</td>\n",
       "      <td>30.456126</td>\n",
       "    </tr>\n",
       "    <tr>\n",
       "      <th>std</th>\n",
       "      <td>10.536277</td>\n",
       "      <td>10.589226</td>\n",
       "      <td>10.491077</td>\n",
       "      <td>10.549777</td>\n",
       "      <td>2.908349e+07</td>\n",
       "      <td>11.711547</td>\n",
       "    </tr>\n",
       "    <tr>\n",
       "      <th>min</th>\n",
       "      <td>15.200000</td>\n",
       "      <td>15.620000</td>\n",
       "      <td>14.870000</td>\n",
       "      <td>15.150000</td>\n",
       "      <td>8.370500e+06</td>\n",
       "      <td>12.381153</td>\n",
       "    </tr>\n",
       "    <tr>\n",
       "      <th>25%</th>\n",
       "      <td>26.760000</td>\n",
       "      <td>27.000000</td>\n",
       "      <td>26.480000</td>\n",
       "      <td>26.770000</td>\n",
       "      <td>3.370250e+07</td>\n",
       "      <td>22.349302</td>\n",
       "    </tr>\n",
       "    <tr>\n",
       "      <th>50%</th>\n",
       "      <td>29.969999</td>\n",
       "      <td>30.219999</td>\n",
       "      <td>29.730000</td>\n",
       "      <td>29.980000</td>\n",
       "      <td>4.754195e+07</td>\n",
       "      <td>25.306450</td>\n",
       "    </tr>\n",
       "    <tr>\n",
       "      <th>75%</th>\n",
       "      <td>41.369999</td>\n",
       "      <td>41.682499</td>\n",
       "      <td>41.040001</td>\n",
       "      <td>41.475000</td>\n",
       "      <td>6.389458e+07</td>\n",
       "      <td>39.035395</td>\n",
       "    </tr>\n",
       "    <tr>\n",
       "      <th>max</th>\n",
       "      <td>63.840000</td>\n",
       "      <td>64.099998</td>\n",
       "      <td>63.410000</td>\n",
       "      <td>63.619999</td>\n",
       "      <td>3.193179e+08</td>\n",
       "      <td>63.619999</td>\n",
       "    </tr>\n",
       "  </tbody>\n",
       "</table>\n",
       "</div>"
      ],
      "text/plain": [
       "              Open         High          Low        Close        Volume  \\\n",
       "count  2518.000000  2518.000000  2518.000000  2518.000000  2.518000e+03   \n",
       "mean     33.980318    34.312530    33.654591    33.993987  5.296776e+07   \n",
       "std      10.536277    10.589226    10.491077    10.549777  2.908349e+07   \n",
       "min      15.200000    15.620000    14.870000    15.150000  8.370500e+06   \n",
       "25%      26.760000    27.000000    26.480000    26.770000  3.370250e+07   \n",
       "50%      29.969999    30.219999    29.730000    29.980000  4.754195e+07   \n",
       "75%      41.369999    41.682499    41.040001    41.475000  6.389458e+07   \n",
       "max      63.840000    64.099998    63.410000    63.619999  3.193179e+08   \n",
       "\n",
       "         Adj Close  \n",
       "count  2518.000000  \n",
       "mean     30.456126  \n",
       "std      11.711547  \n",
       "min      12.381153  \n",
       "25%      22.349302  \n",
       "50%      25.306450  \n",
       "75%      39.035395  \n",
       "max      63.619999  "
      ]
     },
     "execution_count": 4,
     "metadata": {},
     "output_type": "execute_result"
    }
   ],
   "source": [
    "data.describe()"
   ]
  },
  {
   "cell_type": "markdown",
   "id": "28cc1f1d",
   "metadata": {},
   "source": [
    "##### c)"
   ]
  },
  {
   "cell_type": "code",
   "execution_count": 5,
   "id": "ed42946b",
   "metadata": {},
   "outputs": [
    {
     "data": {
      "text/plain": [
       "0       62.139999\n",
       "1       62.900002\n",
       "2       62.990002\n",
       "3       63.279999\n",
       "4       63.240002\n",
       "          ...    \n",
       "2513    29.959999\n",
       "2514    29.930000\n",
       "2515    29.639999\n",
       "2516    29.809999\n",
       "2517    29.860001\n",
       "Name: Close, Length: 2518, dtype: float64"
      ]
     },
     "execution_count": 5,
     "metadata": {},
     "output_type": "execute_result"
    }
   ],
   "source": [
    "closing = data['Close']\n",
    "closing"
   ]
  },
  {
   "cell_type": "markdown",
   "id": "59e295e3",
   "metadata": {},
   "source": [
    "##### d)"
   ]
  },
  {
   "cell_type": "code",
   "execution_count": 6,
   "id": "b61bf7ea",
   "metadata": {},
   "outputs": [
    {
     "data": {
      "text/plain": [
       "12/29/2016   -0.760003\n",
       "12/28/2016   -0.090000\n",
       "12/27/2016   -0.289997\n",
       "12/23/2016    0.039997\n",
       "12/22/2016   -0.309997\n",
       "dtype: float64"
      ]
     },
     "execution_count": 6,
     "metadata": {},
     "output_type": "execute_result"
    }
   ],
   "source": [
    "cdate = data['Date'].values\n",
    "cdate = cdate[1:]\n",
    "N = closing.size\n",
    "change = closing[:N-1].values-closing[1:].values\n",
    "changeData = Series(change, index=cdate)\n",
    "changeData.head()"
   ]
  },
  {
   "cell_type": "markdown",
   "id": "3f2d0b78",
   "metadata": {},
   "source": [
    "##### e)"
   ]
  },
  {
   "cell_type": "code",
   "execution_count": 7,
   "id": "d6b45452",
   "metadata": {},
   "outputs": [
    {
     "data": {
      "text/plain": [
       "<AxesSubplot:>"
      ]
     },
     "execution_count": 7,
     "metadata": {},
     "output_type": "execute_result"
    },
    {
     "data": {
      "image/png": "[encoded data removed]",
      "text/plain": [
       "<Figure size 432x288 with 1 Axes>"
      ]
     },
     "metadata": {
      "needs_background": "light"
     },
     "output_type": "display_data"
    }
   ],
   "source": [
    "changeData.hist()"
   ]
  },
  {
   "cell_type": "markdown",
   "id": "d47cf2a4",
   "metadata": {},
   "source": [
    "##### f)"
   ]
  },
  {
   "cell_type": "code",
   "execution_count": 8,
   "id": "a7b66bee",
   "metadata": {},
   "outputs": [
    {
     "name": "stdout",
     "output_type": "stream",
     "text": [
      "[4.228494198687093, 4.951713183549201, 5.322140655749363, 8.514889645552804, 7.9680637710985485, 4.14029852545753, 7.033172700957248, 5.339780143185015]\n"
     ]
    }
   ],
   "source": [
    "zscores = stats.zscore(changeData)\n",
    "msk = [ l for l in zscores if l>4]\n",
    "print (msk)"
   ]
  },
  {
   "cell_type": "markdown",
   "id": "63bf8d4f",
   "metadata": {},
   "source": [
    "##### g)"
   ]
  },
  {
   "cell_type": "code",
   "execution_count": 9,
   "id": "8f303dc9",
   "metadata": {},
   "outputs": [
    {
     "name": "stdout",
     "output_type": "stream",
     "text": [
      "[-7.078417247571804, -4.591249519143552, -7.695795779922474, -7.1489734333657085, -4.026782393304911, -4.238459770430326]\n"
     ]
    }
   ],
   "source": [
    "zscores = stats.zscore(changeData)\n",
    "msk = [ l for l in zscores if l<-4]\n",
    "print (msk)"
   ]
  },
  {
   "cell_type": "markdown",
   "id": "79dc600f",
   "metadata": {},
   "source": [
    "#### 3."
   ]
  },
  {
   "cell_type": "markdown",
   "id": "6da660ca",
   "metadata": {},
   "source": [
    "##### a) EQUAL WIDTH "
   ]
  },
  {
   "cell_type": "code",
   "execution_count": 10,
   "id": "4c90cf22",
   "metadata": {
    "scrolled": true
   },
   "outputs": [
    {
     "data": {
      "text/plain": [
       "0    (53.926, 63.62]\n",
       "1    (53.926, 63.62]\n",
       "2    (53.926, 63.62]\n",
       "3    (53.926, 63.62]\n",
       "4    (53.926, 63.62]\n",
       "Name: Close, dtype: category\n",
       "Categories (5, interval[float64]): [(15.102, 24.844] < (24.844, 34.538] < (34.538, 44.232] < (44.232, 53.926] < (53.926, 63.62]]"
      ]
     },
     "execution_count": 10,
     "metadata": {},
     "output_type": "execute_result"
    }
   ],
   "source": [
    "bins = pd.cut(closing,5)\n",
    "bins.head()"
   ]
  },
  {
   "cell_type": "markdown",
   "id": "69983c54",
   "metadata": {},
   "source": [
    "##### b) EQUAL FREQUENCY"
   ]
  },
  {
   "cell_type": "code",
   "execution_count": 11,
   "id": "7e6e9f61",
   "metadata": {},
   "outputs": [
    {
     "data": {
      "text/plain": [
       "0    (41.475, 63.62]\n",
       "1    (41.475, 63.62]\n",
       "2    (41.475, 63.62]\n",
       "3    (41.475, 63.62]\n",
       "4    (41.475, 63.62]\n",
       "Name: Close, dtype: category\n",
       "Categories (4, interval[float64]): [(15.149000000000001, 26.77] < (26.77, 29.98] < (29.98, 41.475] < (41.475, 63.62]]"
      ]
     },
     "execution_count": 11,
     "metadata": {},
     "output_type": "execute_result"
    }
   ],
   "source": [
    "bins = pd.qcut(closing,[0,0.25,0.5,0.75,1])\n",
    "bins.head()"
   ]
  }
 ],
 "metadata": {
  "kernelspec": {
   "display_name": "Python 3",
   "language": "python",
   "name": "python3"
  },
  "language_info": {
   "codemirror_mode": {
    "name": "ipython",
    "version": 3
   },
   "file_extension": ".py",
   "mimetype": "text/x-python",
   "name": "python",
   "nbconvert_exporter": "python",
   "pygments_lexer": "ipython3",
   "version": "3.8.8"
  }
 },
 "nbformat": 4,
 "nbformat_minor": 5
}
